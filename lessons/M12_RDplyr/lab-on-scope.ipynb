{
 "cells": [
  {
   "cell_type": "markdown",
   "id": "756c1406",
   "metadata": {},
   "source": [
    "# Python Scope Exercise\n",
    "* Author: Pete Alonzi (datascientist@virginia.edu)\n",
    "\n",
    "### University of Virginia\n",
    "### DS 5100: Programming for Data Science\n",
    "### Last Updated: April 5, 2021\n",
    "---"
   ]
  },
  {
   "cell_type": "markdown",
   "id": "2e6d37ce",
   "metadata": {},
   "source": [
    "## reading list\n",
    "* https://en.wikipedia.org/wiki/Scope_(computer_science)"
   ]
  },
  {
   "cell_type": "markdown",
   "id": "1099bf83",
   "metadata": {},
   "source": [
    "### This lab is all about understanding errors and bugs produced by scope.\n",
    "If you aren't familiar with the term scope, please see the wiki page in the readinglist.\n",
    "\n",
    "**NB:** Every programming language is different. Today we are working in python, do not assume the details transfer. But the concepts will.\n",
    "\n",
    "---  "
   ]
  },
  {
   "cell_type": "markdown",
   "id": "f2b05595",
   "metadata": {},
   "source": [
    "### Step 1: Pre-test\n",
    "In this step read the following code and predict what will happen. I cannot stress enough how important it is to take the time to predict no matter how easy or hard you may think it to be. For each block predict what the output will be. Record your results for each snippet (ie: right or wrong)"
   ]
  },
  {
   "cell_type": "code",
   "execution_count": 1,
   "id": "86af8d80",
   "metadata": {},
   "outputs": [
    {
     "ename": "NameError",
     "evalue": "name 'x' is not defined",
     "output_type": "error",
     "traceback": [
      "\u001b[1;31m-------------------------------------------------------------------\u001b[0m",
      "\u001b[1;31mNameError\u001b[0m                         Traceback (most recent call last)",
      "\u001b[1;32m<ipython-input-1-7fd27b0b97b8>\u001b[0m in \u001b[0;36m<module>\u001b[1;34m\u001b[0m\n\u001b[0;32m      3\u001b[0m     \u001b[0mprint\u001b[0m\u001b[1;33m(\u001b[0m\u001b[0mx\u001b[0m\u001b[1;33m)\u001b[0m\u001b[1;33m\u001b[0m\u001b[1;33m\u001b[0m\u001b[0m\n\u001b[0;32m      4\u001b[0m \u001b[1;33m\u001b[0m\u001b[0m\n\u001b[1;32m----> 5\u001b[1;33m \u001b[0mprint_me\u001b[0m\u001b[1;33m(\u001b[0m\u001b[1;33m)\u001b[0m\u001b[1;33m\u001b[0m\u001b[1;33m\u001b[0m\u001b[0m\n\u001b[0m",
      "\u001b[1;32m<ipython-input-1-7fd27b0b97b8>\u001b[0m in \u001b[0;36mprint_me\u001b[1;34m()\u001b[0m\n\u001b[0;32m      1\u001b[0m \u001b[1;31m# Snippet 1\u001b[0m\u001b[1;33m\u001b[0m\u001b[1;33m\u001b[0m\u001b[1;33m\u001b[0m\u001b[0m\n\u001b[0;32m      2\u001b[0m \u001b[1;32mdef\u001b[0m \u001b[0mprint_me\u001b[0m\u001b[1;33m(\u001b[0m\u001b[1;33m)\u001b[0m\u001b[1;33m:\u001b[0m\u001b[1;33m\u001b[0m\u001b[1;33m\u001b[0m\u001b[0m\n\u001b[1;32m----> 3\u001b[1;33m     \u001b[0mprint\u001b[0m\u001b[1;33m(\u001b[0m\u001b[0mx\u001b[0m\u001b[1;33m)\u001b[0m\u001b[1;33m\u001b[0m\u001b[1;33m\u001b[0m\u001b[0m\n\u001b[0m\u001b[0;32m      4\u001b[0m \u001b[1;33m\u001b[0m\u001b[0m\n\u001b[0;32m      5\u001b[0m \u001b[0mprint_me\u001b[0m\u001b[1;33m(\u001b[0m\u001b[1;33m)\u001b[0m\u001b[1;33m\u001b[0m\u001b[1;33m\u001b[0m\u001b[0m\n",
      "\u001b[1;31mNameError\u001b[0m: name 'x' is not defined"
     ]
    }
   ],
   "source": [
    "# Snippet 1\n",
    "def print_me():\n",
    "    print(x)\n",
    "\n",
    "print_me()"
   ]
  },
  {
   "cell_type": "code",
   "execution_count": 2,
   "id": "a8d704fc",
   "metadata": {},
   "outputs": [
    {
     "name": "stdout",
     "output_type": "stream",
     "text": [
      "5\n"
     ]
    }
   ],
   "source": [
    "# Snippet 2\n",
    "def print_me():\n",
    "    x=5\n",
    "    print(x)\n",
    "    \n",
    "print_me()"
   ]
  },
  {
   "cell_type": "code",
   "execution_count": 3,
   "id": "b10f0f98",
   "metadata": {},
   "outputs": [
    {
     "ename": "NameError",
     "evalue": "name 'x' is not defined",
     "output_type": "error",
     "traceback": [
      "\u001b[1;31m-------------------------------------------------------------------\u001b[0m",
      "\u001b[1;31mNameError\u001b[0m                         Traceback (most recent call last)",
      "\u001b[1;32m<ipython-input-3-f848e68f36ba>\u001b[0m in \u001b[0;36m<module>\u001b[1;34m\u001b[0m\n\u001b[0;32m      1\u001b[0m \u001b[1;31m# Snippet 3\u001b[0m\u001b[1;33m\u001b[0m\u001b[1;33m\u001b[0m\u001b[1;33m\u001b[0m\u001b[0m\n\u001b[1;32m----> 2\u001b[1;33m \u001b[0mprint\u001b[0m\u001b[1;33m(\u001b[0m\u001b[0mx\u001b[0m\u001b[1;33m)\u001b[0m\u001b[1;33m\u001b[0m\u001b[1;33m\u001b[0m\u001b[0m\n\u001b[0m",
      "\u001b[1;31mNameError\u001b[0m: name 'x' is not defined"
     ]
    }
   ],
   "source": [
    "# Snippet 3\n",
    "print(x)"
   ]
  },
  {
   "cell_type": "code",
   "execution_count": 4,
   "id": "ea6ab3f0",
   "metadata": {},
   "outputs": [
    {
     "name": "stdout",
     "output_type": "stream",
     "text": [
      "5\n"
     ]
    }
   ],
   "source": [
    "# Snippet 4\n",
    "x = 7\n",
    "print_me()"
   ]
  },
  {
   "cell_type": "code",
   "execution_count": 5,
   "id": "a679c406",
   "metadata": {},
   "outputs": [
    {
     "name": "stdout",
     "output_type": "stream",
     "text": [
      "5\n",
      "7\n"
     ]
    }
   ],
   "source": [
    "# Snippet 5\n",
    "x = 7\n",
    "print_me()\n",
    "print(x)"
   ]
  },
  {
   "cell_type": "code",
   "execution_count": 6,
   "id": "c59bf7eb",
   "metadata": {},
   "outputs": [
    {
     "ename": "TypeError",
     "evalue": "print_me() missing 1 required positional argument: 'x'",
     "output_type": "error",
     "traceback": [
      "\u001b[1;31m-------------------------------------------------------------------\u001b[0m",
      "\u001b[1;31mTypeError\u001b[0m                         Traceback (most recent call last)",
      "\u001b[1;32m<ipython-input-6-db6c4b1ea70d>\u001b[0m in \u001b[0;36m<module>\u001b[1;34m\u001b[0m\n\u001b[0;32m      5\u001b[0m \u001b[1;33m\u001b[0m\u001b[0m\n\u001b[0;32m      6\u001b[0m \u001b[0mx\u001b[0m \u001b[1;33m=\u001b[0m \u001b[1;36m9\u001b[0m\u001b[1;33m\u001b[0m\u001b[1;33m\u001b[0m\u001b[0m\n\u001b[1;32m----> 7\u001b[1;33m \u001b[0mprint_me\u001b[0m\u001b[1;33m(\u001b[0m\u001b[1;33m)\u001b[0m\u001b[1;33m\u001b[0m\u001b[1;33m\u001b[0m\u001b[0m\n\u001b[0m\u001b[0;32m      8\u001b[0m \u001b[0mprint_me\u001b[0m\u001b[1;33m(\u001b[0m\u001b[0mx\u001b[0m\u001b[1;33m)\u001b[0m\u001b[1;33m\u001b[0m\u001b[1;33m\u001b[0m\u001b[0m\n\u001b[0;32m      9\u001b[0m \u001b[0mprint_me\u001b[0m\u001b[1;33m(\u001b[0m\u001b[1;33m)\u001b[0m\u001b[1;33m\u001b[0m\u001b[1;33m\u001b[0m\u001b[0m\n",
      "\u001b[1;31mTypeError\u001b[0m: print_me() missing 1 required positional argument: 'x'"
     ]
    }
   ],
   "source": [
    "# Snippet 6\n",
    "\n",
    "def print_me(x):\n",
    "    print(x)\n",
    "    \n",
    "x = 9\n",
    "print_me()\n",
    "print_me(x)\n",
    "print_me()\n",
    "print(x)"
   ]
  },
  {
   "cell_type": "code",
   "execution_count": 7,
   "id": "e5423a9e",
   "metadata": {},
   "outputs": [
    {
     "name": "stdout",
     "output_type": "stream",
     "text": [
      "5\n",
      "9\n",
      "5\n",
      "9\n"
     ]
    }
   ],
   "source": [
    "# Snippet 7\n",
    "def print_me(x=5):\n",
    "    print(x)\n",
    "    \n",
    "x = 9\n",
    "print_me()\n",
    "print_me(x)\n",
    "print_me()\n",
    "print(x)"
   ]
  },
  {
   "cell_type": "markdown",
   "id": "25b873a8",
   "metadata": {},
   "source": [
    "### Step 2: lock it in\n",
    "1. Find a curious person. Explain to them why you got the ones you got right right and why you got the ones you got wrong wrong.\n",
    "\n",
    "2. Answer any follow up questions they may have."
   ]
  },
  {
   "cell_type": "code",
   "execution_count": null,
   "id": "99764bf5",
   "metadata": {},
   "outputs": [],
   "source": []
  }
 ],
 "metadata": {
  "kernelspec": {
   "display_name": "Python 3",
   "language": "python",
   "name": "python3"
  },
  "language_info": {
   "codemirror_mode": {
    "name": "ipython",
    "version": 3
   },
   "file_extension": ".py",
   "mimetype": "text/x-python",
   "name": "python",
   "nbconvert_exporter": "python",
   "pygments_lexer": "ipython3",
   "version": "3.8.10"
  },
  "widgets": {
   "application/vnd.jupyter.widget-state+json": {
    "state": {},
    "version_major": 2,
    "version_minor": 0
   }
  }
 },
 "nbformat": 4,
 "nbformat_minor": 5
}

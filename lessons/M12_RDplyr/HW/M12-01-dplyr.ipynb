{
 "cells": [
  {
   "cell_type": "markdown",
   "id": "a45f22d5-6047-44c7-9798-e3cafd7845b7",
   "metadata": {},
   "source": [
    "# Metadata \n",
    "\n",
    "```yaml\n",
    "Course:  DS 5100\n",
    "Module:  13 R Programming 2\n",
    "Topic:   The 5 verbs of dplyr\n",
    "Author:  R.C. Alvarado (adapted from Ben Stenhaug [1])\n",
    "```\n",
    "\n",
    "[1] [Source](https://teachingr.com/content/the-5-verbs-of-dplyr/the-5-verbs-of-dplyr-article.html)"
   ]
  },
  {
   "cell_type": "markdown",
   "id": "bcb35fa7-95ef-4096-8b5f-e7243a770049",
   "metadata": {},
   "source": [
    "# Getting started\n",
    "\n",
    "As always, the first thing we will do is load the tidyverse.\n",
    "\n",
    "Note: If you haven’t yet installed the tidyverse, you’ll first have to\n",
    "run following:"
   ]
  },
  {
   "cell_type": "code",
   "execution_count": 2,
   "id": "3dc016d3-b4d0-4c17-b069-3693985561a5",
   "metadata": {},
   "outputs": [
    {
     "name": "stdout",
     "output_type": "stream",
     "text": [
      "\n",
      "The downloaded binary packages are in\n",
      "\t/var/folders/14/rnyfspnx2q131jp_752t9fc80000gn/T//RtmpeBhj7l/downloaded_packages\n"
     ]
    }
   ],
   "source": [
    "install.packages(\"tidyverse\")"
   ]
  },
  {
   "cell_type": "code",
   "execution_count": 4,
   "id": "26a9ad6e-ff90-481f-b691-db3b7d3880f6",
   "metadata": {},
   "outputs": [],
   "source": [
    "library(tidyverse)"
   ]
  },
  {
   "cell_type": "markdown",
   "id": "1723daa5-1157-4b59-ad27-f7e174f61f17",
   "metadata": {},
   "source": [
    "The Tidyverse is a collection of packages made by Hadley Wickham. \n",
    "\n",
    "One of the key packages in that collection is called `dplyr`. \n",
    "\n",
    "The magic of dplyr is that with just a handful of commands (the verbs of\n",
    "dplyr), you can do nearly anything you’d want to do with your data.\n",
    "\n",
    "This article will cover the five verbs of dplyr: select, filter,\n",
    "arrange, mutate, and summarize.\n",
    "\n",
    "Before we walk through each command, let’s make a data frame to play\n",
    "with.\n",
    "\n",
    "Notice that dplyr uses `data_frame()` while basic R uses `data.frame()`."
   ]
  },
  {
   "cell_type": "code",
   "execution_count": 81,
   "id": "2d2885c0-9384-42f2-8620-f256cc3a2b56",
   "metadata": {},
   "outputs": [],
   "source": [
    "hamsters <- data_frame(\n",
    "        name = c(\"Megan\", \"Amy\", \"Jen\", \"Karl\", \"Jeremy\"),\n",
    "        gender = c(\"female\", \"female\", \"female\", \"male\", \"male\"),\n",
    "        hamsters = c(5, 7, 6, 2, 1),\n",
    "        hamster_cages = c(2, 1, 3, 3, 4)\n",
    "    )"
   ]
  },
  {
   "cell_type": "code",
   "execution_count": 64,
   "id": "6eecc278-9f1b-4c83-93f8-b4e932c0e472",
   "metadata": {},
   "outputs": [
    {
     "data": {
      "text/html": [
       "<table class=\"dataframe\">\n",
       "<caption>A tibble: 5 × 4</caption>\n",
       "<thead>\n",
       "\t<tr><th scope=col>name</th><th scope=col>gender</th><th scope=col>hamsters</th><th scope=col>hamster_cages</th></tr>\n",
       "\t<tr><th scope=col>&lt;chr&gt;</th><th scope=col>&lt;chr&gt;</th><th scope=col>&lt;dbl&gt;</th><th scope=col>&lt;dbl&gt;</th></tr>\n",
       "</thead>\n",
       "<tbody>\n",
       "\t<tr><td>Megan </td><td>female</td><td>5</td><td>2</td></tr>\n",
       "\t<tr><td>Amy   </td><td>female</td><td>7</td><td>1</td></tr>\n",
       "\t<tr><td>Jen   </td><td>female</td><td>6</td><td>3</td></tr>\n",
       "\t<tr><td>Karl  </td><td>male  </td><td>2</td><td>3</td></tr>\n",
       "\t<tr><td>Jeremy</td><td>male  </td><td>1</td><td>4</td></tr>\n",
       "</tbody>\n",
       "</table>\n"
      ],
      "text/latex": [
       "A tibble: 5 × 4\n",
       "\\begin{tabular}{llll}\n",
       " name & gender & hamsters & hamster\\_cages\\\\\n",
       " <chr> & <chr> & <dbl> & <dbl>\\\\\n",
       "\\hline\n",
       "\t Megan  & female & 5 & 2\\\\\n",
       "\t Amy    & female & 7 & 1\\\\\n",
       "\t Jen    & female & 6 & 3\\\\\n",
       "\t Karl   & male   & 2 & 3\\\\\n",
       "\t Jeremy & male   & 1 & 4\\\\\n",
       "\\end{tabular}\n"
      ],
      "text/markdown": [
       "\n",
       "A tibble: 5 × 4\n",
       "\n",
       "| name &lt;chr&gt; | gender &lt;chr&gt; | hamsters &lt;dbl&gt; | hamster_cages &lt;dbl&gt; |\n",
       "|---|---|---|---|\n",
       "| Megan  | female | 5 | 2 |\n",
       "| Amy    | female | 7 | 1 |\n",
       "| Jen    | female | 6 | 3 |\n",
       "| Karl   | male   | 2 | 3 |\n",
       "| Jeremy | male   | 1 | 4 |\n",
       "\n"
      ],
      "text/plain": [
       "  name   gender hamsters hamster_cages\n",
       "1 Megan  female 5        2            \n",
       "2 Amy    female 7        1            \n",
       "3 Jen    female 6        3            \n",
       "4 Karl   male   2        3            \n",
       "5 Jeremy male   1        4            "
      ]
     },
     "metadata": {},
     "output_type": "display_data"
    }
   ],
   "source": [
    "hamsters"
   ]
  },
  {
   "cell_type": "markdown",
   "id": "863ad35b-d989-4345-8af5-9b19624163fa",
   "metadata": {},
   "source": [
    "Don’t worry too much about the above code, but you might stop and\n",
    "inspect it. \n",
    "\n",
    "Notice that we’re creating a data frame named hamsters. \n",
    "\n",
    "The first column is name and then we list the names. `c()` is the R function\n",
    "concatenate; its how we stick multiple things together. \n",
    "\n",
    "All strings (aka words) need to have quotes around them. \n",
    "\n",
    "The second column is gender and so on.\n",
    "\n",
    "By just running the name of the data frame, `hamsters`, it will show it to\n",
    "us and tell us a little bit about it. \n",
    "\n",
    "The 5 x 4 says it has 5 rows and 4 columns. \n",
    "\n",
    "Each column has a type: \n",
    "* name and gender are which stands for characters, \n",
    "* and the other columns are which stands for double and is another word for number."
   ]
  },
  {
   "cell_type": "markdown",
   "id": "99533438-cbc2-408c-bb30-44a7ff3cc9b8",
   "metadata": {},
   "source": [
    "Now that we have a data frame to work with, we can dive into the 5 verbs\n",
    "of dplyr. The code blocks below will show small little examples of what\n",
    "is possible. Before doing something with hamsters, I’ll typically print\n",
    "the original hamsters data frame first because the easiest way to see\n",
    "what a function is doing is to see a before and after."
   ]
  },
  {
   "cell_type": "markdown",
   "id": "452b2301-0985-4034-adef-cdaec36428ba",
   "metadata": {},
   "source": [
    "# Arrange\n",
    "\n",
    "Arrange keeps all of the information in the data frame, but just **changes\n",
    "the order of the rows**. \n",
    "\n",
    "This is the same thing that the **sort** in most other languages and applications, e.g. Excel, SQL, and Pandas.\n",
    "\n",
    "By default, arranging happens in ascending order:"
   ]
  },
  {
   "cell_type": "code",
   "execution_count": 65,
   "id": "79c838aa-f423-4d81-832d-340a35b656e7",
   "metadata": {},
   "outputs": [
    {
     "data": {
      "text/html": [
       "<table class=\"dataframe\">\n",
       "<caption>A tibble: 5 × 4</caption>\n",
       "<thead>\n",
       "\t<tr><th scope=col>name</th><th scope=col>gender</th><th scope=col>hamsters</th><th scope=col>hamster_cages</th></tr>\n",
       "\t<tr><th scope=col>&lt;chr&gt;</th><th scope=col>&lt;chr&gt;</th><th scope=col>&lt;dbl&gt;</th><th scope=col>&lt;dbl&gt;</th></tr>\n",
       "</thead>\n",
       "<tbody>\n",
       "\t<tr><td>Jeremy</td><td>male  </td><td>1</td><td>4</td></tr>\n",
       "\t<tr><td>Karl  </td><td>male  </td><td>2</td><td>3</td></tr>\n",
       "\t<tr><td>Megan </td><td>female</td><td>5</td><td>2</td></tr>\n",
       "\t<tr><td>Jen   </td><td>female</td><td>6</td><td>3</td></tr>\n",
       "\t<tr><td>Amy   </td><td>female</td><td>7</td><td>1</td></tr>\n",
       "</tbody>\n",
       "</table>\n"
      ],
      "text/latex": [
       "A tibble: 5 × 4\n",
       "\\begin{tabular}{llll}\n",
       " name & gender & hamsters & hamster\\_cages\\\\\n",
       " <chr> & <chr> & <dbl> & <dbl>\\\\\n",
       "\\hline\n",
       "\t Jeremy & male   & 1 & 4\\\\\n",
       "\t Karl   & male   & 2 & 3\\\\\n",
       "\t Megan  & female & 5 & 2\\\\\n",
       "\t Jen    & female & 6 & 3\\\\\n",
       "\t Amy    & female & 7 & 1\\\\\n",
       "\\end{tabular}\n"
      ],
      "text/markdown": [
       "\n",
       "A tibble: 5 × 4\n",
       "\n",
       "| name &lt;chr&gt; | gender &lt;chr&gt; | hamsters &lt;dbl&gt; | hamster_cages &lt;dbl&gt; |\n",
       "|---|---|---|---|\n",
       "| Jeremy | male   | 1 | 4 |\n",
       "| Karl   | male   | 2 | 3 |\n",
       "| Megan  | female | 5 | 2 |\n",
       "| Jen    | female | 6 | 3 |\n",
       "| Amy    | female | 7 | 1 |\n",
       "\n"
      ],
      "text/plain": [
       "  name   gender hamsters hamster_cages\n",
       "1 Jeremy male   1        4            \n",
       "2 Karl   male   2        3            \n",
       "3 Megan  female 5        2            \n",
       "4 Jen    female 6        3            \n",
       "5 Amy    female 7        1            "
      ]
     },
     "metadata": {},
     "output_type": "display_data"
    }
   ],
   "source": [
    "hamsters %>% \n",
    "  arrange(hamsters)"
   ]
  },
  {
   "cell_type": "markdown",
   "id": "b06541f0-c553-413c-8d54-d2d61bf7abc0",
   "metadata": {},
   "source": [
    "We can instead arrange in descending order with the desc() function:"
   ]
  },
  {
   "cell_type": "code",
   "execution_count": 66,
   "id": "76e491b9-1603-4641-92e4-741b9e2c5e6e",
   "metadata": {},
   "outputs": [
    {
     "data": {
      "text/html": [
       "<table class=\"dataframe\">\n",
       "<caption>A tibble: 5 × 4</caption>\n",
       "<thead>\n",
       "\t<tr><th scope=col>name</th><th scope=col>gender</th><th scope=col>hamsters</th><th scope=col>hamster_cages</th></tr>\n",
       "\t<tr><th scope=col>&lt;chr&gt;</th><th scope=col>&lt;chr&gt;</th><th scope=col>&lt;dbl&gt;</th><th scope=col>&lt;dbl&gt;</th></tr>\n",
       "</thead>\n",
       "<tbody>\n",
       "\t<tr><td>Jeremy</td><td>male  </td><td>1</td><td>4</td></tr>\n",
       "\t<tr><td>Jen   </td><td>female</td><td>6</td><td>3</td></tr>\n",
       "\t<tr><td>Karl  </td><td>male  </td><td>2</td><td>3</td></tr>\n",
       "\t<tr><td>Megan </td><td>female</td><td>5</td><td>2</td></tr>\n",
       "\t<tr><td>Amy   </td><td>female</td><td>7</td><td>1</td></tr>\n",
       "</tbody>\n",
       "</table>\n"
      ],
      "text/latex": [
       "A tibble: 5 × 4\n",
       "\\begin{tabular}{llll}\n",
       " name & gender & hamsters & hamster\\_cages\\\\\n",
       " <chr> & <chr> & <dbl> & <dbl>\\\\\n",
       "\\hline\n",
       "\t Jeremy & male   & 1 & 4\\\\\n",
       "\t Jen    & female & 6 & 3\\\\\n",
       "\t Karl   & male   & 2 & 3\\\\\n",
       "\t Megan  & female & 5 & 2\\\\\n",
       "\t Amy    & female & 7 & 1\\\\\n",
       "\\end{tabular}\n"
      ],
      "text/markdown": [
       "\n",
       "A tibble: 5 × 4\n",
       "\n",
       "| name &lt;chr&gt; | gender &lt;chr&gt; | hamsters &lt;dbl&gt; | hamster_cages &lt;dbl&gt; |\n",
       "|---|---|---|---|\n",
       "| Jeremy | male   | 1 | 4 |\n",
       "| Jen    | female | 6 | 3 |\n",
       "| Karl   | male   | 2 | 3 |\n",
       "| Megan  | female | 5 | 2 |\n",
       "| Amy    | female | 7 | 1 |\n",
       "\n"
      ],
      "text/plain": [
       "  name   gender hamsters hamster_cages\n",
       "1 Jeremy male   1        4            \n",
       "2 Jen    female 6        3            \n",
       "3 Karl   male   2        3            \n",
       "4 Megan  female 5        2            \n",
       "5 Amy    female 7        1            "
      ]
     },
     "metadata": {},
     "output_type": "display_data"
    }
   ],
   "source": [
    "hamsters %>% \n",
    "  arrange(desc(hamster_cages))"
   ]
  },
  {
   "cell_type": "markdown",
   "id": "d5440d81-243b-44c7-93a4-ceff41420d79",
   "metadata": {},
   "source": [
    "Character columns get arranged in alaphetical order:"
   ]
  },
  {
   "cell_type": "code",
   "execution_count": 67,
   "id": "ea067927-e420-40cc-8a4f-26ccb9add308",
   "metadata": {},
   "outputs": [
    {
     "data": {
      "text/html": [
       "<table class=\"dataframe\">\n",
       "<caption>A tibble: 5 × 4</caption>\n",
       "<thead>\n",
       "\t<tr><th scope=col>name</th><th scope=col>gender</th><th scope=col>hamsters</th><th scope=col>hamster_cages</th></tr>\n",
       "\t<tr><th scope=col>&lt;chr&gt;</th><th scope=col>&lt;chr&gt;</th><th scope=col>&lt;dbl&gt;</th><th scope=col>&lt;dbl&gt;</th></tr>\n",
       "</thead>\n",
       "<tbody>\n",
       "\t<tr><td>Amy   </td><td>female</td><td>7</td><td>1</td></tr>\n",
       "\t<tr><td>Jen   </td><td>female</td><td>6</td><td>3</td></tr>\n",
       "\t<tr><td>Jeremy</td><td>male  </td><td>1</td><td>4</td></tr>\n",
       "\t<tr><td>Karl  </td><td>male  </td><td>2</td><td>3</td></tr>\n",
       "\t<tr><td>Megan </td><td>female</td><td>5</td><td>2</td></tr>\n",
       "</tbody>\n",
       "</table>\n"
      ],
      "text/latex": [
       "A tibble: 5 × 4\n",
       "\\begin{tabular}{llll}\n",
       " name & gender & hamsters & hamster\\_cages\\\\\n",
       " <chr> & <chr> & <dbl> & <dbl>\\\\\n",
       "\\hline\n",
       "\t Amy    & female & 7 & 1\\\\\n",
       "\t Jen    & female & 6 & 3\\\\\n",
       "\t Jeremy & male   & 1 & 4\\\\\n",
       "\t Karl   & male   & 2 & 3\\\\\n",
       "\t Megan  & female & 5 & 2\\\\\n",
       "\\end{tabular}\n"
      ],
      "text/markdown": [
       "\n",
       "A tibble: 5 × 4\n",
       "\n",
       "| name &lt;chr&gt; | gender &lt;chr&gt; | hamsters &lt;dbl&gt; | hamster_cages &lt;dbl&gt; |\n",
       "|---|---|---|---|\n",
       "| Amy    | female | 7 | 1 |\n",
       "| Jen    | female | 6 | 3 |\n",
       "| Jeremy | male   | 1 | 4 |\n",
       "| Karl   | male   | 2 | 3 |\n",
       "| Megan  | female | 5 | 2 |\n",
       "\n"
      ],
      "text/plain": [
       "  name   gender hamsters hamster_cages\n",
       "1 Amy    female 7        1            \n",
       "2 Jen    female 6        3            \n",
       "3 Jeremy male   1        4            \n",
       "4 Karl   male   2        3            \n",
       "5 Megan  female 5        2            "
      ]
     },
     "metadata": {},
     "output_type": "display_data"
    }
   ],
   "source": [
    "hamsters %>% \n",
    "  arrange(name)"
   ]
  },
  {
   "cell_type": "markdown",
   "id": "3ae459e6-b903-4c68-a3bd-660ef94b7c9f",
   "metadata": {},
   "source": [
    "If we input multiple column names, arrange uses the additional columns\n",
    "to break ties."
   ]
  },
  {
   "cell_type": "code",
   "execution_count": 68,
   "id": "e699398a-437d-41d3-9c74-5cbd6e9fb707",
   "metadata": {},
   "outputs": [
    {
     "data": {
      "text/html": [
       "<table class=\"dataframe\">\n",
       "<caption>A tibble: 5 × 4</caption>\n",
       "<thead>\n",
       "\t<tr><th scope=col>name</th><th scope=col>gender</th><th scope=col>hamsters</th><th scope=col>hamster_cages</th></tr>\n",
       "\t<tr><th scope=col>&lt;chr&gt;</th><th scope=col>&lt;chr&gt;</th><th scope=col>&lt;dbl&gt;</th><th scope=col>&lt;dbl&gt;</th></tr>\n",
       "</thead>\n",
       "<tbody>\n",
       "\t<tr><td>Amy   </td><td>female</td><td>7</td><td>1</td></tr>\n",
       "\t<tr><td>Megan </td><td>female</td><td>5</td><td>2</td></tr>\n",
       "\t<tr><td>Karl  </td><td>male  </td><td>2</td><td>3</td></tr>\n",
       "\t<tr><td>Jen   </td><td>female</td><td>6</td><td>3</td></tr>\n",
       "\t<tr><td>Jeremy</td><td>male  </td><td>1</td><td>4</td></tr>\n",
       "</tbody>\n",
       "</table>\n"
      ],
      "text/latex": [
       "A tibble: 5 × 4\n",
       "\\begin{tabular}{llll}\n",
       " name & gender & hamsters & hamster\\_cages\\\\\n",
       " <chr> & <chr> & <dbl> & <dbl>\\\\\n",
       "\\hline\n",
       "\t Amy    & female & 7 & 1\\\\\n",
       "\t Megan  & female & 5 & 2\\\\\n",
       "\t Karl   & male   & 2 & 3\\\\\n",
       "\t Jen    & female & 6 & 3\\\\\n",
       "\t Jeremy & male   & 1 & 4\\\\\n",
       "\\end{tabular}\n"
      ],
      "text/markdown": [
       "\n",
       "A tibble: 5 × 4\n",
       "\n",
       "| name &lt;chr&gt; | gender &lt;chr&gt; | hamsters &lt;dbl&gt; | hamster_cages &lt;dbl&gt; |\n",
       "|---|---|---|---|\n",
       "| Amy    | female | 7 | 1 |\n",
       "| Megan  | female | 5 | 2 |\n",
       "| Karl   | male   | 2 | 3 |\n",
       "| Jen    | female | 6 | 3 |\n",
       "| Jeremy | male   | 1 | 4 |\n",
       "\n"
      ],
      "text/plain": [
       "  name   gender hamsters hamster_cages\n",
       "1 Amy    female 7        1            \n",
       "2 Megan  female 5        2            \n",
       "3 Karl   male   2        3            \n",
       "4 Jen    female 6        3            \n",
       "5 Jeremy male   1        4            "
      ]
     },
     "metadata": {},
     "output_type": "display_data"
    }
   ],
   "source": [
    "hamsters %>% \n",
    "  arrange(hamster_cages, hamsters)"
   ]
  },
  {
   "cell_type": "markdown",
   "id": "429723b1-14ea-4840-8595-20ac74fecc49",
   "metadata": {},
   "source": [
    "# Select\n",
    "\n",
    "Select is used to choose which columns to work with. \n",
    "\n",
    "For example, maybe we want just the name and hamsters columns:"
   ]
  },
  {
   "cell_type": "code",
   "execution_count": 69,
   "id": "8391aa3e-4184-4944-b5c6-70ef539d0467",
   "metadata": {},
   "outputs": [
    {
     "data": {
      "text/html": [
       "<table class=\"dataframe\">\n",
       "<caption>A tibble: 5 × 4</caption>\n",
       "<thead>\n",
       "\t<tr><th scope=col>name</th><th scope=col>gender</th><th scope=col>hamsters</th><th scope=col>hamster_cages</th></tr>\n",
       "\t<tr><th scope=col>&lt;chr&gt;</th><th scope=col>&lt;chr&gt;</th><th scope=col>&lt;dbl&gt;</th><th scope=col>&lt;dbl&gt;</th></tr>\n",
       "</thead>\n",
       "<tbody>\n",
       "\t<tr><td>Megan </td><td>female</td><td>5</td><td>2</td></tr>\n",
       "\t<tr><td>Amy   </td><td>female</td><td>7</td><td>1</td></tr>\n",
       "\t<tr><td>Jen   </td><td>female</td><td>6</td><td>3</td></tr>\n",
       "\t<tr><td>Karl  </td><td>male  </td><td>2</td><td>3</td></tr>\n",
       "\t<tr><td>Jeremy</td><td>male  </td><td>1</td><td>4</td></tr>\n",
       "</tbody>\n",
       "</table>\n"
      ],
      "text/latex": [
       "A tibble: 5 × 4\n",
       "\\begin{tabular}{llll}\n",
       " name & gender & hamsters & hamster\\_cages\\\\\n",
       " <chr> & <chr> & <dbl> & <dbl>\\\\\n",
       "\\hline\n",
       "\t Megan  & female & 5 & 2\\\\\n",
       "\t Amy    & female & 7 & 1\\\\\n",
       "\t Jen    & female & 6 & 3\\\\\n",
       "\t Karl   & male   & 2 & 3\\\\\n",
       "\t Jeremy & male   & 1 & 4\\\\\n",
       "\\end{tabular}\n"
      ],
      "text/markdown": [
       "\n",
       "A tibble: 5 × 4\n",
       "\n",
       "| name &lt;chr&gt; | gender &lt;chr&gt; | hamsters &lt;dbl&gt; | hamster_cages &lt;dbl&gt; |\n",
       "|---|---|---|---|\n",
       "| Megan  | female | 5 | 2 |\n",
       "| Amy    | female | 7 | 1 |\n",
       "| Jen    | female | 6 | 3 |\n",
       "| Karl   | male   | 2 | 3 |\n",
       "| Jeremy | male   | 1 | 4 |\n",
       "\n"
      ],
      "text/plain": [
       "  name   gender hamsters hamster_cages\n",
       "1 Megan  female 5        2            \n",
       "2 Amy    female 7        1            \n",
       "3 Jen    female 6        3            \n",
       "4 Karl   male   2        3            \n",
       "5 Jeremy male   1        4            "
      ]
     },
     "metadata": {},
     "output_type": "display_data"
    }
   ],
   "source": [
    "hamsters"
   ]
  },
  {
   "cell_type": "code",
   "execution_count": 71,
   "id": "3ec67889-8214-4b93-8a1c-cb9c1d8ab7e0",
   "metadata": {},
   "outputs": [
    {
     "data": {
      "text/html": [
       "<table class=\"dataframe\">\n",
       "<caption>A tibble: 5 × 2</caption>\n",
       "<thead>\n",
       "\t<tr><th scope=col>name</th><th scope=col>hamsters</th></tr>\n",
       "\t<tr><th scope=col>&lt;chr&gt;</th><th scope=col>&lt;dbl&gt;</th></tr>\n",
       "</thead>\n",
       "<tbody>\n",
       "\t<tr><td>Megan </td><td>5</td></tr>\n",
       "\t<tr><td>Amy   </td><td>7</td></tr>\n",
       "\t<tr><td>Jen   </td><td>6</td></tr>\n",
       "\t<tr><td>Karl  </td><td>2</td></tr>\n",
       "\t<tr><td>Jeremy</td><td>1</td></tr>\n",
       "</tbody>\n",
       "</table>\n"
      ],
      "text/latex": [
       "A tibble: 5 × 2\n",
       "\\begin{tabular}{ll}\n",
       " name & hamsters\\\\\n",
       " <chr> & <dbl>\\\\\n",
       "\\hline\n",
       "\t Megan  & 5\\\\\n",
       "\t Amy    & 7\\\\\n",
       "\t Jen    & 6\\\\\n",
       "\t Karl   & 2\\\\\n",
       "\t Jeremy & 1\\\\\n",
       "\\end{tabular}\n"
      ],
      "text/markdown": [
       "\n",
       "A tibble: 5 × 2\n",
       "\n",
       "| name &lt;chr&gt; | hamsters &lt;dbl&gt; |\n",
       "|---|---|\n",
       "| Megan  | 5 |\n",
       "| Amy    | 7 |\n",
       "| Jen    | 6 |\n",
       "| Karl   | 2 |\n",
       "| Jeremy | 1 |\n",
       "\n"
      ],
      "text/plain": [
       "  name   hamsters\n",
       "1 Megan  5       \n",
       "2 Amy    7       \n",
       "3 Jen    6       \n",
       "4 Karl   2       \n",
       "5 Jeremy 1       "
      ]
     },
     "metadata": {},
     "output_type": "display_data"
    }
   ],
   "source": [
    "hamsters %>%\n",
    "  select(name, hamsters)"
   ]
  },
  {
   "cell_type": "markdown",
   "id": "246011d0-ae71-4a76-8acb-051cc59cb7e6",
   "metadata": {},
   "source": [
    "> In R basic, you'd do `hamsters[c('name', 'hamsters')]`\\\n",
    "In Pandas, you'd do `hamsters[['name','hamsters']]`."
   ]
  },
  {
   "cell_type": "markdown",
   "id": "6a9216d3-83c2-4605-929e-a344ce41465b",
   "metadata": {},
   "source": [
    "Notice how dplyr does not use literal strings for column names in these contexts."
   ]
  },
  {
   "cell_type": "markdown",
   "id": "e201e967-189f-4d96-b3f3-ede8c307b2f4",
   "metadata": {},
   "source": [
    "We can use a `-` to get rid of a column and leave the rest of the\n",
    "columns:"
   ]
  },
  {
   "cell_type": "code",
   "execution_count": 73,
   "id": "d9d4c7f5-d201-4d79-b314-383ad539ed63",
   "metadata": {},
   "outputs": [
    {
     "data": {
      "text/html": [
       "<table class=\"dataframe\">\n",
       "<caption>A tibble: 5 × 3</caption>\n",
       "<thead>\n",
       "\t<tr><th scope=col>gender</th><th scope=col>hamsters</th><th scope=col>hamster_cages</th></tr>\n",
       "\t<tr><th scope=col>&lt;chr&gt;</th><th scope=col>&lt;dbl&gt;</th><th scope=col>&lt;dbl&gt;</th></tr>\n",
       "</thead>\n",
       "<tbody>\n",
       "\t<tr><td>female</td><td>5</td><td>2</td></tr>\n",
       "\t<tr><td>female</td><td>7</td><td>1</td></tr>\n",
       "\t<tr><td>female</td><td>6</td><td>3</td></tr>\n",
       "\t<tr><td>male  </td><td>2</td><td>3</td></tr>\n",
       "\t<tr><td>male  </td><td>1</td><td>4</td></tr>\n",
       "</tbody>\n",
       "</table>\n"
      ],
      "text/latex": [
       "A tibble: 5 × 3\n",
       "\\begin{tabular}{lll}\n",
       " gender & hamsters & hamster\\_cages\\\\\n",
       " <chr> & <dbl> & <dbl>\\\\\n",
       "\\hline\n",
       "\t female & 5 & 2\\\\\n",
       "\t female & 7 & 1\\\\\n",
       "\t female & 6 & 3\\\\\n",
       "\t male   & 2 & 3\\\\\n",
       "\t male   & 1 & 4\\\\\n",
       "\\end{tabular}\n"
      ],
      "text/markdown": [
       "\n",
       "A tibble: 5 × 3\n",
       "\n",
       "| gender &lt;chr&gt; | hamsters &lt;dbl&gt; | hamster_cages &lt;dbl&gt; |\n",
       "|---|---|---|\n",
       "| female | 5 | 2 |\n",
       "| female | 7 | 1 |\n",
       "| female | 6 | 3 |\n",
       "| male   | 2 | 3 |\n",
       "| male   | 1 | 4 |\n",
       "\n"
      ],
      "text/plain": [
       "  gender hamsters hamster_cages\n",
       "1 female 5        2            \n",
       "2 female 7        1            \n",
       "3 female 6        3            \n",
       "4 male   2        3            \n",
       "5 male   1        4            "
      ]
     },
     "metadata": {},
     "output_type": "display_data"
    }
   ],
   "source": [
    "hamsters %>% \n",
    "  select(-name)"
   ]
  },
  {
   "cell_type": "markdown",
   "id": "2e2fd8c4-5e7d-4a7a-8c16-e4014a82f8eb",
   "metadata": {},
   "source": [
    "We also could have gotten just the name and hamsters columns by removing\n",
    "the gender and hamster_cages columns:"
   ]
  },
  {
   "cell_type": "code",
   "execution_count": 74,
   "id": "0fcc3050-bd8d-4220-82b0-c583e56a23b2",
   "metadata": {},
   "outputs": [
    {
     "data": {
      "text/html": [
       "<table class=\"dataframe\">\n",
       "<caption>A tibble: 5 × 2</caption>\n",
       "<thead>\n",
       "\t<tr><th scope=col>name</th><th scope=col>hamsters</th></tr>\n",
       "\t<tr><th scope=col>&lt;chr&gt;</th><th scope=col>&lt;dbl&gt;</th></tr>\n",
       "</thead>\n",
       "<tbody>\n",
       "\t<tr><td>Megan </td><td>5</td></tr>\n",
       "\t<tr><td>Amy   </td><td>7</td></tr>\n",
       "\t<tr><td>Jen   </td><td>6</td></tr>\n",
       "\t<tr><td>Karl  </td><td>2</td></tr>\n",
       "\t<tr><td>Jeremy</td><td>1</td></tr>\n",
       "</tbody>\n",
       "</table>\n"
      ],
      "text/latex": [
       "A tibble: 5 × 2\n",
       "\\begin{tabular}{ll}\n",
       " name & hamsters\\\\\n",
       " <chr> & <dbl>\\\\\n",
       "\\hline\n",
       "\t Megan  & 5\\\\\n",
       "\t Amy    & 7\\\\\n",
       "\t Jen    & 6\\\\\n",
       "\t Karl   & 2\\\\\n",
       "\t Jeremy & 1\\\\\n",
       "\\end{tabular}\n"
      ],
      "text/markdown": [
       "\n",
       "A tibble: 5 × 2\n",
       "\n",
       "| name &lt;chr&gt; | hamsters &lt;dbl&gt; |\n",
       "|---|---|\n",
       "| Megan  | 5 |\n",
       "| Amy    | 7 |\n",
       "| Jen    | 6 |\n",
       "| Karl   | 2 |\n",
       "| Jeremy | 1 |\n",
       "\n"
      ],
      "text/plain": [
       "  name   hamsters\n",
       "1 Megan  5       \n",
       "2 Amy    7       \n",
       "3 Jen    6       \n",
       "4 Karl   2       \n",
       "5 Jeremy 1       "
      ]
     },
     "metadata": {},
     "output_type": "display_data"
    }
   ],
   "source": [
    "hamsters %>% \n",
    "  select(-gender, -hamster_cages)"
   ]
  },
  {
   "cell_type": "markdown",
   "id": "037372a7-0384-4512-8e26-3abdbb75f0ef",
   "metadata": {},
   "source": [
    "Select can also be used to **rearrange the order** of columns:"
   ]
  },
  {
   "cell_type": "code",
   "execution_count": 76,
   "id": "b2836636-c1c9-43af-8b61-76629e7cc766",
   "metadata": {},
   "outputs": [
    {
     "data": {
      "text/html": [
       "<table class=\"dataframe\">\n",
       "<caption>A tibble: 5 × 4</caption>\n",
       "<thead>\n",
       "\t<tr><th scope=col>hamsters</th><th scope=col>hamster_cages</th><th scope=col>gender</th><th scope=col>name</th></tr>\n",
       "\t<tr><th scope=col>&lt;dbl&gt;</th><th scope=col>&lt;dbl&gt;</th><th scope=col>&lt;chr&gt;</th><th scope=col>&lt;chr&gt;</th></tr>\n",
       "</thead>\n",
       "<tbody>\n",
       "\t<tr><td>5</td><td>2</td><td>female</td><td>Megan </td></tr>\n",
       "\t<tr><td>7</td><td>1</td><td>female</td><td>Amy   </td></tr>\n",
       "\t<tr><td>6</td><td>3</td><td>female</td><td>Jen   </td></tr>\n",
       "\t<tr><td>2</td><td>3</td><td>male  </td><td>Karl  </td></tr>\n",
       "\t<tr><td>1</td><td>4</td><td>male  </td><td>Jeremy</td></tr>\n",
       "</tbody>\n",
       "</table>\n"
      ],
      "text/latex": [
       "A tibble: 5 × 4\n",
       "\\begin{tabular}{llll}\n",
       " hamsters & hamster\\_cages & gender & name\\\\\n",
       " <dbl> & <dbl> & <chr> & <chr>\\\\\n",
       "\\hline\n",
       "\t 5 & 2 & female & Megan \\\\\n",
       "\t 7 & 1 & female & Amy   \\\\\n",
       "\t 6 & 3 & female & Jen   \\\\\n",
       "\t 2 & 3 & male   & Karl  \\\\\n",
       "\t 1 & 4 & male   & Jeremy\\\\\n",
       "\\end{tabular}\n"
      ],
      "text/markdown": [
       "\n",
       "A tibble: 5 × 4\n",
       "\n",
       "| hamsters &lt;dbl&gt; | hamster_cages &lt;dbl&gt; | gender &lt;chr&gt; | name &lt;chr&gt; |\n",
       "|---|---|---|---|\n",
       "| 5 | 2 | female | Megan  |\n",
       "| 7 | 1 | female | Amy    |\n",
       "| 6 | 3 | female | Jen    |\n",
       "| 2 | 3 | male   | Karl   |\n",
       "| 1 | 4 | male   | Jeremy |\n",
       "\n"
      ],
      "text/plain": [
       "  hamsters hamster_cages gender name  \n",
       "1 5        2             female Megan \n",
       "2 7        1             female Amy   \n",
       "3 6        3             female Jen   \n",
       "4 2        3             male   Karl  \n",
       "5 1        4             male   Jeremy"
      ]
     },
     "metadata": {},
     "output_type": "display_data"
    }
   ],
   "source": [
    "hamsters %>% \n",
    "  select(hamsters, hamster_cages, gender, name)"
   ]
  },
  {
   "cell_type": "markdown",
   "id": "dc00c89a-b88e-46e6-8f7b-1f92c40d68b6",
   "metadata": {},
   "source": [
    "`everything()` is a convenient shortcut that adds **all the columns that\n",
    "haven’t been used yet**. \n",
    "\n",
    "It is very useful if you want to move a column to\n",
    "the front of a data frame:"
   ]
  },
  {
   "cell_type": "code",
   "execution_count": 78,
   "id": "41f12b9e-d2db-46f7-9516-fb4d0e897891",
   "metadata": {},
   "outputs": [
    {
     "data": {
      "text/html": [
       "<table class=\"dataframe\">\n",
       "<caption>A tibble: 5 × 4</caption>\n",
       "<thead>\n",
       "\t<tr><th scope=col>hamster_cages</th><th scope=col>name</th><th scope=col>gender</th><th scope=col>hamsters</th></tr>\n",
       "\t<tr><th scope=col>&lt;dbl&gt;</th><th scope=col>&lt;chr&gt;</th><th scope=col>&lt;chr&gt;</th><th scope=col>&lt;dbl&gt;</th></tr>\n",
       "</thead>\n",
       "<tbody>\n",
       "\t<tr><td>2</td><td>Megan </td><td>female</td><td>5</td></tr>\n",
       "\t<tr><td>1</td><td>Amy   </td><td>female</td><td>7</td></tr>\n",
       "\t<tr><td>3</td><td>Jen   </td><td>female</td><td>6</td></tr>\n",
       "\t<tr><td>3</td><td>Karl  </td><td>male  </td><td>2</td></tr>\n",
       "\t<tr><td>4</td><td>Jeremy</td><td>male  </td><td>1</td></tr>\n",
       "</tbody>\n",
       "</table>\n"
      ],
      "text/latex": [
       "A tibble: 5 × 4\n",
       "\\begin{tabular}{llll}\n",
       " hamster\\_cages & name & gender & hamsters\\\\\n",
       " <dbl> & <chr> & <chr> & <dbl>\\\\\n",
       "\\hline\n",
       "\t 2 & Megan  & female & 5\\\\\n",
       "\t 1 & Amy    & female & 7\\\\\n",
       "\t 3 & Jen    & female & 6\\\\\n",
       "\t 3 & Karl   & male   & 2\\\\\n",
       "\t 4 & Jeremy & male   & 1\\\\\n",
       "\\end{tabular}\n"
      ],
      "text/markdown": [
       "\n",
       "A tibble: 5 × 4\n",
       "\n",
       "| hamster_cages &lt;dbl&gt; | name &lt;chr&gt; | gender &lt;chr&gt; | hamsters &lt;dbl&gt; |\n",
       "|---|---|---|---|\n",
       "| 2 | Megan  | female | 5 |\n",
       "| 1 | Amy    | female | 7 |\n",
       "| 3 | Jen    | female | 6 |\n",
       "| 3 | Karl   | male   | 2 |\n",
       "| 4 | Jeremy | male   | 1 |\n",
       "\n"
      ],
      "text/plain": [
       "  hamster_cages name   gender hamsters\n",
       "1 2             Megan  female 5       \n",
       "2 1             Amy    female 7       \n",
       "3 3             Jen    female 6       \n",
       "4 3             Karl   male   2       \n",
       "5 4             Jeremy male   1       "
      ]
     },
     "metadata": {},
     "output_type": "display_data"
    }
   ],
   "source": [
    "hamsters %>% \n",
    "  select(hamster_cages, everything())"
   ]
  },
  {
   "cell_type": "markdown",
   "id": "92a26330-1115-4dfc-8fe0-52e1dc2de0ce",
   "metadata": {},
   "source": [
    "# Filter\n",
    "\n",
    "Filter is used to select which rows you want. For example, maybe we only\n",
    "want students with more than 3 hamsters:"
   ]
  },
  {
   "cell_type": "code",
   "execution_count": 82,
   "id": "6f07ed18-1e18-4da9-96c5-cf58c9916620",
   "metadata": {},
   "outputs": [
    {
     "data": {
      "text/html": [
       "<table class=\"dataframe\">\n",
       "<caption>A tibble: 3 × 4</caption>\n",
       "<thead>\n",
       "\t<tr><th scope=col>name</th><th scope=col>gender</th><th scope=col>hamsters</th><th scope=col>hamster_cages</th></tr>\n",
       "\t<tr><th scope=col>&lt;chr&gt;</th><th scope=col>&lt;chr&gt;</th><th scope=col>&lt;dbl&gt;</th><th scope=col>&lt;dbl&gt;</th></tr>\n",
       "</thead>\n",
       "<tbody>\n",
       "\t<tr><td>Megan</td><td>female</td><td>5</td><td>2</td></tr>\n",
       "\t<tr><td>Amy  </td><td>female</td><td>7</td><td>1</td></tr>\n",
       "\t<tr><td>Jen  </td><td>female</td><td>6</td><td>3</td></tr>\n",
       "</tbody>\n",
       "</table>\n"
      ],
      "text/latex": [
       "A tibble: 3 × 4\n",
       "\\begin{tabular}{llll}\n",
       " name & gender & hamsters & hamster\\_cages\\\\\n",
       " <chr> & <chr> & <dbl> & <dbl>\\\\\n",
       "\\hline\n",
       "\t Megan & female & 5 & 2\\\\\n",
       "\t Amy   & female & 7 & 1\\\\\n",
       "\t Jen   & female & 6 & 3\\\\\n",
       "\\end{tabular}\n"
      ],
      "text/markdown": [
       "\n",
       "A tibble: 3 × 4\n",
       "\n",
       "| name &lt;chr&gt; | gender &lt;chr&gt; | hamsters &lt;dbl&gt; | hamster_cages &lt;dbl&gt; |\n",
       "|---|---|---|---|\n",
       "| Megan | female | 5 | 2 |\n",
       "| Amy   | female | 7 | 1 |\n",
       "| Jen   | female | 6 | 3 |\n",
       "\n"
      ],
      "text/plain": [
       "  name  gender hamsters hamster_cages\n",
       "1 Megan female 5        2            \n",
       "2 Amy   female 7        1            \n",
       "3 Jen   female 6        3            "
      ]
     },
     "metadata": {},
     "output_type": "display_data"
    }
   ],
   "source": [
    "hamsters %>% \n",
    "  filter(hamsters > 3)"
   ]
  },
  {
   "cell_type": "markdown",
   "id": "500fae7f-11d4-443d-932a-5dcda6331523",
   "metadata": {},
   "source": [
    "Notice that there is a variable named the same thing as the data\n",
    "frame. \n",
    "\n",
    "The first “hamsters” in the following code refers to the data\n",
    "frame, while the second “hamsters” refers to the hamsters column.\n",
    "\n",
    "Or maybe we only want female students:"
   ]
  },
  {
   "cell_type": "code",
   "execution_count": 83,
   "id": "125d701b-01d4-4bce-80cd-765af17b48af",
   "metadata": {},
   "outputs": [
    {
     "data": {
      "text/html": [
       "<table class=\"dataframe\">\n",
       "<caption>A tibble: 5 × 4</caption>\n",
       "<thead>\n",
       "\t<tr><th scope=col>name</th><th scope=col>gender</th><th scope=col>hamsters</th><th scope=col>hamster_cages</th></tr>\n",
       "\t<tr><th scope=col>&lt;chr&gt;</th><th scope=col>&lt;chr&gt;</th><th scope=col>&lt;dbl&gt;</th><th scope=col>&lt;dbl&gt;</th></tr>\n",
       "</thead>\n",
       "<tbody>\n",
       "\t<tr><td>Megan </td><td>female</td><td>5</td><td>2</td></tr>\n",
       "\t<tr><td>Amy   </td><td>female</td><td>7</td><td>1</td></tr>\n",
       "\t<tr><td>Jen   </td><td>female</td><td>6</td><td>3</td></tr>\n",
       "\t<tr><td>Karl  </td><td>male  </td><td>2</td><td>3</td></tr>\n",
       "\t<tr><td>Jeremy</td><td>male  </td><td>1</td><td>4</td></tr>\n",
       "</tbody>\n",
       "</table>\n"
      ],
      "text/latex": [
       "A tibble: 5 × 4\n",
       "\\begin{tabular}{llll}\n",
       " name & gender & hamsters & hamster\\_cages\\\\\n",
       " <chr> & <chr> & <dbl> & <dbl>\\\\\n",
       "\\hline\n",
       "\t Megan  & female & 5 & 2\\\\\n",
       "\t Amy    & female & 7 & 1\\\\\n",
       "\t Jen    & female & 6 & 3\\\\\n",
       "\t Karl   & male   & 2 & 3\\\\\n",
       "\t Jeremy & male   & 1 & 4\\\\\n",
       "\\end{tabular}\n"
      ],
      "text/markdown": [
       "\n",
       "A tibble: 5 × 4\n",
       "\n",
       "| name &lt;chr&gt; | gender &lt;chr&gt; | hamsters &lt;dbl&gt; | hamster_cages &lt;dbl&gt; |\n",
       "|---|---|---|---|\n",
       "| Megan  | female | 5 | 2 |\n",
       "| Amy    | female | 7 | 1 |\n",
       "| Jen    | female | 6 | 3 |\n",
       "| Karl   | male   | 2 | 3 |\n",
       "| Jeremy | male   | 1 | 4 |\n",
       "\n"
      ],
      "text/plain": [
       "  name   gender hamsters hamster_cages\n",
       "1 Megan  female 5        2            \n",
       "2 Amy    female 7        1            \n",
       "3 Jen    female 6        3            \n",
       "4 Karl   male   2        3            \n",
       "5 Jeremy male   1        4            "
      ]
     },
     "metadata": {},
     "output_type": "display_data"
    }
   ],
   "source": [
    "hamsters"
   ]
  },
  {
   "cell_type": "code",
   "execution_count": 84,
   "id": "80782d9b-88f7-4b4b-b0d0-21a3aefb7b65",
   "metadata": {},
   "outputs": [
    {
     "data": {
      "text/html": [
       "<table class=\"dataframe\">\n",
       "<caption>A tibble: 3 × 4</caption>\n",
       "<thead>\n",
       "\t<tr><th scope=col>name</th><th scope=col>gender</th><th scope=col>hamsters</th><th scope=col>hamster_cages</th></tr>\n",
       "\t<tr><th scope=col>&lt;chr&gt;</th><th scope=col>&lt;chr&gt;</th><th scope=col>&lt;dbl&gt;</th><th scope=col>&lt;dbl&gt;</th></tr>\n",
       "</thead>\n",
       "<tbody>\n",
       "\t<tr><td>Megan</td><td>female</td><td>5</td><td>2</td></tr>\n",
       "\t<tr><td>Amy  </td><td>female</td><td>7</td><td>1</td></tr>\n",
       "\t<tr><td>Jen  </td><td>female</td><td>6</td><td>3</td></tr>\n",
       "</tbody>\n",
       "</table>\n"
      ],
      "text/latex": [
       "A tibble: 3 × 4\n",
       "\\begin{tabular}{llll}\n",
       " name & gender & hamsters & hamster\\_cages\\\\\n",
       " <chr> & <chr> & <dbl> & <dbl>\\\\\n",
       "\\hline\n",
       "\t Megan & female & 5 & 2\\\\\n",
       "\t Amy   & female & 7 & 1\\\\\n",
       "\t Jen   & female & 6 & 3\\\\\n",
       "\\end{tabular}\n"
      ],
      "text/markdown": [
       "\n",
       "A tibble: 3 × 4\n",
       "\n",
       "| name &lt;chr&gt; | gender &lt;chr&gt; | hamsters &lt;dbl&gt; | hamster_cages &lt;dbl&gt; |\n",
       "|---|---|---|---|\n",
       "| Megan | female | 5 | 2 |\n",
       "| Amy   | female | 7 | 1 |\n",
       "| Jen   | female | 6 | 3 |\n",
       "\n"
      ],
      "text/plain": [
       "  name  gender hamsters hamster_cages\n",
       "1 Megan female 5        2            \n",
       "2 Amy   female 7        1            \n",
       "3 Jen   female 6        3            "
      ]
     },
     "metadata": {},
     "output_type": "display_data"
    }
   ],
   "source": [
    "hamsters %>% \n",
    "  filter(gender == \"female\")"
   ]
  },
  {
   "cell_type": "markdown",
   "id": "19b03be0-d21e-42db-907d-f644ab02f0cf",
   "metadata": {},
   "source": [
    "Notice that we had to use `==` instead of `=`. \n",
    "\n",
    "This is because `=` is for assignemnt – making something equal something else – whereas `==` is\n",
    "for comparison – seeing if two things are equal or not.\n",
    "\n",
    "If we want to use an “and” (require that multiple conditions hold) we\n",
    "can either use the `&` sign or separate the conditions with a comma.\n",
    "\n",
    "For example, the following two filters are equivalent:"
   ]
  },
  {
   "cell_type": "code",
   "execution_count": 85,
   "id": "f2de4817-bc84-4c4d-ae24-87e7acbe625d",
   "metadata": {},
   "outputs": [
    {
     "data": {
      "text/html": [
       "<table class=\"dataframe\">\n",
       "<caption>A tibble: 2 × 4</caption>\n",
       "<thead>\n",
       "\t<tr><th scope=col>name</th><th scope=col>gender</th><th scope=col>hamsters</th><th scope=col>hamster_cages</th></tr>\n",
       "\t<tr><th scope=col>&lt;chr&gt;</th><th scope=col>&lt;chr&gt;</th><th scope=col>&lt;dbl&gt;</th><th scope=col>&lt;dbl&gt;</th></tr>\n",
       "</thead>\n",
       "<tbody>\n",
       "\t<tr><td>Amy</td><td>female</td><td>7</td><td>1</td></tr>\n",
       "\t<tr><td>Jen</td><td>female</td><td>6</td><td>3</td></tr>\n",
       "</tbody>\n",
       "</table>\n"
      ],
      "text/latex": [
       "A tibble: 2 × 4\n",
       "\\begin{tabular}{llll}\n",
       " name & gender & hamsters & hamster\\_cages\\\\\n",
       " <chr> & <chr> & <dbl> & <dbl>\\\\\n",
       "\\hline\n",
       "\t Amy & female & 7 & 1\\\\\n",
       "\t Jen & female & 6 & 3\\\\\n",
       "\\end{tabular}\n"
      ],
      "text/markdown": [
       "\n",
       "A tibble: 2 × 4\n",
       "\n",
       "| name &lt;chr&gt; | gender &lt;chr&gt; | hamsters &lt;dbl&gt; | hamster_cages &lt;dbl&gt; |\n",
       "|---|---|---|---|\n",
       "| Amy | female | 7 | 1 |\n",
       "| Jen | female | 6 | 3 |\n",
       "\n"
      ],
      "text/plain": [
       "  name gender hamsters hamster_cages\n",
       "1 Amy  female 7        1            \n",
       "2 Jen  female 6        3            "
      ]
     },
     "metadata": {},
     "output_type": "display_data"
    }
   ],
   "source": [
    "hamsters %>% \n",
    "  filter(gender == \"female\" & hamsters >= 6)"
   ]
  },
  {
   "cell_type": "code",
   "execution_count": 86,
   "id": "f9158c91-56de-4aa8-be00-9af2245df287",
   "metadata": {},
   "outputs": [
    {
     "data": {
      "text/html": [
       "<table class=\"dataframe\">\n",
       "<caption>A tibble: 2 × 4</caption>\n",
       "<thead>\n",
       "\t<tr><th scope=col>name</th><th scope=col>gender</th><th scope=col>hamsters</th><th scope=col>hamster_cages</th></tr>\n",
       "\t<tr><th scope=col>&lt;chr&gt;</th><th scope=col>&lt;chr&gt;</th><th scope=col>&lt;dbl&gt;</th><th scope=col>&lt;dbl&gt;</th></tr>\n",
       "</thead>\n",
       "<tbody>\n",
       "\t<tr><td>Amy</td><td>female</td><td>7</td><td>1</td></tr>\n",
       "\t<tr><td>Jen</td><td>female</td><td>6</td><td>3</td></tr>\n",
       "</tbody>\n",
       "</table>\n"
      ],
      "text/latex": [
       "A tibble: 2 × 4\n",
       "\\begin{tabular}{llll}\n",
       " name & gender & hamsters & hamster\\_cages\\\\\n",
       " <chr> & <chr> & <dbl> & <dbl>\\\\\n",
       "\\hline\n",
       "\t Amy & female & 7 & 1\\\\\n",
       "\t Jen & female & 6 & 3\\\\\n",
       "\\end{tabular}\n"
      ],
      "text/markdown": [
       "\n",
       "A tibble: 2 × 4\n",
       "\n",
       "| name &lt;chr&gt; | gender &lt;chr&gt; | hamsters &lt;dbl&gt; | hamster_cages &lt;dbl&gt; |\n",
       "|---|---|---|---|\n",
       "| Amy | female | 7 | 1 |\n",
       "| Jen | female | 6 | 3 |\n",
       "\n"
      ],
      "text/plain": [
       "  name gender hamsters hamster_cages\n",
       "1 Amy  female 7        1            \n",
       "2 Jen  female 6        3            "
      ]
     },
     "metadata": {},
     "output_type": "display_data"
    }
   ],
   "source": [
    "hamsters %>% \n",
    "  filter(gender == \"female\", hamsters >= 6)"
   ]
  },
  {
   "cell_type": "markdown",
   "id": "06055d77-4f50-45f0-9378-0225ef68a137",
   "metadata": {},
   "source": [
    "If we want to use an “or” (require that just 1 of multiple conditions\n",
    "holds) we have to use the `|` sign.\n",
    "\n",
    "For example:"
   ]
  },
  {
   "cell_type": "code",
   "execution_count": 89,
   "id": "e57bebe1-01a5-4e14-a7d1-aeb75d5a4d64",
   "metadata": {},
   "outputs": [
    {
     "data": {
      "text/html": [
       "<table class=\"dataframe\">\n",
       "<caption>A tibble: 3 × 4</caption>\n",
       "<thead>\n",
       "\t<tr><th scope=col>name</th><th scope=col>gender</th><th scope=col>hamsters</th><th scope=col>hamster_cages</th></tr>\n",
       "\t<tr><th scope=col>&lt;chr&gt;</th><th scope=col>&lt;chr&gt;</th><th scope=col>&lt;dbl&gt;</th><th scope=col>&lt;dbl&gt;</th></tr>\n",
       "</thead>\n",
       "<tbody>\n",
       "\t<tr><td>Amy   </td><td>female</td><td>7</td><td>1</td></tr>\n",
       "\t<tr><td>Karl  </td><td>male  </td><td>2</td><td>3</td></tr>\n",
       "\t<tr><td>Jeremy</td><td>male  </td><td>1</td><td>4</td></tr>\n",
       "</tbody>\n",
       "</table>\n"
      ],
      "text/latex": [
       "A tibble: 3 × 4\n",
       "\\begin{tabular}{llll}\n",
       " name & gender & hamsters & hamster\\_cages\\\\\n",
       " <chr> & <chr> & <dbl> & <dbl>\\\\\n",
       "\\hline\n",
       "\t Amy    & female & 7 & 1\\\\\n",
       "\t Karl   & male   & 2 & 3\\\\\n",
       "\t Jeremy & male   & 1 & 4\\\\\n",
       "\\end{tabular}\n"
      ],
      "text/markdown": [
       "\n",
       "A tibble: 3 × 4\n",
       "\n",
       "| name &lt;chr&gt; | gender &lt;chr&gt; | hamsters &lt;dbl&gt; | hamster_cages &lt;dbl&gt; |\n",
       "|---|---|---|---|\n",
       "| Amy    | female | 7 | 1 |\n",
       "| Karl   | male   | 2 | 3 |\n",
       "| Jeremy | male   | 1 | 4 |\n",
       "\n"
      ],
      "text/plain": [
       "  name   gender hamsters hamster_cages\n",
       "1 Amy    female 7        1            \n",
       "2 Karl   male   2        3            \n",
       "3 Jeremy male   1        4            "
      ]
     },
     "metadata": {},
     "output_type": "display_data"
    }
   ],
   "source": [
    "hamsters %>% \n",
    "  filter(gender == \"male\" | hamsters >= 7)"
   ]
  },
  {
   "cell_type": "markdown",
   "id": "3a0b2b30-5df8-4628-a30e-4963392b2709",
   "metadata": {},
   "source": [
    "A case that commonly comes up is requiring that a variable has one of a\n",
    "set of specific values. For example, maybe we only want students with 2,\n",
    "4, 6, or 8 hamsters.\n",
    "\n",
    "The most intuitive way to do this is with a series of “or” statements:"
   ]
  },
  {
   "cell_type": "code",
   "execution_count": 90,
   "id": "19fc527d-bd55-4b0a-bb89-6a308494bda0",
   "metadata": {},
   "outputs": [
    {
     "data": {
      "text/html": [
       "<table class=\"dataframe\">\n",
       "<caption>A tibble: 2 × 4</caption>\n",
       "<thead>\n",
       "\t<tr><th scope=col>name</th><th scope=col>gender</th><th scope=col>hamsters</th><th scope=col>hamster_cages</th></tr>\n",
       "\t<tr><th scope=col>&lt;chr&gt;</th><th scope=col>&lt;chr&gt;</th><th scope=col>&lt;dbl&gt;</th><th scope=col>&lt;dbl&gt;</th></tr>\n",
       "</thead>\n",
       "<tbody>\n",
       "\t<tr><td>Jen </td><td>female</td><td>6</td><td>3</td></tr>\n",
       "\t<tr><td>Karl</td><td>male  </td><td>2</td><td>3</td></tr>\n",
       "</tbody>\n",
       "</table>\n"
      ],
      "text/latex": [
       "A tibble: 2 × 4\n",
       "\\begin{tabular}{llll}\n",
       " name & gender & hamsters & hamster\\_cages\\\\\n",
       " <chr> & <chr> & <dbl> & <dbl>\\\\\n",
       "\\hline\n",
       "\t Jen  & female & 6 & 3\\\\\n",
       "\t Karl & male   & 2 & 3\\\\\n",
       "\\end{tabular}\n"
      ],
      "text/markdown": [
       "\n",
       "A tibble: 2 × 4\n",
       "\n",
       "| name &lt;chr&gt; | gender &lt;chr&gt; | hamsters &lt;dbl&gt; | hamster_cages &lt;dbl&gt; |\n",
       "|---|---|---|---|\n",
       "| Jen  | female | 6 | 3 |\n",
       "| Karl | male   | 2 | 3 |\n",
       "\n"
      ],
      "text/plain": [
       "  name gender hamsters hamster_cages\n",
       "1 Jen  female 6        3            \n",
       "2 Karl male   2        3            "
      ]
     },
     "metadata": {},
     "output_type": "display_data"
    }
   ],
   "source": [
    "hamsters %>% \n",
    "  filter(hamsters == 2 | hamsters == 4 | hamsters == 6 | hamsters == 8)"
   ]
  },
  {
   "cell_type": "markdown",
   "id": "394e595c-e797-4e7d-b315-6364f3ed7339",
   "metadata": {},
   "source": [
    "It gets tedious having to type and retype the word “hamsters” over and\n",
    "over again, though.\n",
    "\n",
    "A nice shortcut is to supply the values you’re interested in as a vector\n",
    "by typing c(2, 4, 6, 8).\n",
    "\n",
    "The `c()` stands for concatenate which basically\n",
    "means to glue 2 to 4 to 6 to 8 all together in one vector.\n",
    "\n",
    "Once we have that vector we can simply check if the number of hamsters\n",
    "for that row is “%in%” the vector we created. \n",
    "\n",
    "Here’s how that looks:"
   ]
  },
  {
   "cell_type": "code",
   "execution_count": 92,
   "id": "6118cd32-fbfe-428d-8102-10e6612e475a",
   "metadata": {},
   "outputs": [
    {
     "data": {
      "text/html": [
       "<table class=\"dataframe\">\n",
       "<caption>A tibble: 2 × 4</caption>\n",
       "<thead>\n",
       "\t<tr><th scope=col>name</th><th scope=col>gender</th><th scope=col>hamsters</th><th scope=col>hamster_cages</th></tr>\n",
       "\t<tr><th scope=col>&lt;chr&gt;</th><th scope=col>&lt;chr&gt;</th><th scope=col>&lt;dbl&gt;</th><th scope=col>&lt;dbl&gt;</th></tr>\n",
       "</thead>\n",
       "<tbody>\n",
       "\t<tr><td>Jen </td><td>female</td><td>6</td><td>3</td></tr>\n",
       "\t<tr><td>Karl</td><td>male  </td><td>2</td><td>3</td></tr>\n",
       "</tbody>\n",
       "</table>\n"
      ],
      "text/latex": [
       "A tibble: 2 × 4\n",
       "\\begin{tabular}{llll}\n",
       " name & gender & hamsters & hamster\\_cages\\\\\n",
       " <chr> & <chr> & <dbl> & <dbl>\\\\\n",
       "\\hline\n",
       "\t Jen  & female & 6 & 3\\\\\n",
       "\t Karl & male   & 2 & 3\\\\\n",
       "\\end{tabular}\n"
      ],
      "text/markdown": [
       "\n",
       "A tibble: 2 × 4\n",
       "\n",
       "| name &lt;chr&gt; | gender &lt;chr&gt; | hamsters &lt;dbl&gt; | hamster_cages &lt;dbl&gt; |\n",
       "|---|---|---|---|\n",
       "| Jen  | female | 6 | 3 |\n",
       "| Karl | male   | 2 | 3 |\n",
       "\n"
      ],
      "text/plain": [
       "  name gender hamsters hamster_cages\n",
       "1 Jen  female 6        3            \n",
       "2 Karl male   2        3            "
      ]
     },
     "metadata": {},
     "output_type": "display_data"
    }
   ],
   "source": [
    "hamsters %>% \n",
    "  filter(hamsters %in% c(2, 4, 6, 8))"
   ]
  },
  {
   "cell_type": "markdown",
   "id": "e93b1428-a694-4888-a380-022abef945b9",
   "metadata": {},
   "source": [
    "This can be a little bit confusing, so make sure you understand this.\n",
    "\n",
    "Think about the filter as happening row by row: first it checks the\n",
    "first row to see if 5 is in c(2, 4, 6, 8) – it isn’t so it doesn’t\n",
    "include that row. \n",
    "\n",
    "Then it checks the second row and also doesn’t include\n",
    "that one because 7 isn’t in the vector. \n",
    "\n",
    "It then checks the third row and\n",
    "keeps it because 6 is in there, and so on."
   ]
  },
  {
   "cell_type": "markdown",
   "id": "08d42bbf-3609-4bc5-848e-d917213bf217",
   "metadata": {},
   "source": [
    "# Filter with groups\n",
    "\n",
    "<span style=\"color:red; font-weight:bold;\">NOT CLEAR WHAT group_by IS DOING HERE: RESULTS SAME AS DOING NOTHING</span>\n",
    "\n",
    "Groups can be confusing at first but they are incredibly useful. Usually\n",
    "code operates on rows. For example, the code above checked each row to\n",
    "see if the gender was female in that row.\n",
    "\n",
    "But sometimes we want to work with groups of rows instead of one row at\n",
    "a time. To do so, we add a group attribute to the data frame before we\n",
    "do anything.\n",
    "\n",
    "Here’s example code and a visual depiction of grouping a data frame by\n",
    "the `x` column:\n",
    "\n",
    "```r\n",
    "dataframe %>% \n",
    "   group_by(x)\n",
    "```"
   ]
  },
  {
   "cell_type": "markdown",
   "id": "5afe92bb-d429-4213-85cc-4b8bbec1066b",
   "metadata": {},
   "source": [
    "<img src=\"http://swcarpentry.github.io/r-novice-gapminder/fig/12-plyr-fig1.png\" width=\"50%\" height=\"50%\"/>\n",
    "\n",
    "[Source](https://cities.github.io/datascience2017/11-split-apply-combine.html)"
   ]
  },
  {
   "cell_type": "markdown",
   "id": "4bb6e74f-39ee-49d1-b8da-707a87624b74",
   "metadata": {
    "jp-MarkdownHeadingCollapsed": true,
    "tags": []
   },
   "source": [
    "This pattern is called **split-apply-combine**. \n",
    "\n",
    "The idea is to: \n",
    "* **split** a data frame into multiple groups,\n",
    "* **apply** something to each group, \n",
    "* then **combine** the groups back into a single data frame.\n",
    "\n",
    "Let’s look at an example with hamsters:"
   ]
  },
  {
   "cell_type": "code",
   "execution_count": 108,
   "id": "c565a50b-7e12-4a64-aa5a-dfe421933a76",
   "metadata": {
    "jp-MarkdownHeadingCollapsed": true,
    "tags": []
   },
   "outputs": [
    {
     "data": {
      "text/html": [
       "<table class=\"dataframe\">\n",
       "<caption>A grouped_df: 3 × 4</caption>\n",
       "<thead>\n",
       "\t<tr><th scope=col>name</th><th scope=col>gender</th><th scope=col>hamsters</th><th scope=col>hamster_cages</th></tr>\n",
       "\t<tr><th scope=col>&lt;chr&gt;</th><th scope=col>&lt;chr&gt;</th><th scope=col>&lt;dbl&gt;</th><th scope=col>&lt;dbl&gt;</th></tr>\n",
       "</thead>\n",
       "<tbody>\n",
       "\t<tr><td>Megan</td><td>female</td><td>5</td><td>2</td></tr>\n",
       "\t<tr><td>Amy  </td><td>female</td><td>7</td><td>1</td></tr>\n",
       "\t<tr><td>Jen  </td><td>female</td><td>6</td><td>3</td></tr>\n",
       "</tbody>\n",
       "</table>\n"
      ],
      "text/latex": [
       "A grouped\\_df: 3 × 4\n",
       "\\begin{tabular}{llll}\n",
       " name & gender & hamsters & hamster\\_cages\\\\\n",
       " <chr> & <chr> & <dbl> & <dbl>\\\\\n",
       "\\hline\n",
       "\t Megan & female & 5 & 2\\\\\n",
       "\t Amy   & female & 7 & 1\\\\\n",
       "\t Jen   & female & 6 & 3\\\\\n",
       "\\end{tabular}\n"
      ],
      "text/markdown": [
       "\n",
       "A grouped_df: 3 × 4\n",
       "\n",
       "| name &lt;chr&gt; | gender &lt;chr&gt; | hamsters &lt;dbl&gt; | hamster_cages &lt;dbl&gt; |\n",
       "|---|---|---|---|\n",
       "| Megan | female | 5 | 2 |\n",
       "| Amy   | female | 7 | 1 |\n",
       "| Jen   | female | 6 | 3 |\n",
       "\n"
      ],
      "text/plain": [
       "  name  gender hamsters hamster_cages\n",
       "1 Megan female 5        2            \n",
       "2 Amy   female 7        1            \n",
       "3 Jen   female 6        3            "
      ]
     },
     "metadata": {},
     "output_type": "display_data"
    }
   ],
   "source": [
    "hamsters %>% \n",
    "  group_by(gender) %>% \n",
    "  filter(max(hamster_cages) == 3)"
   ]
  },
  {
   "cell_type": "markdown",
   "id": "eb1e7ecc-ae53-4261-b3eb-1c85ea61136d",
   "metadata": {
    "jp-MarkdownHeadingCollapsed": true,
    "tags": []
   },
   "source": [
    "We first grouped by gender. After that, every operation will happen at\n",
    "the group level instead of the row level.\n",
    "\n",
    "The final line is where the magic happens. It tells R to return only the\n",
    "gender group where the max number of hamster cages is 3. This is the\n",
    "female group.\n",
    "\n",
    "Notice that the male group isn’t included because the max number of\n",
    "hamster cages is 4, not 3.\n",
    "\n",
    "Similarly, we can get the gender group where the mean number of hamsters\n",
    "is 1.5. This time its the male group because there are two males – one\n",
    "with 1 hamster and the other with 2 hamsters."
   ]
  },
  {
   "cell_type": "code",
   "execution_count": 104,
   "id": "878c8574-93c8-4922-933e-cfe23cbeabae",
   "metadata": {
    "jp-MarkdownHeadingCollapsed": true,
    "tags": []
   },
   "outputs": [
    {
     "data": {
      "text/html": [
       "<table class=\"dataframe\">\n",
       "<caption>A grouped_df: 2 × 4</caption>\n",
       "<thead>\n",
       "\t<tr><th scope=col>name</th><th scope=col>gender</th><th scope=col>hamsters</th><th scope=col>hamster_cages</th></tr>\n",
       "\t<tr><th scope=col>&lt;chr&gt;</th><th scope=col>&lt;chr&gt;</th><th scope=col>&lt;dbl&gt;</th><th scope=col>&lt;dbl&gt;</th></tr>\n",
       "</thead>\n",
       "<tbody>\n",
       "\t<tr><td>Karl  </td><td>male</td><td>2</td><td>3</td></tr>\n",
       "\t<tr><td>Jeremy</td><td>male</td><td>1</td><td>4</td></tr>\n",
       "</tbody>\n",
       "</table>\n"
      ],
      "text/latex": [
       "A grouped\\_df: 2 × 4\n",
       "\\begin{tabular}{llll}\n",
       " name & gender & hamsters & hamster\\_cages\\\\\n",
       " <chr> & <chr> & <dbl> & <dbl>\\\\\n",
       "\\hline\n",
       "\t Karl   & male & 2 & 3\\\\\n",
       "\t Jeremy & male & 1 & 4\\\\\n",
       "\\end{tabular}\n"
      ],
      "text/markdown": [
       "\n",
       "A grouped_df: 2 × 4\n",
       "\n",
       "| name &lt;chr&gt; | gender &lt;chr&gt; | hamsters &lt;dbl&gt; | hamster_cages &lt;dbl&gt; |\n",
       "|---|---|---|---|\n",
       "| Karl   | male | 2 | 3 |\n",
       "| Jeremy | male | 1 | 4 |\n",
       "\n"
      ],
      "text/plain": [
       "  name   gender hamsters hamster_cages\n",
       "1 Karl   male   2        3            \n",
       "2 Jeremy male   1        4            "
      ]
     },
     "metadata": {},
     "output_type": "display_data"
    }
   ],
   "source": [
    "hamsters %>% \n",
    "  group_by(gender) %>% \n",
    "  filter(mean(hamsters) == 1.5)"
   ]
  },
  {
   "cell_type": "markdown",
   "id": "702ebaee-f92a-482c-a7c5-450b1de5423c",
   "metadata": {
    "jp-MarkdownHeadingCollapsed": true,
    "tags": []
   },
   "source": [
    "The n() function is a shortcut for the number of rows in the group. So,\n",
    "the following code finds the gender group with 3 rows in it:"
   ]
  },
  {
   "cell_type": "code",
   "execution_count": 110,
   "id": "73fea8f7-5e7f-4428-bd20-9a6b26d04c12",
   "metadata": {
    "jp-MarkdownHeadingCollapsed": true,
    "tags": []
   },
   "outputs": [
    {
     "data": {
      "text/html": [
       "<table class=\"dataframe\">\n",
       "<caption>A grouped_df: 0 × 4</caption>\n",
       "<thead>\n",
       "\t<tr><th scope=col>name</th><th scope=col>gender</th><th scope=col>hamsters</th><th scope=col>hamster_cages</th></tr>\n",
       "\t<tr><th scope=col>&lt;chr&gt;</th><th scope=col>&lt;chr&gt;</th><th scope=col>&lt;dbl&gt;</th><th scope=col>&lt;dbl&gt;</th></tr>\n",
       "</thead>\n",
       "<tbody>\n",
       "</tbody>\n",
       "</table>\n"
      ],
      "text/latex": [
       "A grouped\\_df: 0 × 4\n",
       "\\begin{tabular}{llll}\n",
       " name & gender & hamsters & hamster\\_cages\\\\\n",
       " <chr> & <chr> & <dbl> & <dbl>\\\\\n",
       "\\hline\n",
       "\\end{tabular}\n"
      ],
      "text/markdown": [
       "\n",
       "A grouped_df: 0 × 4\n",
       "\n",
       "| name &lt;chr&gt; | gender &lt;chr&gt; | hamsters &lt;dbl&gt; | hamster_cages &lt;dbl&gt; |\n",
       "|---|---|---|---|\n",
       "\n"
      ],
      "text/plain": [
       "     name gender hamsters hamster_cages"
      ]
     },
     "metadata": {},
     "output_type": "display_data"
    }
   ],
   "source": [
    "hamsters %>% \n",
    "  group_by(gender) %>% \n",
    "  filter(n() == 4)"
   ]
  },
  {
   "cell_type": "markdown",
   "id": "beb7fa0e-692d-4488-b7e0-2dcc68e8d18d",
   "metadata": {
    "jp-MarkdownHeadingCollapsed": true,
    "tags": []
   },
   "source": [
    "Of course, there isn’t any reason that we have to group by gender. We\n",
    "could instead group by the number of hamster cages.\n",
    "\n",
    "**Self-explanation: Why don’t Jen or Karl appear in the data frame after\n",
    "we filter?**"
   ]
  },
  {
   "cell_type": "code",
   "execution_count": 112,
   "id": "a0b97157-e2df-4f3c-bf78-a73c465904a5",
   "metadata": {
    "jp-MarkdownHeadingCollapsed": true,
    "tags": []
   },
   "outputs": [
    {
     "data": {
      "text/html": [
       "<table class=\"dataframe\">\n",
       "<caption>A grouped_df: 3 × 4</caption>\n",
       "<thead>\n",
       "\t<tr><th scope=col>name</th><th scope=col>gender</th><th scope=col>hamsters</th><th scope=col>hamster_cages</th></tr>\n",
       "\t<tr><th scope=col>&lt;chr&gt;</th><th scope=col>&lt;chr&gt;</th><th scope=col>&lt;dbl&gt;</th><th scope=col>&lt;dbl&gt;</th></tr>\n",
       "</thead>\n",
       "<tbody>\n",
       "\t<tr><td>Megan </td><td>female</td><td>5</td><td>2</td></tr>\n",
       "\t<tr><td>Amy   </td><td>female</td><td>7</td><td>1</td></tr>\n",
       "\t<tr><td>Jeremy</td><td>male  </td><td>1</td><td>4</td></tr>\n",
       "</tbody>\n",
       "</table>\n"
      ],
      "text/latex": [
       "A grouped\\_df: 3 × 4\n",
       "\\begin{tabular}{llll}\n",
       " name & gender & hamsters & hamster\\_cages\\\\\n",
       " <chr> & <chr> & <dbl> & <dbl>\\\\\n",
       "\\hline\n",
       "\t Megan  & female & 5 & 2\\\\\n",
       "\t Amy    & female & 7 & 1\\\\\n",
       "\t Jeremy & male   & 1 & 4\\\\\n",
       "\\end{tabular}\n"
      ],
      "text/markdown": [
       "\n",
       "A grouped_df: 3 × 4\n",
       "\n",
       "| name &lt;chr&gt; | gender &lt;chr&gt; | hamsters &lt;dbl&gt; | hamster_cages &lt;dbl&gt; |\n",
       "|---|---|---|---|\n",
       "| Megan  | female | 5 | 2 |\n",
       "| Amy    | female | 7 | 1 |\n",
       "| Jeremy | male   | 1 | 4 |\n",
       "\n"
      ],
      "text/plain": [
       "  name   gender hamsters hamster_cages\n",
       "1 Megan  female 5        2            \n",
       "2 Amy    female 7        1            \n",
       "3 Jeremy male   1        4            "
      ]
     },
     "metadata": {},
     "output_type": "display_data"
    }
   ],
   "source": [
    "hamsters %>% \n",
    "  group_by(hamster_cages) %>% \n",
    "  filter(n() == 1)"
   ]
  },
  {
   "cell_type": "markdown",
   "id": "f97b99ed-4d4b-41d9-804d-78a4fd7fc471",
   "metadata": {
    "tags": []
   },
   "source": [
    "# Mutate\n",
    "\n",
    "So far, arrange has sorted our data, select has chosen which columns to\n",
    "work with, and filter has sorted which rows to use. We haven’t changed\n",
    "our data at all yet though – that’s what mutate does!\n",
    "\n",
    "For example, maybe we want to create a new variable based on the number\n",
    "of hamsters per cage for each person:"
   ]
  },
  {
   "cell_type": "code",
   "execution_count": 115,
   "id": "5563c106-d30c-4774-8670-924096766395",
   "metadata": {
    "jp-MarkdownHeadingCollapsed": true,
    "tags": []
   },
   "outputs": [
    {
     "data": {
      "text/html": [
       "<table class=\"dataframe\">\n",
       "<caption>A tibble: 5 × 5</caption>\n",
       "<thead>\n",
       "\t<tr><th scope=col>name</th><th scope=col>gender</th><th scope=col>hamsters</th><th scope=col>hamster_cages</th><th scope=col>hamsters_per_cage</th></tr>\n",
       "\t<tr><th scope=col>&lt;chr&gt;</th><th scope=col>&lt;chr&gt;</th><th scope=col>&lt;dbl&gt;</th><th scope=col>&lt;dbl&gt;</th><th scope=col>&lt;dbl&gt;</th></tr>\n",
       "</thead>\n",
       "<tbody>\n",
       "\t<tr><td>Megan </td><td>female</td><td>5</td><td>2</td><td>2.5000000</td></tr>\n",
       "\t<tr><td>Amy   </td><td>female</td><td>7</td><td>1</td><td>7.0000000</td></tr>\n",
       "\t<tr><td>Jen   </td><td>female</td><td>6</td><td>3</td><td>2.0000000</td></tr>\n",
       "\t<tr><td>Karl  </td><td>male  </td><td>2</td><td>3</td><td>0.6666667</td></tr>\n",
       "\t<tr><td>Jeremy</td><td>male  </td><td>1</td><td>4</td><td>0.2500000</td></tr>\n",
       "</tbody>\n",
       "</table>\n"
      ],
      "text/latex": [
       "A tibble: 5 × 5\n",
       "\\begin{tabular}{lllll}\n",
       " name & gender & hamsters & hamster\\_cages & hamsters\\_per\\_cage\\\\\n",
       " <chr> & <chr> & <dbl> & <dbl> & <dbl>\\\\\n",
       "\\hline\n",
       "\t Megan  & female & 5 & 2 & 2.5000000\\\\\n",
       "\t Amy    & female & 7 & 1 & 7.0000000\\\\\n",
       "\t Jen    & female & 6 & 3 & 2.0000000\\\\\n",
       "\t Karl   & male   & 2 & 3 & 0.6666667\\\\\n",
       "\t Jeremy & male   & 1 & 4 & 0.2500000\\\\\n",
       "\\end{tabular}\n"
      ],
      "text/markdown": [
       "\n",
       "A tibble: 5 × 5\n",
       "\n",
       "| name &lt;chr&gt; | gender &lt;chr&gt; | hamsters &lt;dbl&gt; | hamster_cages &lt;dbl&gt; | hamsters_per_cage &lt;dbl&gt; |\n",
       "|---|---|---|---|---|\n",
       "| Megan  | female | 5 | 2 | 2.5000000 |\n",
       "| Amy    | female | 7 | 1 | 7.0000000 |\n",
       "| Jen    | female | 6 | 3 | 2.0000000 |\n",
       "| Karl   | male   | 2 | 3 | 0.6666667 |\n",
       "| Jeremy | male   | 1 | 4 | 0.2500000 |\n",
       "\n"
      ],
      "text/plain": [
       "  name   gender hamsters hamster_cages hamsters_per_cage\n",
       "1 Megan  female 5        2             2.5000000        \n",
       "2 Amy    female 7        1             7.0000000        \n",
       "3 Jen    female 6        3             2.0000000        \n",
       "4 Karl   male   2        3             0.6666667        \n",
       "5 Jeremy male   1        4             0.2500000        "
      ]
     },
     "metadata": {},
     "output_type": "display_data"
    }
   ],
   "source": [
    "hamsters %>% \n",
    "  mutate(hamsters_per_cage = hamsters / hamster_cages)"
   ]
  },
  {
   "cell_type": "code",
   "execution_count": 116,
   "id": "b6a4680d-f06e-4748-938b-7b6b7afc3a62",
   "metadata": {
    "jp-MarkdownHeadingCollapsed": true,
    "tags": []
   },
   "outputs": [
    {
     "data": {
      "text/html": [
       "<table class=\"dataframe\">\n",
       "<caption>A tibble: 5 × 5</caption>\n",
       "<thead>\n",
       "\t<tr><th scope=col>name</th><th scope=col>gender</th><th scope=col>hamsters</th><th scope=col>hamster_cages</th><th scope=col>hamsters_per_cage</th></tr>\n",
       "\t<tr><th scope=col>&lt;chr&gt;</th><th scope=col>&lt;chr&gt;</th><th scope=col>&lt;dbl&gt;</th><th scope=col>&lt;dbl&gt;</th><th scope=col>&lt;dbl&gt;</th></tr>\n",
       "</thead>\n",
       "<tbody>\n",
       "\t<tr><td>Jeremy</td><td>male  </td><td>1</td><td>4</td><td>0.2500000</td></tr>\n",
       "\t<tr><td>Karl  </td><td>male  </td><td>2</td><td>3</td><td>0.6666667</td></tr>\n",
       "\t<tr><td>Jen   </td><td>female</td><td>6</td><td>3</td><td>2.0000000</td></tr>\n",
       "\t<tr><td>Megan </td><td>female</td><td>5</td><td>2</td><td>2.5000000</td></tr>\n",
       "\t<tr><td>Amy   </td><td>female</td><td>7</td><td>1</td><td>7.0000000</td></tr>\n",
       "</tbody>\n",
       "</table>\n"
      ],
      "text/latex": [
       "A tibble: 5 × 5\n",
       "\\begin{tabular}{lllll}\n",
       " name & gender & hamsters & hamster\\_cages & hamsters\\_per\\_cage\\\\\n",
       " <chr> & <chr> & <dbl> & <dbl> & <dbl>\\\\\n",
       "\\hline\n",
       "\t Jeremy & male   & 1 & 4 & 0.2500000\\\\\n",
       "\t Karl   & male   & 2 & 3 & 0.6666667\\\\\n",
       "\t Jen    & female & 6 & 3 & 2.0000000\\\\\n",
       "\t Megan  & female & 5 & 2 & 2.5000000\\\\\n",
       "\t Amy    & female & 7 & 1 & 7.0000000\\\\\n",
       "\\end{tabular}\n"
      ],
      "text/markdown": [
       "\n",
       "A tibble: 5 × 5\n",
       "\n",
       "| name &lt;chr&gt; | gender &lt;chr&gt; | hamsters &lt;dbl&gt; | hamster_cages &lt;dbl&gt; | hamsters_per_cage &lt;dbl&gt; |\n",
       "|---|---|---|---|---|\n",
       "| Jeremy | male   | 1 | 4 | 0.2500000 |\n",
       "| Karl   | male   | 2 | 3 | 0.6666667 |\n",
       "| Jen    | female | 6 | 3 | 2.0000000 |\n",
       "| Megan  | female | 5 | 2 | 2.5000000 |\n",
       "| Amy    | female | 7 | 1 | 7.0000000 |\n",
       "\n"
      ],
      "text/plain": [
       "  name   gender hamsters hamster_cages hamsters_per_cage\n",
       "1 Jeremy male   1        4             0.2500000        \n",
       "2 Karl   male   2        3             0.6666667        \n",
       "3 Jen    female 6        3             2.0000000        \n",
       "4 Megan  female 5        2             2.5000000        \n",
       "5 Amy    female 7        1             7.0000000        "
      ]
     },
     "metadata": {},
     "output_type": "display_data"
    }
   ],
   "source": [
    "hamsters %>% \n",
    "  mutate(hamsters_per_cage = hamsters / hamster_cages) %>% \n",
    "  arrange(hamsters_per_cage)"
   ]
  },
  {
   "cell_type": "markdown",
   "id": "e7726913-4aca-4575-b0e4-f4871197fe0f",
   "metadata": {
    "jp-MarkdownHeadingCollapsed": true,
    "tags": []
   },
   "source": [
    "Or maybe we want an indicator of if the person has 5 or more hamsters:"
   ]
  },
  {
   "cell_type": "code",
   "execution_count": 61,
   "id": "abdbaf3e-7bde-45bf-8e7d-a8354b660441",
   "metadata": {
    "jp-MarkdownHeadingCollapsed": true,
    "tags": []
   },
   "outputs": [
    {
     "data": {
      "text/html": [
       "<table class=\"dataframe\">\n",
       "<caption>A tibble: 5 × 5</caption>\n",
       "<thead>\n",
       "\t<tr><th scope=col>name</th><th scope=col>gender</th><th scope=col>hamsters</th><th scope=col>hamster_cages</th><th scope=col>five_or_more_hamsters</th></tr>\n",
       "\t<tr><th scope=col>&lt;chr&gt;</th><th scope=col>&lt;chr&gt;</th><th scope=col>&lt;dbl&gt;</th><th scope=col>&lt;dbl&gt;</th><th scope=col>&lt;lgl&gt;</th></tr>\n",
       "</thead>\n",
       "<tbody>\n",
       "\t<tr><td>Megan </td><td>female</td><td>5</td><td>2</td><td> TRUE</td></tr>\n",
       "\t<tr><td>Amy   </td><td>female</td><td>7</td><td>1</td><td> TRUE</td></tr>\n",
       "\t<tr><td>Jen   </td><td>female</td><td>6</td><td>3</td><td> TRUE</td></tr>\n",
       "\t<tr><td>Karl  </td><td>male  </td><td>2</td><td>3</td><td>FALSE</td></tr>\n",
       "\t<tr><td>Jeremy</td><td>male  </td><td>1</td><td>4</td><td>FALSE</td></tr>\n",
       "</tbody>\n",
       "</table>\n"
      ],
      "text/latex": [
       "A tibble: 5 × 5\n",
       "\\begin{tabular}{lllll}\n",
       " name & gender & hamsters & hamster\\_cages & five\\_or\\_more\\_hamsters\\\\\n",
       " <chr> & <chr> & <dbl> & <dbl> & <lgl>\\\\\n",
       "\\hline\n",
       "\t Megan  & female & 5 & 2 &  TRUE\\\\\n",
       "\t Amy    & female & 7 & 1 &  TRUE\\\\\n",
       "\t Jen    & female & 6 & 3 &  TRUE\\\\\n",
       "\t Karl   & male   & 2 & 3 & FALSE\\\\\n",
       "\t Jeremy & male   & 1 & 4 & FALSE\\\\\n",
       "\\end{tabular}\n"
      ],
      "text/markdown": [
       "\n",
       "A tibble: 5 × 5\n",
       "\n",
       "| name &lt;chr&gt; | gender &lt;chr&gt; | hamsters &lt;dbl&gt; | hamster_cages &lt;dbl&gt; | five_or_more_hamsters &lt;lgl&gt; |\n",
       "|---|---|---|---|---|\n",
       "| Megan  | female | 5 | 2 |  TRUE |\n",
       "| Amy    | female | 7 | 1 |  TRUE |\n",
       "| Jen    | female | 6 | 3 |  TRUE |\n",
       "| Karl   | male   | 2 | 3 | FALSE |\n",
       "| Jeremy | male   | 1 | 4 | FALSE |\n",
       "\n"
      ],
      "text/plain": [
       "  name   gender hamsters hamster_cages five_or_more_hamsters\n",
       "1 Megan  female 5        2              TRUE                \n",
       "2 Amy    female 7        1              TRUE                \n",
       "3 Jen    female 6        3              TRUE                \n",
       "4 Karl   male   2        3             FALSE                \n",
       "5 Jeremy male   1        4             FALSE                "
      ]
     },
     "metadata": {},
     "output_type": "display_data"
    }
   ],
   "source": [
    "hamsters %>% \n",
    "  mutate(five_or_more_hamsters = hamsters >= 5)"
   ]
  },
  {
   "cell_type": "markdown",
   "id": "d67a57a1-653d-4243-8a72-c5523c26be78",
   "metadata": {
    "jp-MarkdownHeadingCollapsed": true,
    "tags": []
   },
   "source": [
    "We can also use mutate to input new data:"
   ]
  },
  {
   "cell_type": "code",
   "execution_count": 62,
   "id": "8792652e-082e-482d-b30d-73daa42b9fc7",
   "metadata": {
    "jp-MarkdownHeadingCollapsed": true,
    "tags": []
   },
   "outputs": [
    {
     "data": {
      "text/html": [
       "<table class=\"dataframe\">\n",
       "<caption>A tibble: 5 × 5</caption>\n",
       "<thead>\n",
       "\t<tr><th scope=col>name</th><th scope=col>gender</th><th scope=col>hamsters</th><th scope=col>hamster_cages</th><th scope=col>cats</th></tr>\n",
       "\t<tr><th scope=col>&lt;chr&gt;</th><th scope=col>&lt;chr&gt;</th><th scope=col>&lt;dbl&gt;</th><th scope=col>&lt;dbl&gt;</th><th scope=col>&lt;dbl&gt;</th></tr>\n",
       "</thead>\n",
       "<tbody>\n",
       "\t<tr><td>Megan </td><td>female</td><td>5</td><td>2</td><td>4</td></tr>\n",
       "\t<tr><td>Amy   </td><td>female</td><td>7</td><td>1</td><td>5</td></tr>\n",
       "\t<tr><td>Jen   </td><td>female</td><td>6</td><td>3</td><td>2</td></tr>\n",
       "\t<tr><td>Karl  </td><td>male  </td><td>2</td><td>3</td><td>3</td></tr>\n",
       "\t<tr><td>Jeremy</td><td>male  </td><td>1</td><td>4</td><td>1</td></tr>\n",
       "</tbody>\n",
       "</table>\n"
      ],
      "text/latex": [
       "A tibble: 5 × 5\n",
       "\\begin{tabular}{lllll}\n",
       " name & gender & hamsters & hamster\\_cages & cats\\\\\n",
       " <chr> & <chr> & <dbl> & <dbl> & <dbl>\\\\\n",
       "\\hline\n",
       "\t Megan  & female & 5 & 2 & 4\\\\\n",
       "\t Amy    & female & 7 & 1 & 5\\\\\n",
       "\t Jen    & female & 6 & 3 & 2\\\\\n",
       "\t Karl   & male   & 2 & 3 & 3\\\\\n",
       "\t Jeremy & male   & 1 & 4 & 1\\\\\n",
       "\\end{tabular}\n"
      ],
      "text/markdown": [
       "\n",
       "A tibble: 5 × 5\n",
       "\n",
       "| name &lt;chr&gt; | gender &lt;chr&gt; | hamsters &lt;dbl&gt; | hamster_cages &lt;dbl&gt; | cats &lt;dbl&gt; |\n",
       "|---|---|---|---|---|\n",
       "| Megan  | female | 5 | 2 | 4 |\n",
       "| Amy    | female | 7 | 1 | 5 |\n",
       "| Jen    | female | 6 | 3 | 2 |\n",
       "| Karl   | male   | 2 | 3 | 3 |\n",
       "| Jeremy | male   | 1 | 4 | 1 |\n",
       "\n"
      ],
      "text/plain": [
       "  name   gender hamsters hamster_cages cats\n",
       "1 Megan  female 5        2             4   \n",
       "2 Amy    female 7        1             5   \n",
       "3 Jen    female 6        3             2   \n",
       "4 Karl   male   2        3             3   \n",
       "5 Jeremy male   1        4             1   "
      ]
     },
     "metadata": {},
     "output_type": "display_data"
    }
   ],
   "source": [
    "hamsters %>% \n",
    "  mutate(cats = c(4, 5, 2, 3, 1))"
   ]
  },
  {
   "cell_type": "markdown",
   "id": "40c64b7b-2324-43bc-a6a9-87487717285c",
   "metadata": {
    "jp-MarkdownHeadingCollapsed": true,
    "tags": []
   },
   "source": [
    "Of course, this only works if we give it the right amount of values:"
   ]
  },
  {
   "cell_type": "code",
   "execution_count": 117,
   "id": "f9deba36-b460-40ec-bb97-93c2014c0f05",
   "metadata": {
    "tags": []
   },
   "outputs": [],
   "source": [
    "# hamsters %>% \n",
    "#   mutate(dogs = c(1, 3, 5))"
   ]
  },
  {
   "cell_type": "code",
   "execution_count": 118,
   "id": "419c35de-70c2-45f0-b14b-b59e655c3050",
   "metadata": {},
   "outputs": [
    {
     "name": "stdout",
     "output_type": "stream",
     "text": [
      "\u001b[1m\u001b[1m\u001b[1m\u001b[34m<error/dplyr:::mutate_error>\u001b[39m\u001b[22m\n",
      "\u001b[1m\u001b[33mError\u001b[39m in \u001b[1m\u001b[1m`mutate()`:\u001b[22m\n",
      "\u001b[1m\u001b[22m\u001b[33m!\u001b[39m Problem while computing `dogs = c(1, 3, 5)`.\n",
      "\u001b[31m✖\u001b[39m `dogs` must be size 5 or 1, not 3.\n",
      "---\n",
      "\u001b[1mBacktrace:\u001b[22m\n",
      "\u001b[90m  1. \u001b[39m\u001b[1mIRkernel\u001b[22m::main()\n",
      "\u001b[90m 31. \u001b[39m\u001b[1mdplyr\u001b[22m:::mutate.data.frame(., dogs = c(1, 3, 5))\n"
     ]
    }
   ],
   "source": [
    "tryCatch(\n",
    "    exp = {hamsters %>% mutate(dogs = c(1, 3, 5))},\n",
    "    error = function (e) {print(e)}\n",
    ")"
   ]
  },
  {
   "cell_type": "markdown",
   "id": "24e966ed-f57c-493d-b3a5-9ddfdb1d32e8",
   "metadata": {
    "jp-MarkdownHeadingCollapsed": true,
    "tags": []
   },
   "source": [
    "Interestingly, we can give it just 1 value and it will repeat it the\n",
    "correct number of times automatically:"
   ]
  },
  {
   "cell_type": "code",
   "execution_count": 68,
   "id": "62bb9d0c-4aac-4569-9967-303482bdfb7e",
   "metadata": {
    "jp-MarkdownHeadingCollapsed": true,
    "tags": []
   },
   "outputs": [
    {
     "data": {
      "text/html": [
       "<table class=\"dataframe\">\n",
       "<caption>A tibble: 5 × 5</caption>\n",
       "<thead>\n",
       "\t<tr><th scope=col>name</th><th scope=col>gender</th><th scope=col>hamsters</th><th scope=col>hamster_cages</th><th scope=col>walruses</th></tr>\n",
       "\t<tr><th scope=col>&lt;chr&gt;</th><th scope=col>&lt;chr&gt;</th><th scope=col>&lt;dbl&gt;</th><th scope=col>&lt;dbl&gt;</th><th scope=col>&lt;dbl&gt;</th></tr>\n",
       "</thead>\n",
       "<tbody>\n",
       "\t<tr><td>Megan </td><td>female</td><td>5</td><td>2</td><td>0</td></tr>\n",
       "\t<tr><td>Amy   </td><td>female</td><td>7</td><td>1</td><td>0</td></tr>\n",
       "\t<tr><td>Jen   </td><td>female</td><td>6</td><td>3</td><td>0</td></tr>\n",
       "\t<tr><td>Karl  </td><td>male  </td><td>2</td><td>3</td><td>0</td></tr>\n",
       "\t<tr><td>Jeremy</td><td>male  </td><td>1</td><td>4</td><td>0</td></tr>\n",
       "</tbody>\n",
       "</table>\n"
      ],
      "text/latex": [
       "A tibble: 5 × 5\n",
       "\\begin{tabular}{lllll}\n",
       " name & gender & hamsters & hamster\\_cages & walruses\\\\\n",
       " <chr> & <chr> & <dbl> & <dbl> & <dbl>\\\\\n",
       "\\hline\n",
       "\t Megan  & female & 5 & 2 & 0\\\\\n",
       "\t Amy    & female & 7 & 1 & 0\\\\\n",
       "\t Jen    & female & 6 & 3 & 0\\\\\n",
       "\t Karl   & male   & 2 & 3 & 0\\\\\n",
       "\t Jeremy & male   & 1 & 4 & 0\\\\\n",
       "\\end{tabular}\n"
      ],
      "text/markdown": [
       "\n",
       "A tibble: 5 × 5\n",
       "\n",
       "| name &lt;chr&gt; | gender &lt;chr&gt; | hamsters &lt;dbl&gt; | hamster_cages &lt;dbl&gt; | walruses &lt;dbl&gt; |\n",
       "|---|---|---|---|---|\n",
       "| Megan  | female | 5 | 2 | 0 |\n",
       "| Amy    | female | 7 | 1 | 0 |\n",
       "| Jen    | female | 6 | 3 | 0 |\n",
       "| Karl   | male   | 2 | 3 | 0 |\n",
       "| Jeremy | male   | 1 | 4 | 0 |\n",
       "\n"
      ],
      "text/plain": [
       "  name   gender hamsters hamster_cages walruses\n",
       "1 Megan  female 5        2             0       \n",
       "2 Amy    female 7        1             0       \n",
       "3 Jen    female 6        3             0       \n",
       "4 Karl   male   2        3             0       \n",
       "5 Jeremy male   1        4             0       "
      ]
     },
     "metadata": {},
     "output_type": "display_data"
    }
   ],
   "source": [
    "hamsters %>% \n",
    "  mutate(walruses = 0)"
   ]
  },
  {
   "cell_type": "markdown",
   "id": "a77f22dc-e2c0-4adc-a9bf-30321f00ce40",
   "metadata": {
    "jp-MarkdownHeadingCollapsed": true,
    "tags": []
   },
   "source": [
    "We can create multiple new columns with one use of mutate if we separate\n",
    "each new column with a `,`:"
   ]
  },
  {
   "cell_type": "code",
   "execution_count": 119,
   "id": "d5f21fd8-3a2c-45ea-93e3-da10178ab201",
   "metadata": {
    "jp-MarkdownHeadingCollapsed": true,
    "tags": []
   },
   "outputs": [
    {
     "data": {
      "text/html": [
       "<table class=\"dataframe\">\n",
       "<caption>A tibble: 5 × 6</caption>\n",
       "<thead>\n",
       "\t<tr><th scope=col>name</th><th scope=col>gender</th><th scope=col>hamsters</th><th scope=col>hamster_cages</th><th scope=col>hamsters_per_cage</th><th scope=col>five_or_more_hamsters</th></tr>\n",
       "\t<tr><th scope=col>&lt;chr&gt;</th><th scope=col>&lt;chr&gt;</th><th scope=col>&lt;dbl&gt;</th><th scope=col>&lt;dbl&gt;</th><th scope=col>&lt;dbl&gt;</th><th scope=col>&lt;lgl&gt;</th></tr>\n",
       "</thead>\n",
       "<tbody>\n",
       "\t<tr><td>Megan </td><td>female</td><td>5</td><td>2</td><td>2.5000000</td><td> TRUE</td></tr>\n",
       "\t<tr><td>Amy   </td><td>female</td><td>7</td><td>1</td><td>7.0000000</td><td> TRUE</td></tr>\n",
       "\t<tr><td>Jen   </td><td>female</td><td>6</td><td>3</td><td>2.0000000</td><td> TRUE</td></tr>\n",
       "\t<tr><td>Karl  </td><td>male  </td><td>2</td><td>3</td><td>0.6666667</td><td>FALSE</td></tr>\n",
       "\t<tr><td>Jeremy</td><td>male  </td><td>1</td><td>4</td><td>0.2500000</td><td>FALSE</td></tr>\n",
       "</tbody>\n",
       "</table>\n"
      ],
      "text/latex": [
       "A tibble: 5 × 6\n",
       "\\begin{tabular}{llllll}\n",
       " name & gender & hamsters & hamster\\_cages & hamsters\\_per\\_cage & five\\_or\\_more\\_hamsters\\\\\n",
       " <chr> & <chr> & <dbl> & <dbl> & <dbl> & <lgl>\\\\\n",
       "\\hline\n",
       "\t Megan  & female & 5 & 2 & 2.5000000 &  TRUE\\\\\n",
       "\t Amy    & female & 7 & 1 & 7.0000000 &  TRUE\\\\\n",
       "\t Jen    & female & 6 & 3 & 2.0000000 &  TRUE\\\\\n",
       "\t Karl   & male   & 2 & 3 & 0.6666667 & FALSE\\\\\n",
       "\t Jeremy & male   & 1 & 4 & 0.2500000 & FALSE\\\\\n",
       "\\end{tabular}\n"
      ],
      "text/markdown": [
       "\n",
       "A tibble: 5 × 6\n",
       "\n",
       "| name &lt;chr&gt; | gender &lt;chr&gt; | hamsters &lt;dbl&gt; | hamster_cages &lt;dbl&gt; | hamsters_per_cage &lt;dbl&gt; | five_or_more_hamsters &lt;lgl&gt; |\n",
       "|---|---|---|---|---|---|\n",
       "| Megan  | female | 5 | 2 | 2.5000000 |  TRUE |\n",
       "| Amy    | female | 7 | 1 | 7.0000000 |  TRUE |\n",
       "| Jen    | female | 6 | 3 | 2.0000000 |  TRUE |\n",
       "| Karl   | male   | 2 | 3 | 0.6666667 | FALSE |\n",
       "| Jeremy | male   | 1 | 4 | 0.2500000 | FALSE |\n",
       "\n"
      ],
      "text/plain": [
       "  name   gender hamsters hamster_cages hamsters_per_cage five_or_more_hamsters\n",
       "1 Megan  female 5        2             2.5000000          TRUE                \n",
       "2 Amy    female 7        1             7.0000000          TRUE                \n",
       "3 Jen    female 6        3             2.0000000          TRUE                \n",
       "4 Karl   male   2        3             0.6666667         FALSE                \n",
       "5 Jeremy male   1        4             0.2500000         FALSE                "
      ]
     },
     "metadata": {},
     "output_type": "display_data"
    }
   ],
   "source": [
    "hamsters %>% \n",
    "  mutate(hamsters_per_cage = hamsters / hamster_cages,\n",
    "         five_or_more_hamsters = hamsters >= 5)"
   ]
  },
  {
   "cell_type": "markdown",
   "id": "2398c9a2-b542-4857-b099-ac5ac7df09f9",
   "metadata": {
    "jp-MarkdownHeadingCollapsed": true,
    "tags": []
   },
   "source": [
    "Notice that “mutate” leaves all of the original columns in the dataframe\n",
    "and adds new columns. If we instead use **transmute** we’ll only get the\n",
    "new columns:"
   ]
  },
  {
   "cell_type": "code",
   "execution_count": 70,
   "id": "e7f481a3-0512-4b66-9538-91eae9f47eda",
   "metadata": {
    "jp-MarkdownHeadingCollapsed": true,
    "tags": []
   },
   "outputs": [
    {
     "data": {
      "text/html": [
       "<table class=\"dataframe\">\n",
       "<caption>A tibble: 5 × 2</caption>\n",
       "<thead>\n",
       "\t<tr><th scope=col>hamsters_per_cage</th><th scope=col>five_or_more_hamsters</th></tr>\n",
       "\t<tr><th scope=col>&lt;dbl&gt;</th><th scope=col>&lt;lgl&gt;</th></tr>\n",
       "</thead>\n",
       "<tbody>\n",
       "\t<tr><td>2.5000000</td><td> TRUE</td></tr>\n",
       "\t<tr><td>7.0000000</td><td> TRUE</td></tr>\n",
       "\t<tr><td>2.0000000</td><td> TRUE</td></tr>\n",
       "\t<tr><td>0.6666667</td><td>FALSE</td></tr>\n",
       "\t<tr><td>0.2500000</td><td>FALSE</td></tr>\n",
       "</tbody>\n",
       "</table>\n"
      ],
      "text/latex": [
       "A tibble: 5 × 2\n",
       "\\begin{tabular}{ll}\n",
       " hamsters\\_per\\_cage & five\\_or\\_more\\_hamsters\\\\\n",
       " <dbl> & <lgl>\\\\\n",
       "\\hline\n",
       "\t 2.5000000 &  TRUE\\\\\n",
       "\t 7.0000000 &  TRUE\\\\\n",
       "\t 2.0000000 &  TRUE\\\\\n",
       "\t 0.6666667 & FALSE\\\\\n",
       "\t 0.2500000 & FALSE\\\\\n",
       "\\end{tabular}\n"
      ],
      "text/markdown": [
       "\n",
       "A tibble: 5 × 2\n",
       "\n",
       "| hamsters_per_cage &lt;dbl&gt; | five_or_more_hamsters &lt;lgl&gt; |\n",
       "|---|---|\n",
       "| 2.5000000 |  TRUE |\n",
       "| 7.0000000 |  TRUE |\n",
       "| 2.0000000 |  TRUE |\n",
       "| 0.6666667 | FALSE |\n",
       "| 0.2500000 | FALSE |\n",
       "\n"
      ],
      "text/plain": [
       "  hamsters_per_cage five_or_more_hamsters\n",
       "1 2.5000000          TRUE                \n",
       "2 7.0000000          TRUE                \n",
       "3 2.0000000          TRUE                \n",
       "4 0.6666667         FALSE                \n",
       "5 0.2500000         FALSE                "
      ]
     },
     "metadata": {},
     "output_type": "display_data"
    }
   ],
   "source": [
    "hamsters %>% \n",
    "  transmute(hamsters_per_cage = hamsters / hamster_cages,\n",
    "         five_or_more_hamsters = hamsters >= 5)"
   ]
  },
  {
   "cell_type": "markdown",
   "id": "bf5ee066-87c9-4bc4-ad24-7cd28c282315",
   "metadata": {
    "jp-MarkdownHeadingCollapsed": true,
    "tags": []
   },
   "source": [
    "Slightly more complex things can be done by using values calculated from\n",
    "the data frame in the creation of a new column."
   ]
  },
  {
   "cell_type": "code",
   "execution_count": 120,
   "id": "1b587ac6-4569-4580-a112-847b48e6305c",
   "metadata": {
    "jp-MarkdownHeadingCollapsed": true,
    "tags": []
   },
   "outputs": [
    {
     "data": {
      "text/html": [
       "<table class=\"dataframe\">\n",
       "<caption>A tibble: 5 × 5</caption>\n",
       "<thead>\n",
       "\t<tr><th scope=col>name</th><th scope=col>gender</th><th scope=col>hamsters</th><th scope=col>hamster_cages</th><th scope=col>hamster_cages_centered</th></tr>\n",
       "\t<tr><th scope=col>&lt;chr&gt;</th><th scope=col>&lt;chr&gt;</th><th scope=col>&lt;dbl&gt;</th><th scope=col>&lt;dbl&gt;</th><th scope=col>&lt;dbl&gt;</th></tr>\n",
       "</thead>\n",
       "<tbody>\n",
       "\t<tr><td>Megan </td><td>female</td><td>5</td><td>2</td><td>-0.6</td></tr>\n",
       "\t<tr><td>Amy   </td><td>female</td><td>7</td><td>1</td><td>-1.6</td></tr>\n",
       "\t<tr><td>Jen   </td><td>female</td><td>6</td><td>3</td><td> 0.4</td></tr>\n",
       "\t<tr><td>Karl  </td><td>male  </td><td>2</td><td>3</td><td> 0.4</td></tr>\n",
       "\t<tr><td>Jeremy</td><td>male  </td><td>1</td><td>4</td><td> 1.4</td></tr>\n",
       "</tbody>\n",
       "</table>\n"
      ],
      "text/latex": [
       "A tibble: 5 × 5\n",
       "\\begin{tabular}{lllll}\n",
       " name & gender & hamsters & hamster\\_cages & hamster\\_cages\\_centered\\\\\n",
       " <chr> & <chr> & <dbl> & <dbl> & <dbl>\\\\\n",
       "\\hline\n",
       "\t Megan  & female & 5 & 2 & -0.6\\\\\n",
       "\t Amy    & female & 7 & 1 & -1.6\\\\\n",
       "\t Jen    & female & 6 & 3 &  0.4\\\\\n",
       "\t Karl   & male   & 2 & 3 &  0.4\\\\\n",
       "\t Jeremy & male   & 1 & 4 &  1.4\\\\\n",
       "\\end{tabular}\n"
      ],
      "text/markdown": [
       "\n",
       "A tibble: 5 × 5\n",
       "\n",
       "| name &lt;chr&gt; | gender &lt;chr&gt; | hamsters &lt;dbl&gt; | hamster_cages &lt;dbl&gt; | hamster_cages_centered &lt;dbl&gt; |\n",
       "|---|---|---|---|---|\n",
       "| Megan  | female | 5 | 2 | -0.6 |\n",
       "| Amy    | female | 7 | 1 | -1.6 |\n",
       "| Jen    | female | 6 | 3 |  0.4 |\n",
       "| Karl   | male   | 2 | 3 |  0.4 |\n",
       "| Jeremy | male   | 1 | 4 |  1.4 |\n",
       "\n"
      ],
      "text/plain": [
       "  name   gender hamsters hamster_cages hamster_cages_centered\n",
       "1 Megan  female 5        2             -0.6                  \n",
       "2 Amy    female 7        1             -1.6                  \n",
       "3 Jen    female 6        3              0.4                  \n",
       "4 Karl   male   2        3              0.4                  \n",
       "5 Jeremy male   1        4              1.4                  "
      ]
     },
     "metadata": {},
     "output_type": "display_data"
    }
   ],
   "source": [
    "hamsters %>% \n",
    "  mutate(hamster_cages_centered = hamster_cages - mean(hamster_cages))"
   ]
  },
  {
   "cell_type": "markdown",
   "id": "d5ea5684-540f-45b2-ac0b-13c289b99f65",
   "metadata": {
    "jp-MarkdownHeadingCollapsed": true,
    "tags": []
   },
   "source": [
    "Notice that first the mean of the hamster_cages column is calculated to\n",
    "be 2.6, then the new column is created by subtracting 2.6 off of each\n",
    "value of the hamster_cages column."
   ]
  },
  {
   "cell_type": "markdown",
   "id": "a65689f3-2133-4332-8f75-75677fbecfe9",
   "metadata": {
    "tags": []
   },
   "source": [
    "# Mutate with groups\n",
    "\n",
    "Sometimes its useful to define new variables based on a group. Remember\n",
    "groups tell R to operate on the data frame one group at a time as\n",
    "opposed to using all of the rows in the data frame.\n",
    "\n",
    "For example, examine the following – note how it’s different from the\n",
    "code above:"
   ]
  },
  {
   "cell_type": "code",
   "execution_count": 121,
   "id": "2c95ee98-245d-49ee-b059-9ff3e81ac9b4",
   "metadata": {
    "jp-MarkdownHeadingCollapsed": true,
    "tags": []
   },
   "outputs": [
    {
     "data": {
      "text/html": [
       "<table class=\"dataframe\">\n",
       "<caption>A grouped_df: 5 × 5</caption>\n",
       "<thead>\n",
       "\t<tr><th scope=col>name</th><th scope=col>gender</th><th scope=col>hamsters</th><th scope=col>hamster_cages</th><th scope=col>hamster_cages_centered_by_gender</th></tr>\n",
       "\t<tr><th scope=col>&lt;chr&gt;</th><th scope=col>&lt;chr&gt;</th><th scope=col>&lt;dbl&gt;</th><th scope=col>&lt;dbl&gt;</th><th scope=col>&lt;dbl&gt;</th></tr>\n",
       "</thead>\n",
       "<tbody>\n",
       "\t<tr><td>Megan </td><td>female</td><td>5</td><td>2</td><td> 0.0</td></tr>\n",
       "\t<tr><td>Amy   </td><td>female</td><td>7</td><td>1</td><td>-1.0</td></tr>\n",
       "\t<tr><td>Jen   </td><td>female</td><td>6</td><td>3</td><td> 1.0</td></tr>\n",
       "\t<tr><td>Karl  </td><td>male  </td><td>2</td><td>3</td><td>-0.5</td></tr>\n",
       "\t<tr><td>Jeremy</td><td>male  </td><td>1</td><td>4</td><td> 0.5</td></tr>\n",
       "</tbody>\n",
       "</table>\n"
      ],
      "text/latex": [
       "A grouped\\_df: 5 × 5\n",
       "\\begin{tabular}{lllll}\n",
       " name & gender & hamsters & hamster\\_cages & hamster\\_cages\\_centered\\_by\\_gender\\\\\n",
       " <chr> & <chr> & <dbl> & <dbl> & <dbl>\\\\\n",
       "\\hline\n",
       "\t Megan  & female & 5 & 2 &  0.0\\\\\n",
       "\t Amy    & female & 7 & 1 & -1.0\\\\\n",
       "\t Jen    & female & 6 & 3 &  1.0\\\\\n",
       "\t Karl   & male   & 2 & 3 & -0.5\\\\\n",
       "\t Jeremy & male   & 1 & 4 &  0.5\\\\\n",
       "\\end{tabular}\n"
      ],
      "text/markdown": [
       "\n",
       "A grouped_df: 5 × 5\n",
       "\n",
       "| name &lt;chr&gt; | gender &lt;chr&gt; | hamsters &lt;dbl&gt; | hamster_cages &lt;dbl&gt; | hamster_cages_centered_by_gender &lt;dbl&gt; |\n",
       "|---|---|---|---|---|\n",
       "| Megan  | female | 5 | 2 |  0.0 |\n",
       "| Amy    | female | 7 | 1 | -1.0 |\n",
       "| Jen    | female | 6 | 3 |  1.0 |\n",
       "| Karl   | male   | 2 | 3 | -0.5 |\n",
       "| Jeremy | male   | 1 | 4 |  0.5 |\n",
       "\n"
      ],
      "text/plain": [
       "  name   gender hamsters hamster_cages hamster_cages_centered_by_gender\n",
       "1 Megan  female 5        2              0.0                            \n",
       "2 Amy    female 7        1             -1.0                            \n",
       "3 Jen    female 6        3              1.0                            \n",
       "4 Karl   male   2        3             -0.5                            \n",
       "5 Jeremy male   1        4              0.5                            "
      ]
     },
     "metadata": {},
     "output_type": "display_data"
    }
   ],
   "source": [
    "hamsters %>% \n",
    "  group_by(gender) %>% \n",
    "  mutate(hamster_cages_centered_by_gender = hamster_cages - mean(hamster_cages))"
   ]
  },
  {
   "cell_type": "markdown",
   "id": "62bc4f6f-5e4b-480b-8ae5-5d12e8867459",
   "metadata": {
    "jp-MarkdownHeadingCollapsed": true,
    "tags": []
   },
   "source": [
    "Before in `hamster_cages_centered` we subtracted the mean of\n",
    "`hamster_cages` which was $2.6$ off of every value of `hamster_cages`.\n",
    "\n",
    "Now because we are grouping by `gender`, we subtract 2 off of\n",
    "`hamster_cages` for females and 3.5 off of `hamster_cages` for males. \n",
    "\n",
    "This is because `mean(hamster_cages)` operates on groups of rows defined by\n",
    "`gender` after we add the `group_by(gender)` attribute to the data frame.\n",
    "\n",
    "**Challenge: See if you can understand what the following code is doing.\n",
    "Warning, the “new_varible” doesn’t really make sense context.**"
   ]
  },
  {
   "cell_type": "code",
   "execution_count": 123,
   "id": "f22003e8-e77c-4880-a01b-47a79e598071",
   "metadata": {
    "jp-MarkdownHeadingCollapsed": true,
    "tags": []
   },
   "outputs": [
    {
     "data": {
      "text/html": [
       "<table class=\"dataframe\">\n",
       "<caption>A grouped_df: 5 × 5</caption>\n",
       "<thead>\n",
       "\t<tr><th scope=col>name</th><th scope=col>gender</th><th scope=col>hamsters</th><th scope=col>hamster_cages</th><th scope=col>new_variable</th></tr>\n",
       "\t<tr><th scope=col>&lt;chr&gt;</th><th scope=col>&lt;chr&gt;</th><th scope=col>&lt;dbl&gt;</th><th scope=col>&lt;dbl&gt;</th><th scope=col>&lt;dbl&gt;</th></tr>\n",
       "</thead>\n",
       "<tbody>\n",
       "\t<tr><td>Megan </td><td>female</td><td>5</td><td>2</td><td>1</td></tr>\n",
       "\t<tr><td>Amy   </td><td>female</td><td>7</td><td>1</td><td>0</td></tr>\n",
       "\t<tr><td>Jen   </td><td>female</td><td>6</td><td>3</td><td>1</td></tr>\n",
       "\t<tr><td>Karl  </td><td>male  </td><td>2</td><td>3</td><td>1</td></tr>\n",
       "\t<tr><td>Jeremy</td><td>male  </td><td>1</td><td>4</td><td>3</td></tr>\n",
       "</tbody>\n",
       "</table>\n"
      ],
      "text/latex": [
       "A grouped\\_df: 5 × 5\n",
       "\\begin{tabular}{lllll}\n",
       " name & gender & hamsters & hamster\\_cages & new\\_variable\\\\\n",
       " <chr> & <chr> & <dbl> & <dbl> & <dbl>\\\\\n",
       "\\hline\n",
       "\t Megan  & female & 5 & 2 & 1\\\\\n",
       "\t Amy    & female & 7 & 1 & 0\\\\\n",
       "\t Jen    & female & 6 & 3 & 1\\\\\n",
       "\t Karl   & male   & 2 & 3 & 1\\\\\n",
       "\t Jeremy & male   & 1 & 4 & 3\\\\\n",
       "\\end{tabular}\n"
      ],
      "text/markdown": [
       "\n",
       "A grouped_df: 5 × 5\n",
       "\n",
       "| name &lt;chr&gt; | gender &lt;chr&gt; | hamsters &lt;dbl&gt; | hamster_cages &lt;dbl&gt; | new_variable &lt;dbl&gt; |\n",
       "|---|---|---|---|---|\n",
       "| Megan  | female | 5 | 2 | 1 |\n",
       "| Amy    | female | 7 | 1 | 0 |\n",
       "| Jen    | female | 6 | 3 | 1 |\n",
       "| Karl   | male   | 2 | 3 | 1 |\n",
       "| Jeremy | male   | 1 | 4 | 3 |\n",
       "\n"
      ],
      "text/plain": [
       "  name   gender hamsters hamster_cages new_variable\n",
       "1 Megan  female 5        2             1           \n",
       "2 Amy    female 7        1             0           \n",
       "3 Jen    female 6        3             1           \n",
       "4 Karl   male   2        3             1           \n",
       "5 Jeremy male   1        4             3           "
      ]
     },
     "metadata": {},
     "output_type": "display_data"
    }
   ],
   "source": [
    "hamsters %>% \n",
    "  group_by(hamster_cages) %>% \n",
    "  mutate(new_variable = hamster_cages - n())"
   ]
  },
  {
   "cell_type": "markdown",
   "id": "30a09f96-3a00-4182-b7e4-b38a4c2e1bff",
   "metadata": {
    "tags": []
   },
   "source": [
    "# Summarize\n",
    "\n",
    "Mutate kept the same number of rows in the data frame and added a\n",
    "column.\n",
    "\n",
    "We also want to be able to collapse rows of a data frame which we might\n",
    "think of summarizing. One of the most common ways to summarize a set of\n",
    "numbers is to take the mean:"
   ]
  },
  {
   "cell_type": "code",
   "execution_count": 124,
   "id": "43d04d95-2c42-4b09-a7ed-4a2c61fe33fd",
   "metadata": {
    "jp-MarkdownHeadingCollapsed": true,
    "tags": []
   },
   "outputs": [
    {
     "data": {
      "text/html": [
       "<table class=\"dataframe\">\n",
       "<caption>A tibble: 1 × 1</caption>\n",
       "<thead>\n",
       "\t<tr><th scope=col>hamsters_mean</th></tr>\n",
       "\t<tr><th scope=col>&lt;dbl&gt;</th></tr>\n",
       "</thead>\n",
       "<tbody>\n",
       "\t<tr><td>4.2</td></tr>\n",
       "</tbody>\n",
       "</table>\n"
      ],
      "text/latex": [
       "A tibble: 1 × 1\n",
       "\\begin{tabular}{l}\n",
       " hamsters\\_mean\\\\\n",
       " <dbl>\\\\\n",
       "\\hline\n",
       "\t 4.2\\\\\n",
       "\\end{tabular}\n"
      ],
      "text/markdown": [
       "\n",
       "A tibble: 1 × 1\n",
       "\n",
       "| hamsters_mean &lt;dbl&gt; |\n",
       "|---|\n",
       "| 4.2 |\n",
       "\n"
      ],
      "text/plain": [
       "  hamsters_mean\n",
       "1 4.2          "
      ]
     },
     "metadata": {},
     "output_type": "display_data"
    }
   ],
   "source": [
    "hamsters %>% \n",
    "  summarize(hamsters_mean = mean(hamsters))"
   ]
  },
  {
   "cell_type": "markdown",
   "id": "7e6d697c-4353-4774-96d0-a1d3345633b6",
   "metadata": {
    "jp-MarkdownHeadingCollapsed": true,
    "tags": []
   },
   "source": [
    "Another common method of summarizing is the median. We can summarize\n",
    "multiple variables with multiple functions at the same time:"
   ]
  },
  {
   "cell_type": "code",
   "execution_count": 126,
   "id": "58834c19-80ae-435e-97c0-c92008500093",
   "metadata": {
    "jp-MarkdownHeadingCollapsed": true,
    "tags": []
   },
   "outputs": [
    {
     "data": {
      "text/html": [
       "<table class=\"dataframe\">\n",
       "<caption>A tibble: 1 × 4</caption>\n",
       "<thead>\n",
       "\t<tr><th scope=col>hamsters_mean</th><th scope=col>hamsters_median</th><th scope=col>hamster_cages_mean</th><th scope=col>hamster_cages_median</th></tr>\n",
       "\t<tr><th scope=col>&lt;dbl&gt;</th><th scope=col>&lt;dbl&gt;</th><th scope=col>&lt;dbl&gt;</th><th scope=col>&lt;dbl&gt;</th></tr>\n",
       "</thead>\n",
       "<tbody>\n",
       "\t<tr><td>4.2</td><td>5</td><td>2.6</td><td>3</td></tr>\n",
       "</tbody>\n",
       "</table>\n"
      ],
      "text/latex": [
       "A tibble: 1 × 4\n",
       "\\begin{tabular}{llll}\n",
       " hamsters\\_mean & hamsters\\_median & hamster\\_cages\\_mean & hamster\\_cages\\_median\\\\\n",
       " <dbl> & <dbl> & <dbl> & <dbl>\\\\\n",
       "\\hline\n",
       "\t 4.2 & 5 & 2.6 & 3\\\\\n",
       "\\end{tabular}\n"
      ],
      "text/markdown": [
       "\n",
       "A tibble: 1 × 4\n",
       "\n",
       "| hamsters_mean &lt;dbl&gt; | hamsters_median &lt;dbl&gt; | hamster_cages_mean &lt;dbl&gt; | hamster_cages_median &lt;dbl&gt; |\n",
       "|---|---|---|---|\n",
       "| 4.2 | 5 | 2.6 | 3 |\n",
       "\n"
      ],
      "text/plain": [
       "  hamsters_mean hamsters_median hamster_cages_mean hamster_cages_median\n",
       "1 4.2           5               2.6                3                   "
      ]
     },
     "metadata": {},
     "output_type": "display_data"
    }
   ],
   "source": [
    "hamsters %>%\n",
    "  summarize(hamsters_mean = mean(hamsters),\n",
    "            hamsters_median = median(hamsters),\n",
    "            hamster_cages_mean = mean(hamster_cages),\n",
    "            hamster_cages_median = median(hamster_cages))"
   ]
  },
  {
   "cell_type": "markdown",
   "id": "bb7da654-7174-4fe6-b25a-2919ce8cfbd0",
   "metadata": {
    "tags": []
   },
   "source": [
    "# Summarize with groups\n",
    "\n",
    "Summarize isn’t that useful by itself, but when we add groups it becomes\n",
    "crazy powerful!\n",
    "\n",
    "It allows us to get a summary row for each group in the data frame:"
   ]
  },
  {
   "cell_type": "code",
   "execution_count": 127,
   "id": "0dfa7b20-80b0-4104-a2fd-7ef3498bf347",
   "metadata": {
    "jp-MarkdownHeadingCollapsed": true,
    "tags": []
   },
   "outputs": [
    {
     "data": {
      "text/html": [
       "<table class=\"dataframe\">\n",
       "<caption>A tibble: 5 × 4</caption>\n",
       "<thead>\n",
       "\t<tr><th scope=col>name</th><th scope=col>gender</th><th scope=col>hamsters</th><th scope=col>hamster_cages</th></tr>\n",
       "\t<tr><th scope=col>&lt;chr&gt;</th><th scope=col>&lt;chr&gt;</th><th scope=col>&lt;dbl&gt;</th><th scope=col>&lt;dbl&gt;</th></tr>\n",
       "</thead>\n",
       "<tbody>\n",
       "\t<tr><td>Megan </td><td>female</td><td>5</td><td>2</td></tr>\n",
       "\t<tr><td>Amy   </td><td>female</td><td>7</td><td>1</td></tr>\n",
       "\t<tr><td>Jen   </td><td>female</td><td>6</td><td>3</td></tr>\n",
       "\t<tr><td>Karl  </td><td>male  </td><td>2</td><td>3</td></tr>\n",
       "\t<tr><td>Jeremy</td><td>male  </td><td>1</td><td>4</td></tr>\n",
       "</tbody>\n",
       "</table>\n"
      ],
      "text/latex": [
       "A tibble: 5 × 4\n",
       "\\begin{tabular}{llll}\n",
       " name & gender & hamsters & hamster\\_cages\\\\\n",
       " <chr> & <chr> & <dbl> & <dbl>\\\\\n",
       "\\hline\n",
       "\t Megan  & female & 5 & 2\\\\\n",
       "\t Amy    & female & 7 & 1\\\\\n",
       "\t Jen    & female & 6 & 3\\\\\n",
       "\t Karl   & male   & 2 & 3\\\\\n",
       "\t Jeremy & male   & 1 & 4\\\\\n",
       "\\end{tabular}\n"
      ],
      "text/markdown": [
       "\n",
       "A tibble: 5 × 4\n",
       "\n",
       "| name &lt;chr&gt; | gender &lt;chr&gt; | hamsters &lt;dbl&gt; | hamster_cages &lt;dbl&gt; |\n",
       "|---|---|---|---|\n",
       "| Megan  | female | 5 | 2 |\n",
       "| Amy    | female | 7 | 1 |\n",
       "| Jen    | female | 6 | 3 |\n",
       "| Karl   | male   | 2 | 3 |\n",
       "| Jeremy | male   | 1 | 4 |\n",
       "\n"
      ],
      "text/plain": [
       "  name   gender hamsters hamster_cages\n",
       "1 Megan  female 5        2            \n",
       "2 Amy    female 7        1            \n",
       "3 Jen    female 6        3            \n",
       "4 Karl   male   2        3            \n",
       "5 Jeremy male   1        4            "
      ]
     },
     "metadata": {},
     "output_type": "display_data"
    }
   ],
   "source": [
    "hamsters"
   ]
  },
  {
   "cell_type": "code",
   "execution_count": 128,
   "id": "eb32086f-07ee-430b-a2c6-38b3fe5b0cf9",
   "metadata": {
    "jp-MarkdownHeadingCollapsed": true,
    "tags": []
   },
   "outputs": [
    {
     "data": {
      "text/html": [
       "<table class=\"dataframe\">\n",
       "<caption>A tibble: 2 × 2</caption>\n",
       "<thead>\n",
       "\t<tr><th scope=col>gender</th><th scope=col>mean_hamsters</th></tr>\n",
       "\t<tr><th scope=col>&lt;chr&gt;</th><th scope=col>&lt;dbl&gt;</th></tr>\n",
       "</thead>\n",
       "<tbody>\n",
       "\t<tr><td>female</td><td>6.0</td></tr>\n",
       "\t<tr><td>male  </td><td>1.5</td></tr>\n",
       "</tbody>\n",
       "</table>\n"
      ],
      "text/latex": [
       "A tibble: 2 × 2\n",
       "\\begin{tabular}{ll}\n",
       " gender & mean\\_hamsters\\\\\n",
       " <chr> & <dbl>\\\\\n",
       "\\hline\n",
       "\t female & 6.0\\\\\n",
       "\t male   & 1.5\\\\\n",
       "\\end{tabular}\n"
      ],
      "text/markdown": [
       "\n",
       "A tibble: 2 × 2\n",
       "\n",
       "| gender &lt;chr&gt; | mean_hamsters &lt;dbl&gt; |\n",
       "|---|---|\n",
       "| female | 6.0 |\n",
       "| male   | 1.5 |\n",
       "\n"
      ],
      "text/plain": [
       "  gender mean_hamsters\n",
       "1 female 6.0          \n",
       "2 male   1.5          "
      ]
     },
     "metadata": {},
     "output_type": "display_data"
    }
   ],
   "source": [
    "hamsters %>% \n",
    "  group_by(gender) %>% \n",
    "  summarize(mean_hamsters = mean(hamsters))"
   ]
  },
  {
   "cell_type": "markdown",
   "id": "6d73d555-0725-4310-bff7-2e74b2936e40",
   "metadata": {
    "jp-MarkdownHeadingCollapsed": true,
    "tags": []
   },
   "source": [
    "Just as before, we can create multiple summary statistics all at once:"
   ]
  },
  {
   "cell_type": "code",
   "execution_count": 129,
   "id": "bd5b62ab-da81-41ac-8326-7e93d39db523",
   "metadata": {
    "jp-MarkdownHeadingCollapsed": true,
    "tags": []
   },
   "outputs": [
    {
     "data": {
      "text/html": [
       "<table class=\"dataframe\">\n",
       "<caption>A tibble: 2 × 4</caption>\n",
       "<thead>\n",
       "\t<tr><th scope=col>gender</th><th scope=col>mean_hamsters</th><th scope=col>max_hamsters</th><th scope=col>count</th></tr>\n",
       "\t<tr><th scope=col>&lt;chr&gt;</th><th scope=col>&lt;dbl&gt;</th><th scope=col>&lt;dbl&gt;</th><th scope=col>&lt;int&gt;</th></tr>\n",
       "</thead>\n",
       "<tbody>\n",
       "\t<tr><td>female</td><td>6.0</td><td>7</td><td>3</td></tr>\n",
       "\t<tr><td>male  </td><td>1.5</td><td>2</td><td>2</td></tr>\n",
       "</tbody>\n",
       "</table>\n"
      ],
      "text/latex": [
       "A tibble: 2 × 4\n",
       "\\begin{tabular}{llll}\n",
       " gender & mean\\_hamsters & max\\_hamsters & count\\\\\n",
       " <chr> & <dbl> & <dbl> & <int>\\\\\n",
       "\\hline\n",
       "\t female & 6.0 & 7 & 3\\\\\n",
       "\t male   & 1.5 & 2 & 2\\\\\n",
       "\\end{tabular}\n"
      ],
      "text/markdown": [
       "\n",
       "A tibble: 2 × 4\n",
       "\n",
       "| gender &lt;chr&gt; | mean_hamsters &lt;dbl&gt; | max_hamsters &lt;dbl&gt; | count &lt;int&gt; |\n",
       "|---|---|---|---|\n",
       "| female | 6.0 | 7 | 3 |\n",
       "| male   | 1.5 | 2 | 2 |\n",
       "\n"
      ],
      "text/plain": [
       "  gender mean_hamsters max_hamsters count\n",
       "1 female 6.0           7            3    \n",
       "2 male   1.5           2            2    "
      ]
     },
     "metadata": {},
     "output_type": "display_data"
    }
   ],
   "source": [
    "hamsters %>% \n",
    "  group_by(gender) %>% \n",
    "  summarize(mean_hamsters = mean(hamsters),\n",
    "            max_hamsters = max(hamsters),\n",
    "            count = n())"
   ]
  },
  {
   "cell_type": "markdown",
   "id": "1fe9fc98-fd4b-416a-a26d-8b76d7504a86",
   "metadata": {
    "jp-MarkdownHeadingCollapsed": true,
    "tags": []
   },
   "source": [
    "Of course, we don’t have to group by gender (it just happens to be the\n",
    "most natural in this case):"
   ]
  },
  {
   "cell_type": "code",
   "execution_count": 130,
   "id": "a758c20a-2e3d-4282-85a8-5729d51db82a",
   "metadata": {
    "jp-MarkdownHeadingCollapsed": true,
    "tags": []
   },
   "outputs": [
    {
     "data": {
      "text/html": [
       "<table class=\"dataframe\">\n",
       "<caption>A tibble: 4 × 3</caption>\n",
       "<thead>\n",
       "\t<tr><th scope=col>hamster_cages</th><th scope=col>max_hamsters</th><th scope=col>count</th></tr>\n",
       "\t<tr><th scope=col>&lt;dbl&gt;</th><th scope=col>&lt;dbl&gt;</th><th scope=col>&lt;int&gt;</th></tr>\n",
       "</thead>\n",
       "<tbody>\n",
       "\t<tr><td>1</td><td>7</td><td>1</td></tr>\n",
       "\t<tr><td>2</td><td>5</td><td>1</td></tr>\n",
       "\t<tr><td>3</td><td>6</td><td>2</td></tr>\n",
       "\t<tr><td>4</td><td>1</td><td>1</td></tr>\n",
       "</tbody>\n",
       "</table>\n"
      ],
      "text/latex": [
       "A tibble: 4 × 3\n",
       "\\begin{tabular}{lll}\n",
       " hamster\\_cages & max\\_hamsters & count\\\\\n",
       " <dbl> & <dbl> & <int>\\\\\n",
       "\\hline\n",
       "\t 1 & 7 & 1\\\\\n",
       "\t 2 & 5 & 1\\\\\n",
       "\t 3 & 6 & 2\\\\\n",
       "\t 4 & 1 & 1\\\\\n",
       "\\end{tabular}\n"
      ],
      "text/markdown": [
       "\n",
       "A tibble: 4 × 3\n",
       "\n",
       "| hamster_cages &lt;dbl&gt; | max_hamsters &lt;dbl&gt; | count &lt;int&gt; |\n",
       "|---|---|---|\n",
       "| 1 | 7 | 1 |\n",
       "| 2 | 5 | 1 |\n",
       "| 3 | 6 | 2 |\n",
       "| 4 | 1 | 1 |\n",
       "\n"
      ],
      "text/plain": [
       "  hamster_cages max_hamsters count\n",
       "1 1             7            1    \n",
       "2 2             5            1    \n",
       "3 3             6            2    \n",
       "4 4             1            1    "
      ]
     },
     "metadata": {},
     "output_type": "display_data"
    }
   ],
   "source": [
    "hamsters %>% \n",
    "  group_by(hamster_cages) %>% \n",
    "  summarize(max_hamsters = max(hamsters),\n",
    "            count = n())"
   ]
  },
  {
   "cell_type": "markdown",
   "id": "64c03275-ce7b-4f63-992a-7297f640ebb0",
   "metadata": {
    "jp-MarkdownHeadingCollapsed": true,
    "tags": []
   },
   "source": [
    "It is easy to get the difference between mutate and summarize confused.\n",
    "Remember that mutate returns the same number of rows in a data frame,\n",
    "summarize returns just one row, and summarize with groups returns a row\n",
    "for each group."
   ]
  },
  {
   "cell_type": "markdown",
   "id": "b27382eb-4bb9-48ef-95d9-d6d14b7fe151",
   "metadata": {
    "tags": []
   },
   "source": [
    "# The power of combining verbs!\n",
    "\n",
    "The true power of dplyr comes from combining these 5 verbs to solve\n",
    "problems. For example, see how we can piece commands together to do more\n",
    "and more complex operations:"
   ]
  },
  {
   "cell_type": "code",
   "execution_count": 131,
   "id": "0fd8f3b8-6e79-4847-82ce-ae36c50ba2be",
   "metadata": {
    "jp-MarkdownHeadingCollapsed": true,
    "tags": []
   },
   "outputs": [
    {
     "data": {
      "text/html": [
       "<table class=\"dataframe\">\n",
       "<caption>A tibble: 5 × 4</caption>\n",
       "<thead>\n",
       "\t<tr><th scope=col>name</th><th scope=col>gender</th><th scope=col>hamsters</th><th scope=col>hamster_cages</th></tr>\n",
       "\t<tr><th scope=col>&lt;chr&gt;</th><th scope=col>&lt;chr&gt;</th><th scope=col>&lt;dbl&gt;</th><th scope=col>&lt;dbl&gt;</th></tr>\n",
       "</thead>\n",
       "<tbody>\n",
       "\t<tr><td>Jeremy</td><td>male  </td><td>1</td><td>4</td></tr>\n",
       "\t<tr><td>Karl  </td><td>male  </td><td>2</td><td>3</td></tr>\n",
       "\t<tr><td>Megan </td><td>female</td><td>5</td><td>2</td></tr>\n",
       "\t<tr><td>Jen   </td><td>female</td><td>6</td><td>3</td></tr>\n",
       "\t<tr><td>Amy   </td><td>female</td><td>7</td><td>1</td></tr>\n",
       "</tbody>\n",
       "</table>\n"
      ],
      "text/latex": [
       "A tibble: 5 × 4\n",
       "\\begin{tabular}{llll}\n",
       " name & gender & hamsters & hamster\\_cages\\\\\n",
       " <chr> & <chr> & <dbl> & <dbl>\\\\\n",
       "\\hline\n",
       "\t Jeremy & male   & 1 & 4\\\\\n",
       "\t Karl   & male   & 2 & 3\\\\\n",
       "\t Megan  & female & 5 & 2\\\\\n",
       "\t Jen    & female & 6 & 3\\\\\n",
       "\t Amy    & female & 7 & 1\\\\\n",
       "\\end{tabular}\n"
      ],
      "text/markdown": [
       "\n",
       "A tibble: 5 × 4\n",
       "\n",
       "| name &lt;chr&gt; | gender &lt;chr&gt; | hamsters &lt;dbl&gt; | hamster_cages &lt;dbl&gt; |\n",
       "|---|---|---|---|\n",
       "| Jeremy | male   | 1 | 4 |\n",
       "| Karl   | male   | 2 | 3 |\n",
       "| Megan  | female | 5 | 2 |\n",
       "| Jen    | female | 6 | 3 |\n",
       "| Amy    | female | 7 | 1 |\n",
       "\n"
      ],
      "text/plain": [
       "  name   gender hamsters hamster_cages\n",
       "1 Jeremy male   1        4            \n",
       "2 Karl   male   2        3            \n",
       "3 Megan  female 5        2            \n",
       "4 Jen    female 6        3            \n",
       "5 Amy    female 7        1            "
      ]
     },
     "metadata": {},
     "output_type": "display_data"
    }
   ],
   "source": [
    "hamsters %>%\n",
    "  arrange(hamsters)"
   ]
  },
  {
   "cell_type": "code",
   "execution_count": 132,
   "id": "5dc47696-1569-40f4-9660-9feca7cdf229",
   "metadata": {
    "jp-MarkdownHeadingCollapsed": true,
    "tags": []
   },
   "outputs": [
    {
     "data": {
      "text/html": [
       "<table class=\"dataframe\">\n",
       "<caption>A tibble: 5 × 3</caption>\n",
       "<thead>\n",
       "\t<tr><th scope=col>gender</th><th scope=col>hamsters</th><th scope=col>hamster_cages</th></tr>\n",
       "\t<tr><th scope=col>&lt;chr&gt;</th><th scope=col>&lt;dbl&gt;</th><th scope=col>&lt;dbl&gt;</th></tr>\n",
       "</thead>\n",
       "<tbody>\n",
       "\t<tr><td>male  </td><td>1</td><td>4</td></tr>\n",
       "\t<tr><td>male  </td><td>2</td><td>3</td></tr>\n",
       "\t<tr><td>female</td><td>5</td><td>2</td></tr>\n",
       "\t<tr><td>female</td><td>6</td><td>3</td></tr>\n",
       "\t<tr><td>female</td><td>7</td><td>1</td></tr>\n",
       "</tbody>\n",
       "</table>\n"
      ],
      "text/latex": [
       "A tibble: 5 × 3\n",
       "\\begin{tabular}{lll}\n",
       " gender & hamsters & hamster\\_cages\\\\\n",
       " <chr> & <dbl> & <dbl>\\\\\n",
       "\\hline\n",
       "\t male   & 1 & 4\\\\\n",
       "\t male   & 2 & 3\\\\\n",
       "\t female & 5 & 2\\\\\n",
       "\t female & 6 & 3\\\\\n",
       "\t female & 7 & 1\\\\\n",
       "\\end{tabular}\n"
      ],
      "text/markdown": [
       "\n",
       "A tibble: 5 × 3\n",
       "\n",
       "| gender &lt;chr&gt; | hamsters &lt;dbl&gt; | hamster_cages &lt;dbl&gt; |\n",
       "|---|---|---|\n",
       "| male   | 1 | 4 |\n",
       "| male   | 2 | 3 |\n",
       "| female | 5 | 2 |\n",
       "| female | 6 | 3 |\n",
       "| female | 7 | 1 |\n",
       "\n"
      ],
      "text/plain": [
       "  gender hamsters hamster_cages\n",
       "1 male   1        4            \n",
       "2 male   2        3            \n",
       "3 female 5        2            \n",
       "4 female 6        3            \n",
       "5 female 7        1            "
      ]
     },
     "metadata": {},
     "output_type": "display_data"
    }
   ],
   "source": [
    "hamsters %>%\n",
    "  arrange(hamsters) %>% \n",
    "  select(-name) "
   ]
  },
  {
   "cell_type": "code",
   "execution_count": 133,
   "id": "4ca74c69-47bf-4293-b63d-f23cb0bc9523",
   "metadata": {
    "jp-MarkdownHeadingCollapsed": true,
    "tags": []
   },
   "outputs": [
    {
     "data": {
      "text/html": [
       "<table class=\"dataframe\">\n",
       "<caption>A tibble: 5 × 4</caption>\n",
       "<thead>\n",
       "\t<tr><th scope=col>gender</th><th scope=col>hamsters</th><th scope=col>hamster_cages</th><th scope=col>walruses</th></tr>\n",
       "\t<tr><th scope=col>&lt;chr&gt;</th><th scope=col>&lt;dbl&gt;</th><th scope=col>&lt;dbl&gt;</th><th scope=col>&lt;dbl&gt;</th></tr>\n",
       "</thead>\n",
       "<tbody>\n",
       "\t<tr><td>male  </td><td>1</td><td>4</td><td>0</td></tr>\n",
       "\t<tr><td>male  </td><td>2</td><td>3</td><td>0</td></tr>\n",
       "\t<tr><td>female</td><td>5</td><td>2</td><td>0</td></tr>\n",
       "\t<tr><td>female</td><td>6</td><td>3</td><td>0</td></tr>\n",
       "\t<tr><td>female</td><td>7</td><td>1</td><td>0</td></tr>\n",
       "</tbody>\n",
       "</table>\n"
      ],
      "text/latex": [
       "A tibble: 5 × 4\n",
       "\\begin{tabular}{llll}\n",
       " gender & hamsters & hamster\\_cages & walruses\\\\\n",
       " <chr> & <dbl> & <dbl> & <dbl>\\\\\n",
       "\\hline\n",
       "\t male   & 1 & 4 & 0\\\\\n",
       "\t male   & 2 & 3 & 0\\\\\n",
       "\t female & 5 & 2 & 0\\\\\n",
       "\t female & 6 & 3 & 0\\\\\n",
       "\t female & 7 & 1 & 0\\\\\n",
       "\\end{tabular}\n"
      ],
      "text/markdown": [
       "\n",
       "A tibble: 5 × 4\n",
       "\n",
       "| gender &lt;chr&gt; | hamsters &lt;dbl&gt; | hamster_cages &lt;dbl&gt; | walruses &lt;dbl&gt; |\n",
       "|---|---|---|---|\n",
       "| male   | 1 | 4 | 0 |\n",
       "| male   | 2 | 3 | 0 |\n",
       "| female | 5 | 2 | 0 |\n",
       "| female | 6 | 3 | 0 |\n",
       "| female | 7 | 1 | 0 |\n",
       "\n"
      ],
      "text/plain": [
       "  gender hamsters hamster_cages walruses\n",
       "1 male   1        4             0       \n",
       "2 male   2        3             0       \n",
       "3 female 5        2             0       \n",
       "4 female 6        3             0       \n",
       "5 female 7        1             0       "
      ]
     },
     "metadata": {},
     "output_type": "display_data"
    }
   ],
   "source": [
    "hamsters %>%\n",
    "  arrange(hamsters) %>% \n",
    "  select(-name) %>% \n",
    "  mutate(walruses = 0) "
   ]
  },
  {
   "cell_type": "code",
   "execution_count": 142,
   "id": "87e8b289-b37d-4c63-b758-d894f005aa61",
   "metadata": {
    "jp-MarkdownHeadingCollapsed": true,
    "tags": []
   },
   "outputs": [
    {
     "data": {
      "text/html": [
       "<table class=\"dataframe\">\n",
       "<caption>A grouped_df: 5 × 5</caption>\n",
       "<thead>\n",
       "\t<tr><th scope=col>gender</th><th scope=col>hamsters</th><th scope=col>hamster_cages</th><th scope=col>walruses</th><th scope=col>hamsters_centered_by_gender</th></tr>\n",
       "\t<tr><th scope=col>&lt;chr&gt;</th><th scope=col>&lt;dbl&gt;</th><th scope=col>&lt;dbl&gt;</th><th scope=col>&lt;dbl&gt;</th><th scope=col>&lt;dbl&gt;</th></tr>\n",
       "</thead>\n",
       "<tbody>\n",
       "\t<tr><td>male  </td><td>1</td><td>4</td><td>0</td><td>-0.5</td></tr>\n",
       "\t<tr><td>male  </td><td>2</td><td>3</td><td>0</td><td> 0.5</td></tr>\n",
       "\t<tr><td>female</td><td>5</td><td>2</td><td>0</td><td>-1.0</td></tr>\n",
       "\t<tr><td>female</td><td>6</td><td>3</td><td>0</td><td> 0.0</td></tr>\n",
       "\t<tr><td>female</td><td>7</td><td>1</td><td>0</td><td> 1.0</td></tr>\n",
       "</tbody>\n",
       "</table>\n"
      ],
      "text/latex": [
       "A grouped\\_df: 5 × 5\n",
       "\\begin{tabular}{lllll}\n",
       " gender & hamsters & hamster\\_cages & walruses & hamsters\\_centered\\_by\\_gender\\\\\n",
       " <chr> & <dbl> & <dbl> & <dbl> & <dbl>\\\\\n",
       "\\hline\n",
       "\t male   & 1 & 4 & 0 & -0.5\\\\\n",
       "\t male   & 2 & 3 & 0 &  0.5\\\\\n",
       "\t female & 5 & 2 & 0 & -1.0\\\\\n",
       "\t female & 6 & 3 & 0 &  0.0\\\\\n",
       "\t female & 7 & 1 & 0 &  1.0\\\\\n",
       "\\end{tabular}\n"
      ],
      "text/markdown": [
       "\n",
       "A grouped_df: 5 × 5\n",
       "\n",
       "| gender &lt;chr&gt; | hamsters &lt;dbl&gt; | hamster_cages &lt;dbl&gt; | walruses &lt;dbl&gt; | hamsters_centered_by_gender &lt;dbl&gt; |\n",
       "|---|---|---|---|---|\n",
       "| male   | 1 | 4 | 0 | -0.5 |\n",
       "| male   | 2 | 3 | 0 |  0.5 |\n",
       "| female | 5 | 2 | 0 | -1.0 |\n",
       "| female | 6 | 3 | 0 |  0.0 |\n",
       "| female | 7 | 1 | 0 |  1.0 |\n",
       "\n"
      ],
      "text/plain": [
       "  gender hamsters hamster_cages walruses hamsters_centered_by_gender\n",
       "1 male   1        4             0        -0.5                       \n",
       "2 male   2        3             0         0.5                       \n",
       "3 female 5        2             0        -1.0                       \n",
       "4 female 6        3             0         0.0                       \n",
       "5 female 7        1             0         1.0                       "
      ]
     },
     "metadata": {},
     "output_type": "display_data"
    }
   ],
   "source": [
    "hamsters %>%\n",
    "  arrange(hamsters) %>% \n",
    "  select(-name) %>% \n",
    "  mutate(walruses = 0) %>% \n",
    "  group_by(gender) %>% \n",
    "  mutate(hamsters_centered_by_gender = hamsters - mean(hamsters))"
   ]
  },
  {
   "cell_type": "markdown",
   "id": "da06de87-7edb-4910-ab81-4260ccc035ba",
   "metadata": {
    "tags": []
   },
   "source": [
    "# A few more examples\n",
    "\n",
    "There are many little tricks that dplyr can do that we haven’t talked\n",
    "about. Below are a few of those.\n",
    "\n",
    "Grouping and summarizing to get counts is so common that there is a\n",
    "shortcut “count” function:"
   ]
  },
  {
   "cell_type": "code",
   "execution_count": 143,
   "id": "1382374c-36ce-4c2a-83b8-10b19ebb31ca",
   "metadata": {
    "jp-MarkdownHeadingCollapsed": true,
    "tags": []
   },
   "outputs": [
    {
     "data": {
      "text/html": [
       "<table class=\"dataframe\">\n",
       "<caption>A tibble: 2 × 2</caption>\n",
       "<thead>\n",
       "\t<tr><th scope=col>gender</th><th scope=col>n</th></tr>\n",
       "\t<tr><th scope=col>&lt;chr&gt;</th><th scope=col>&lt;int&gt;</th></tr>\n",
       "</thead>\n",
       "<tbody>\n",
       "\t<tr><td>female</td><td>3</td></tr>\n",
       "\t<tr><td>male  </td><td>2</td></tr>\n",
       "</tbody>\n",
       "</table>\n"
      ],
      "text/latex": [
       "A tibble: 2 × 2\n",
       "\\begin{tabular}{ll}\n",
       " gender & n\\\\\n",
       " <chr> & <int>\\\\\n",
       "\\hline\n",
       "\t female & 3\\\\\n",
       "\t male   & 2\\\\\n",
       "\\end{tabular}\n"
      ],
      "text/markdown": [
       "\n",
       "A tibble: 2 × 2\n",
       "\n",
       "| gender &lt;chr&gt; | n &lt;int&gt; |\n",
       "|---|---|\n",
       "| female | 3 |\n",
       "| male   | 2 |\n",
       "\n"
      ],
      "text/plain": [
       "  gender n\n",
       "1 female 3\n",
       "2 male   2"
      ]
     },
     "metadata": {},
     "output_type": "display_data"
    }
   ],
   "source": [
    "hamsters %>% \n",
    "  group_by(gender) %>% \n",
    "  summarise(n = n())"
   ]
  },
  {
   "cell_type": "code",
   "execution_count": 144,
   "id": "f7f657e7-df32-4cb4-bf98-2799d1de213d",
   "metadata": {
    "jp-MarkdownHeadingCollapsed": true,
    "tags": []
   },
   "outputs": [
    {
     "data": {
      "text/html": [
       "<table class=\"dataframe\">\n",
       "<caption>A tibble: 2 × 2</caption>\n",
       "<thead>\n",
       "\t<tr><th scope=col>gender</th><th scope=col>n</th></tr>\n",
       "\t<tr><th scope=col>&lt;chr&gt;</th><th scope=col>&lt;int&gt;</th></tr>\n",
       "</thead>\n",
       "<tbody>\n",
       "\t<tr><td>female</td><td>3</td></tr>\n",
       "\t<tr><td>male  </td><td>2</td></tr>\n",
       "</tbody>\n",
       "</table>\n"
      ],
      "text/latex": [
       "A tibble: 2 × 2\n",
       "\\begin{tabular}{ll}\n",
       " gender & n\\\\\n",
       " <chr> & <int>\\\\\n",
       "\\hline\n",
       "\t female & 3\\\\\n",
       "\t male   & 2\\\\\n",
       "\\end{tabular}\n"
      ],
      "text/markdown": [
       "\n",
       "A tibble: 2 × 2\n",
       "\n",
       "| gender &lt;chr&gt; | n &lt;int&gt; |\n",
       "|---|---|\n",
       "| female | 3 |\n",
       "| male   | 2 |\n",
       "\n"
      ],
      "text/plain": [
       "  gender n\n",
       "1 female 3\n",
       "2 male   2"
      ]
     },
     "metadata": {},
     "output_type": "display_data"
    }
   ],
   "source": [
    "hamsters %>% \n",
    "  count(gender)"
   ]
  },
  {
   "cell_type": "markdown",
   "id": "26a1d77f-e19e-4eb7-835b-d10c7ae2bd6e",
   "metadata": {
    "jp-MarkdownHeadingCollapsed": true,
    "tags": []
   },
   "source": [
    "If you’re working with a lot of columns, select has some really useful\n",
    "helper functions. For example, we can get all of the columns that start\n",
    "with the letter “h”:"
   ]
  },
  {
   "cell_type": "code",
   "execution_count": 145,
   "id": "b166c99b-24b2-4882-9977-76fbaa286214",
   "metadata": {
    "jp-MarkdownHeadingCollapsed": true,
    "tags": []
   },
   "outputs": [
    {
     "data": {
      "text/html": [
       "<table class=\"dataframe\">\n",
       "<caption>A tibble: 5 × 2</caption>\n",
       "<thead>\n",
       "\t<tr><th scope=col>hamsters</th><th scope=col>hamster_cages</th></tr>\n",
       "\t<tr><th scope=col>&lt;dbl&gt;</th><th scope=col>&lt;dbl&gt;</th></tr>\n",
       "</thead>\n",
       "<tbody>\n",
       "\t<tr><td>5</td><td>2</td></tr>\n",
       "\t<tr><td>7</td><td>1</td></tr>\n",
       "\t<tr><td>6</td><td>3</td></tr>\n",
       "\t<tr><td>2</td><td>3</td></tr>\n",
       "\t<tr><td>1</td><td>4</td></tr>\n",
       "</tbody>\n",
       "</table>\n"
      ],
      "text/latex": [
       "A tibble: 5 × 2\n",
       "\\begin{tabular}{ll}\n",
       " hamsters & hamster\\_cages\\\\\n",
       " <dbl> & <dbl>\\\\\n",
       "\\hline\n",
       "\t 5 & 2\\\\\n",
       "\t 7 & 1\\\\\n",
       "\t 6 & 3\\\\\n",
       "\t 2 & 3\\\\\n",
       "\t 1 & 4\\\\\n",
       "\\end{tabular}\n"
      ],
      "text/markdown": [
       "\n",
       "A tibble: 5 × 2\n",
       "\n",
       "| hamsters &lt;dbl&gt; | hamster_cages &lt;dbl&gt; |\n",
       "|---|---|\n",
       "| 5 | 2 |\n",
       "| 7 | 1 |\n",
       "| 6 | 3 |\n",
       "| 2 | 3 |\n",
       "| 1 | 4 |\n",
       "\n"
      ],
      "text/plain": [
       "  hamsters hamster_cages\n",
       "1 5        2            \n",
       "2 7        1            \n",
       "3 6        3            \n",
       "4 2        3            \n",
       "5 1        4            "
      ]
     },
     "metadata": {},
     "output_type": "display_data"
    }
   ],
   "source": [
    "hamsters %>% \n",
    "  select(starts_with(\"h\"))"
   ]
  },
  {
   "cell_type": "markdown",
   "id": "7aad3e7d-140e-42c4-84f3-8575a1c01371",
   "metadata": {
    "jp-MarkdownHeadingCollapsed": true,
    "tags": []
   },
   "source": [
    "Sometimes people will use mutate to create a variable and then use that\n",
    "new variable to filter, but you can just put that variable definition as\n",
    "the filter condition:"
   ]
  },
  {
   "cell_type": "code",
   "execution_count": 146,
   "id": "afbb01aa-df63-4753-915f-556cd256b064",
   "metadata": {
    "jp-MarkdownHeadingCollapsed": true,
    "tags": []
   },
   "outputs": [
    {
     "data": {
      "text/html": [
       "<table class=\"dataframe\">\n",
       "<caption>A tibble: 3 × 5</caption>\n",
       "<thead>\n",
       "\t<tr><th scope=col>name</th><th scope=col>gender</th><th scope=col>hamsters</th><th scope=col>hamster_cages</th><th scope=col>more_than_5_hamsters_OR_2_cages</th></tr>\n",
       "\t<tr><th scope=col>&lt;chr&gt;</th><th scope=col>&lt;chr&gt;</th><th scope=col>&lt;dbl&gt;</th><th scope=col>&lt;dbl&gt;</th><th scope=col>&lt;lgl&gt;</th></tr>\n",
       "</thead>\n",
       "<tbody>\n",
       "\t<tr><td>Amy   </td><td>female</td><td>7</td><td>1</td><td>TRUE</td></tr>\n",
       "\t<tr><td>Jen   </td><td>female</td><td>6</td><td>3</td><td>TRUE</td></tr>\n",
       "\t<tr><td>Jeremy</td><td>male  </td><td>1</td><td>4</td><td>TRUE</td></tr>\n",
       "</tbody>\n",
       "</table>\n"
      ],
      "text/latex": [
       "A tibble: 3 × 5\n",
       "\\begin{tabular}{lllll}\n",
       " name & gender & hamsters & hamster\\_cages & more\\_than\\_5\\_hamsters\\_OR\\_2\\_cages\\\\\n",
       " <chr> & <chr> & <dbl> & <dbl> & <lgl>\\\\\n",
       "\\hline\n",
       "\t Amy    & female & 7 & 1 & TRUE\\\\\n",
       "\t Jen    & female & 6 & 3 & TRUE\\\\\n",
       "\t Jeremy & male   & 1 & 4 & TRUE\\\\\n",
       "\\end{tabular}\n"
      ],
      "text/markdown": [
       "\n",
       "A tibble: 3 × 5\n",
       "\n",
       "| name &lt;chr&gt; | gender &lt;chr&gt; | hamsters &lt;dbl&gt; | hamster_cages &lt;dbl&gt; | more_than_5_hamsters_OR_2_cages &lt;lgl&gt; |\n",
       "|---|---|---|---|---|\n",
       "| Amy    | female | 7 | 1 | TRUE |\n",
       "| Jen    | female | 6 | 3 | TRUE |\n",
       "| Jeremy | male   | 1 | 4 | TRUE |\n",
       "\n"
      ],
      "text/plain": [
       "  name   gender hamsters hamster_cages more_than_5_hamsters_OR_2_cages\n",
       "1 Amy    female 7        1             TRUE                           \n",
       "2 Jen    female 6        3             TRUE                           \n",
       "3 Jeremy male   1        4             TRUE                           "
      ]
     },
     "metadata": {},
     "output_type": "display_data"
    }
   ],
   "source": [
    "hamsters %>% \n",
    "  mutate(more_than_5_hamsters_OR_2_cages = hamsters > 5 | hamster_cages > 3) %>% \n",
    "  filter(more_than_5_hamsters_OR_2_cages)"
   ]
  },
  {
   "cell_type": "code",
   "execution_count": 147,
   "id": "10e93be6-4c59-40b8-8787-94845bd74887",
   "metadata": {
    "jp-MarkdownHeadingCollapsed": true,
    "tags": []
   },
   "outputs": [
    {
     "data": {
      "text/html": [
       "<table class=\"dataframe\">\n",
       "<caption>A tibble: 3 × 4</caption>\n",
       "<thead>\n",
       "\t<tr><th scope=col>name</th><th scope=col>gender</th><th scope=col>hamsters</th><th scope=col>hamster_cages</th></tr>\n",
       "\t<tr><th scope=col>&lt;chr&gt;</th><th scope=col>&lt;chr&gt;</th><th scope=col>&lt;dbl&gt;</th><th scope=col>&lt;dbl&gt;</th></tr>\n",
       "</thead>\n",
       "<tbody>\n",
       "\t<tr><td>Amy   </td><td>female</td><td>7</td><td>1</td></tr>\n",
       "\t<tr><td>Jen   </td><td>female</td><td>6</td><td>3</td></tr>\n",
       "\t<tr><td>Jeremy</td><td>male  </td><td>1</td><td>4</td></tr>\n",
       "</tbody>\n",
       "</table>\n"
      ],
      "text/latex": [
       "A tibble: 3 × 4\n",
       "\\begin{tabular}{llll}\n",
       " name & gender & hamsters & hamster\\_cages\\\\\n",
       " <chr> & <chr> & <dbl> & <dbl>\\\\\n",
       "\\hline\n",
       "\t Amy    & female & 7 & 1\\\\\n",
       "\t Jen    & female & 6 & 3\\\\\n",
       "\t Jeremy & male   & 1 & 4\\\\\n",
       "\\end{tabular}\n"
      ],
      "text/markdown": [
       "\n",
       "A tibble: 3 × 4\n",
       "\n",
       "| name &lt;chr&gt; | gender &lt;chr&gt; | hamsters &lt;dbl&gt; | hamster_cages &lt;dbl&gt; |\n",
       "|---|---|---|---|\n",
       "| Amy    | female | 7 | 1 |\n",
       "| Jen    | female | 6 | 3 |\n",
       "| Jeremy | male   | 1 | 4 |\n",
       "\n"
      ],
      "text/plain": [
       "  name   gender hamsters hamster_cages\n",
       "1 Amy    female 7        1            \n",
       "2 Jen    female 6        3            \n",
       "3 Jeremy male   1        4            "
      ]
     },
     "metadata": {},
     "output_type": "display_data"
    }
   ],
   "source": [
    "hamsters %>% \n",
    "  filter(hamsters > 5 | hamster_cages > 3)"
   ]
  },
  {
   "cell_type": "markdown",
   "id": "b4f019a8-c478-410b-8594-4d6f61103b0c",
   "metadata": {
    "jp-MarkdownHeadingCollapsed": true,
    "tags": []
   },
   "source": [
    "Maybe you want the person with the fewest number of hamsters by gender:"
   ]
  },
  {
   "cell_type": "code",
   "execution_count": 148,
   "id": "d0d88b3f-b831-4f77-922c-82886d6ff1b3",
   "metadata": {
    "jp-MarkdownHeadingCollapsed": true,
    "tags": []
   },
   "outputs": [
    {
     "data": {
      "text/html": [
       "<table class=\"dataframe\">\n",
       "<caption>A tibble: 2 × 2</caption>\n",
       "<thead>\n",
       "\t<tr><th scope=col>gender</th><th scope=col>fewest_hamsters</th></tr>\n",
       "\t<tr><th scope=col>&lt;chr&gt;</th><th scope=col>&lt;dbl&gt;</th></tr>\n",
       "</thead>\n",
       "<tbody>\n",
       "\t<tr><td>female</td><td>5</td></tr>\n",
       "\t<tr><td>male  </td><td>1</td></tr>\n",
       "</tbody>\n",
       "</table>\n"
      ],
      "text/latex": [
       "A tibble: 2 × 2\n",
       "\\begin{tabular}{ll}\n",
       " gender & fewest\\_hamsters\\\\\n",
       " <chr> & <dbl>\\\\\n",
       "\\hline\n",
       "\t female & 5\\\\\n",
       "\t male   & 1\\\\\n",
       "\\end{tabular}\n"
      ],
      "text/markdown": [
       "\n",
       "A tibble: 2 × 2\n",
       "\n",
       "| gender &lt;chr&gt; | fewest_hamsters &lt;dbl&gt; |\n",
       "|---|---|\n",
       "| female | 5 |\n",
       "| male   | 1 |\n",
       "\n"
      ],
      "text/plain": [
       "  gender fewest_hamsters\n",
       "1 female 5              \n",
       "2 male   1              "
      ]
     },
     "metadata": {},
     "output_type": "display_data"
    }
   ],
   "source": [
    "hamsters %>% \n",
    "  arrange(hamsters) %>% # can you figure out why we need this arrange?\n",
    "  group_by(gender) %>% \n",
    "  summarise(fewest_hamsters = first(hamsters))"
   ]
  },
  {
   "cell_type": "markdown",
   "id": "b87aaa83-39aa-45ef-b5c3-759006a98004",
   "metadata": {
    "jp-MarkdownHeadingCollapsed": true,
    "tags": []
   },
   "source": [
    "If we want to keep the entire row, we can use the “slice” function to\n",
    "slice out the first row:"
   ]
  },
  {
   "cell_type": "code",
   "execution_count": 149,
   "id": "178e3c48-da26-48b7-9ddd-bd0efcb5a41f",
   "metadata": {
    "jp-MarkdownHeadingCollapsed": true,
    "tags": []
   },
   "outputs": [
    {
     "data": {
      "text/html": [
       "<table class=\"dataframe\">\n",
       "<caption>A grouped_df: 2 × 4</caption>\n",
       "<thead>\n",
       "\t<tr><th scope=col>name</th><th scope=col>gender</th><th scope=col>hamsters</th><th scope=col>hamster_cages</th></tr>\n",
       "\t<tr><th scope=col>&lt;chr&gt;</th><th scope=col>&lt;chr&gt;</th><th scope=col>&lt;dbl&gt;</th><th scope=col>&lt;dbl&gt;</th></tr>\n",
       "</thead>\n",
       "<tbody>\n",
       "\t<tr><td>Megan </td><td>female</td><td>5</td><td>2</td></tr>\n",
       "\t<tr><td>Jeremy</td><td>male  </td><td>1</td><td>4</td></tr>\n",
       "</tbody>\n",
       "</table>\n"
      ],
      "text/latex": [
       "A grouped\\_df: 2 × 4\n",
       "\\begin{tabular}{llll}\n",
       " name & gender & hamsters & hamster\\_cages\\\\\n",
       " <chr> & <chr> & <dbl> & <dbl>\\\\\n",
       "\\hline\n",
       "\t Megan  & female & 5 & 2\\\\\n",
       "\t Jeremy & male   & 1 & 4\\\\\n",
       "\\end{tabular}\n"
      ],
      "text/markdown": [
       "\n",
       "A grouped_df: 2 × 4\n",
       "\n",
       "| name &lt;chr&gt; | gender &lt;chr&gt; | hamsters &lt;dbl&gt; | hamster_cages &lt;dbl&gt; |\n",
       "|---|---|---|---|\n",
       "| Megan  | female | 5 | 2 |\n",
       "| Jeremy | male   | 1 | 4 |\n",
       "\n"
      ],
      "text/plain": [
       "  name   gender hamsters hamster_cages\n",
       "1 Megan  female 5        2            \n",
       "2 Jeremy male   1        4            "
      ]
     },
     "metadata": {},
     "output_type": "display_data"
    }
   ],
   "source": [
    "hamsters %>% \n",
    "  arrange(hamsters) %>% # can you figure out why we need this arrange?\n",
    "  group_by(gender) %>% \n",
    "  slice(1)"
   ]
  },
  {
   "cell_type": "markdown",
   "id": "9b2601ff-4704-4c5d-9f7d-9398458fa182",
   "metadata": {
    "tags": []
   },
   "source": [
    "# Resources\n",
    "\n",
    "This [cheatsheet](https://www.rstudio.com/wp-content/uploads/2015/02/data-wrangling-cheatsheet.pdf)\n",
    "is a great way of seeing all of the functions at once. \n",
    "* When working on an assignment involving dplyr, it's a good idea to **print it out** work with it on your desk.\n",
    "\n",
    "These sites have thoughtful writing and exercises on more advanced features of dplyr:\n",
    "* [R for data science](http://r4ds.had.co.nz/transform.html)\n",
    "* [stats545](http://stat545.com/block010_dplyr-end-single-table.html)\n",
    "* [Simon Ejdemyr’s website](https://stanford.edu/~ejdemyr/r-tutorials/modifying-data/)"
   ]
  },
  {
   "cell_type": "code",
   "execution_count": null,
   "id": "06dcff84-53df-4f1b-9778-7b0bc90e2208",
   "metadata": {},
   "outputs": [],
   "source": []
  }
 ],
 "metadata": {
  "kernelspec": {
   "display_name": "R",
   "language": "R",
   "name": "ir"
  },
  "language_info": {
   "codemirror_mode": "r",
   "file_extension": ".r",
   "mimetype": "text/x-r-source",
   "name": "R",
   "pygments_lexer": "r",
   "version": "4.0.2"
  },
  "widgets": {
   "application/vnd.jupyter.widget-state+json": {
    "state": {},
    "version_major": 2,
    "version_minor": 0
   }
  }
 },
 "nbformat": 4,
 "nbformat_minor": 5
}

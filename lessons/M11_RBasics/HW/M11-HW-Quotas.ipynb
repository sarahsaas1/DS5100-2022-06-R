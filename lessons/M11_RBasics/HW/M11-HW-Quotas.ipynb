{
 "cells": [
  {
   "cell_type": "markdown",
   "id": "4fe64946-52e1-4bc6-98de-5f283835a28c",
   "metadata": {},
   "source": [
    "# Metadata\n",
    "\n",
    "```\n",
    "Course:  DS 5100\n",
    "Module:  11 R Programming 1\n",
    "Topic:   HW 11 Computing Payoff for a Quota Structure\n",
    "Author:  R.C. Alvarado (adapted)\n",
    "Date:    06 July 2022\n",
    "```"
   ]
  },
  {
   "cell_type": "markdown",
   "id": "edaa17c9-fdfc-46b2-af3c-d90ffb6af88f",
   "metadata": {
    "tags": []
   },
   "source": [
    "# Instructions\n",
    "\n",
    "A salesperson at a large tech firm is faced with a new payment structure. \n",
    "\n",
    "This salesperson has a quarterly quota of $225,000.\n",
    "\n",
    "The payment received follows a progressive schedule with four brackets as follows:\n",
    "1. For the first 40% of quota, the salesperson receives 7% on quota reached\n",
    "2. For the next 30% of quota, the salesperson receives 10% on quota reached\n",
    "3. For the next 20% of quota, the salesperson receives 13% on quota reached\n",
    "4. For the next 10% of quota, the salesperson receives 16% on quota reached\n",
    "\n",
    "For example, if the salesperson is 50% to quota, reaching \\$112,500 of sales, then:\n",
    "- `a` = the first 40% is paid out at 7% (payout = \\$225,000 * 40% * 7%)\n",
    "- `b` = the next 10% is paid out at 10%\n",
    "\n",
    "The total payout to the salesperson would be `a + b`.\n",
    "\n",
    "Notice what does NOT happen: getting to the second bracket does NOT mean the payout is \\$225,000 * 50% * 10%.\n",
    "\n",
    "This schedule represents earnings up to 100% of quota. \n",
    "\n",
    "We ignore sales above 100% here.\n",
    "\n",
    "Given this, the salesperson would like to know how much she would earn if she reaches a given percentage of quarterly quota.\n",
    "\n",
    "Note: The quota structure in this assignment is analogous to how the US tax system works: There are several **brackets** with rate i applied to dollars in bracket i. \n",
    "\n",
    "**TOTAL POINTS: 12**"
   ]
  },
  {
   "cell_type": "markdown",
   "id": "04ae7339-3a44-414d-8019-2e41c5e47c5a",
   "metadata": {},
   "source": [
    "# Task 1 \n",
    "\n",
    "(8 points for a function that returns the correct value.)\n",
    "\n",
    "Write a function to these specifications:\n",
    "1. Takes input: quarterly quota (`225000`)\n",
    "2. Takes input: fraction of quarterly quota reached (`0.8` means 80%)\n",
    "3. Returns the dollar amount earned.\n",
    "\n",
    "Call this function and print the dollar amount earned for argument 2 in increments of 10% in a range between 0% to 100% earned.\n",
    "\n",
    "Hint: Use `if` statements to help compute amounts in each bracket."
   ]
  },
  {
   "cell_type": "markdown",
   "id": "18eb50c6-10c8-4d06-8aaa-5fb1a9ad56ec",
   "metadata": {},
   "source": [
    "# Task 2 \n",
    "\n",
    "(2 points for a correct graph)\n",
    "\n",
    "Plot the amounts earned (y-axis) versus quarterly quota reached (x-axis)."
   ]
  },
  {
   "cell_type": "markdown",
   "id": "10b2a33a-c7fb-4ba8-abe1-55cf5741bf32",
   "metadata": {},
   "source": [
    "# Submission\n",
    "\n",
    "When finished, convert your code into a PDF and submit to Gradescope.\n",
    "\n",
    "Note: You can use an R Notebook for your work, but since you have not been taught to use them yet, you can use Jupyter on Rivanna to present your work. Remember to choose the R kernel when starting it."
   ]
  },
  {
   "cell_type": "code",
   "execution_count": null,
   "id": "236ce4fa-f545-4d76-979b-2f5040c57c0f",
   "metadata": {},
   "outputs": [],
   "source": []
  }
 ],
 "metadata": {
  "kernelspec": {
   "display_name": "Python 3 (ipykernel)",
   "language": "python",
   "name": "python3"
  },
  "language_info": {
   "codemirror_mode": {
    "name": "ipython",
    "version": 3
   },
   "file_extension": ".py",
   "mimetype": "text/x-python",
   "name": "python",
   "nbconvert_exporter": "python",
   "pygments_lexer": "ipython3",
   "version": "3.8.3"
  },
  "widgets": {
   "application/vnd.jupyter.widget-state+json": {
    "state": {},
    "version_major": 2,
    "version_minor": 0
   }
  }
 },
 "nbformat": 4,
 "nbformat_minor": 5
}

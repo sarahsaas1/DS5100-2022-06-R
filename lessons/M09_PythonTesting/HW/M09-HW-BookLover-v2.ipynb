{
 "cells": [
  {
   "cell_type": "markdown",
   "id": "6b88c67f-d1a0-4846-9134-f75c16f861b9",
   "metadata": {},
   "source": [
    "# Metadata\n",
    "\n",
    "```\n",
    "Course:  DS 5100\n",
    "Module:  09 Python Testing\n",
    "Topic:   HW 09 Unit Testing a Book Lover Class\n",
    "Author:  R.C. Alvarado (adapted)\n",
    "Date:    30 June 2022\n",
    "```"
   ]
  },
  {
   "cell_type": "markdown",
   "id": "35ea0bd2-9a83-4ca3-ba55-3118427d9673",
   "metadata": {},
   "source": [
    "# Overview\n",
    "\n",
    "In this assessment, you will write and test a simple class using Python's `unittest` module. \n",
    "\n",
    "It is designed to test your ability to create a unit test suite, but, to a lesser degree, your ability to write classes and use Pandas."
   ]
  },
  {
   "cell_type": "markdown",
   "id": "a2ec5b4d-74a2-4f37-b25a-3c5acb9cba3b",
   "metadata": {
    "jp-MarkdownHeadingCollapsed": true,
    "tags": []
   },
   "source": [
    "# Instructions\n",
    "\n",
    "In this homework, you will create 3 files:\n",
    "- `booklover.py` that will contain the class `BookLover`.\n",
    "- `booklover_test.py` that will contain the class `BookLoverTestSuite`.\n",
    "- `booklover_results.txt` that will contain the results of applying the second class to the first.\n",
    "\n",
    "You will create them all in the same directory.\n",
    "\n",
    "Note that these are not Jupyter notebooks, so you will need to use a text editor to create them. You can use the text editor that comes with Jupyter Lab if you'd like, or use VSCode, or whatever suits you."
   ]
  },
  {
   "cell_type": "markdown",
   "id": "3d38817a-5b6e-4ebe-b9b6-05a70fd38404",
   "metadata": {},
   "source": [
    "# File Requirements"
   ]
  },
  {
   "cell_type": "markdown",
   "id": "c0e7f2d9-a521-4eac-8d30-1165af72542e",
   "metadata": {
    "tags": []
   },
   "source": [
    "## `booklover.py`\n",
    "\n",
    "### Attributes\n",
    "\n",
    "Define a class called `BookLover` with the followng attributes:\n",
    "\n",
    "|Attribute | Value |\n",
    "|----------|-------|\n",
    "| `name` | The name of the person (type:string) |\n",
    "| `email` | The person’s email, serving as a unique identifier (type:string) |\n",
    "| `fav_genre` | The person’s favorite book genre (e.g., mystery, fantasy, or historical fiction).  (type:string) |\n",
    "| `num_books` | Keeps track of the number of books the person has read (type:int) |\n",
    "| `book_list` | a dataframe with the columns `['book_name', 'book_rating']`\n",
    "\n",
    "The columns in `book_list` have the following meanings:\n",
    "- `book_name` is the title of the book the person has read.\n",
    "- `book_rating` is the person’s rating of that book on a scale of 1 to 5, where 1 means the person did not like the book at all, and 5 means the person loved the book. \n",
    "\n",
    "### Methods\n",
    "\n",
    "Add the following methods to the class definition above:\n",
    "\n",
    "**Initializer:**\n",
    "`__init__ ()`:\n",
    "- `name`, `email`, and `fav_genre` (in this order) are required. \n",
    "- `num_books` and `book_list` are optional.\n",
    "- Use these default parameters: \n",
    "  - ```python\n",
    "  num_books = 0\n",
    "  book_list = pd.DataFrame({'book_name':[], 'book_rating':[]})\n",
    "```\n",
    "\n",
    "Do not add any additional fields of your own.\n",
    "\n",
    "**Method 1:**\n",
    "\n",
    "`add_book(book_name, rating)`:\n",
    "- This function takes a `book name` (string) and `rating` (integer from 0 to 5)\n",
    "- It tries to add the book to `book_list`. See hint below on how to pass a new book to the dataframe.\n",
    "- Only add a book to the person’s `book_list` if that book doesn’t already exist.\n",
    "  - It is sufficient to match on `book_name`.\n",
    "- If it does exist, tell the user.\n",
    "\n",
    "Hint: To add a new book to the book list (which is a dataframe), do this in your method, where `book_name` and `book_rating` are the arguments passed to the method.:\n",
    "\n",
    "```python\n",
    "new_book = pd.DataFrame({\n",
    "    'book_name': [book_name], \n",
    "    'book_rating': [book_rating]\n",
    "})\n",
    "\n",
    "self.book_list = pd.concat([self.book_list, new_book], ignore_index=True)\n",
    "```\n",
    "\n",
    "Of course, be sure to see if `book_name` is not in the book list.\n",
    "\n",
    "**Method 2:**\n",
    "\n",
    "`has_read(book_name)`\n",
    "- This function takes `book_name` (string) as input and determines if the person has read the book.\n",
    "  - That is, if that `book name` is in `book_list`. \n",
    "  - Again, it is sufficient to match on `book_name`.\n",
    "- The method should return `True` if the person has read the book, `False` otherwise.\n",
    "\n",
    "**Method 3:**\n",
    "\n",
    "`num_books_read()`\n",
    "- This function takes no parameters and just returns the total number of books the person has read.\n",
    "\n",
    "**Method 4:**\n",
    "\n",
    "`fav_books()`:\n",
    "- This function takes no parameters and returns the filtered dataframe of the person’s most favorite books. \n",
    "- Books in this list should have a rating > 3.\n",
    "\n",
    "\n",
    "**Once you have created your class**\n",
    "\n",
    "Be sure to instantiate your class to see if everything is working. You can do this by prototyping your class in a notebook, where you can run code that uses it there, and then save the class to the `.py` file when you are done. \n",
    "\n",
    "Or you can create a another file, say `demo.py` that imports and uses the class.\n",
    "\n",
    "A final option -- which the test file will use -- is to put this code at the bottom of your `.py` file, after and outside of your class definition:\n",
    "\n",
    "```python\n",
    "\n",
    "if __name__ == '__main__':\n",
    "    \n",
    "    test_object = BookLover(\"Han Solo\", \"hsolo@millenniumfalcon.com\", \"scifi\")\n",
    "    test_object.add_book(\"War of the Worlds\", 4)\n",
    "    # And so forth\n",
    "\n",
    "```\n",
    "\n",
    "NOTE: The methods listed above do not have `self` as their first argument, but they should in your class."
   ]
  },
  {
   "cell_type": "markdown",
   "id": "ec16ace9-4e95-4de3-bedd-b7984ac9ed99",
   "metadata": {
    "tags": []
   },
   "source": [
    "## `booklover_test.py`\n",
    "\n",
    "Write a class called `BookLoverTestSuite`, being sure to import the `unittest` library and the BookLover class from the first file.\n",
    "\n",
    "\n",
    "### Unit Tests\n",
    "\n",
    "In this class, include the unit tests below: \n",
    "\n",
    "- `test_1_add_book()`: Add a book and test if it is in `book_list`.\n",
    "- `test_2_add_book()`: Add the same book twice. Test if it's in `book_list` only once.\n",
    "- `test_3_has_read()`: Pass a book in the list and test the answer is `True`.\n",
    "- `test_4_has_read()`: Pass a book NOT in the list and use `assert False` to test if the answer is `True`\n",
    "- `test_5_num_books_read()`: Add some books to the list, and test num_books matches expected.\n",
    "- `test_6_fav_books()`: Add some books with ratings to the list, making sure some of them have rating > 3. \n",
    "  - Your test should check that the returned books have rating  > 3.\n",
    "\n",
    "Note that you do not need to create an `__init__()` method in this class, nor do you have to define any class variables.\n",
    "\n",
    "Instead, treat every method as a small, stand-alone program in which you create a new object for your test. This is not the best practice in a production environment, but it works and it will enable you to get the gist of unit testing. "
   ]
  },
  {
   "cell_type": "markdown",
   "id": "06d62b00-c529-478f-8580-663bcf735b1f",
   "metadata": {
    "tags": []
   },
   "source": [
    "### Template\n",
    "\n",
    "Here is a template of the file you will create:\n",
    "\n",
    "```python\n",
    "import unittest\n",
    "from booklover import BookLover\n",
    "\n",
    "class BookLoverTestSuite(unittest.TestCase):\n",
    "    \n",
    "    def test_1_add_book(self): \n",
    "        # add a book and test if it is in `book_list`.\n",
    "\n",
    "    def test_2_add_book(self):\n",
    "        # add the same book twice. Test if it's in `book_list` only once.\n",
    "                \n",
    "    def test_3_has_read(self): \n",
    "        # pass a book in the list and test if the answer is `True`.\n",
    "        \n",
    "    def test_4_has_read(self): \n",
    "        # pass a book NOT in the list and use `assert False` to test the answer is `True`\n",
    "        \n",
    "    def test_5_num_books_read(self): \n",
    "        # add some books to the list, and test num_books matches expected.\n",
    "\n",
    "    def test_6_fav_books(self):\n",
    "        # add some books with ratings to the list, making sure some of them have rating > 3. \n",
    "        # Your test should check that the returned books have rating  > 3\n",
    "                \n",
    "if __name__ == '__main__':\n",
    "    \n",
    "    unittest.main(verbosity=3)\n",
    "```"
   ]
  },
  {
   "cell_type": "markdown",
   "id": "6d048760-6bed-4c7d-a975-8a36d0551812",
   "metadata": {},
   "source": [
    "The last part of the file is **crucial**: It tells the Python interpreter to run the bit of code at the end if the file is being run directly (and not being imported into another file)."
   ]
  },
  {
   "cell_type": "markdown",
   "id": "5b490f8b-1483-4371-aac3-70ad455d3072",
   "metadata": {},
   "source": [
    "## `booklover_results.txt`\n",
    "\n",
    "Once you have created both files and are sure they at least run, test your class at the command line as follows:\n",
    "\n",
    "```bash\n",
    "rivanna$ python booklover_test.py\n",
    "```\n",
    "\n",
    "Look at the output and make sure your tests are working and your code passes the test. When you are ready, output the test results to the third file as follows:\n",
    "\n",
    "```bash\n",
    "rivanna$ python booklover_test.py 2> booklover_results.txt\n",
    "```\n"
   ]
  },
  {
   "cell_type": "markdown",
   "id": "3f64c54b-9cbc-4639-bd52-12da5afa4457",
   "metadata": {},
   "source": [
    "# Rubric\n",
    "\n",
    "```text\n",
    "========================================================================\n",
    "Pts  Task\n",
    "------------------------------------------------------------------------\n",
    "5     BookLover class defined properly. (.5 pt per attribute and method)\n",
    "6     BookLoverTestSuite class defined properly.  (1 pt per method)\n",
    "6     All six tests returned positive. (1 pt per test)    \n",
    "3     All three files created and named properly. (1 point per file)\n",
    "------------------------------------------------------------------------\n",
    "20   TOTAL POINTS\n",
    "========================================================================\n",
    "```"
   ]
  },
  {
   "cell_type": "markdown",
   "id": "f61a6687-298e-4db7-b2a4-f24a48256eda",
   "metadata": {
    "tags": []
   },
   "source": [
    "# Submission Instructions\n",
    "\n",
    "Almost done!\n",
    "\n",
    "Once you are done with the above, you need to combine the three files into one and save it to PDF. Then upload the PDF to Gradescope.\n",
    "\n",
    "There are at least two ways to do this:\n",
    "* Cut and paste the files back into a Jupyter notebook and export to PDF.\n",
    "  * If you do this, put the files in three separate blocks.\n",
    "  * Choose Raw as the format for each of the blocks.\n",
    "* Follow the recipe below on Rivanna (for those who want to hone their command-line skills):\n",
    "\n",
    "**Combine and Convert to PDF:**\n",
    "\n",
    "Concatenate your files into one with the following from the command line:\n",
    "\n",
    "```bash\n",
    "rivanna$ cat -n booklover.py booklover_test.py booklover_results.txt > HW09.txt\n",
    "```\n",
    "\n",
    "Then convert `HW09.txt` to a PDF file as follows:\n",
    "\n",
    "```bash\n",
    "rivanna$ module load ghostscript\n",
    "rivanna$ pdfroff --pdf-output=HW09.pdf HW09.txt\n",
    "```\n",
    "\n",
    "Go to Rivanna's web-based File Explorer (from the UVA OpenOnDemand Dashboard), locate the file, and then download it.\n",
    "\n",
    "Then upload the PDF to Gradescope.\n",
    "\n",
    "Mischief managed."
   ]
  },
  {
   "cell_type": "code",
   "execution_count": null,
   "id": "2c089b69-af48-4929-8b4c-1bb81a4bb1f1",
   "metadata": {},
   "outputs": [],
   "source": []
  }
 ],
 "metadata": {
  "kernelspec": {
   "display_name": "Python 3 (ipykernel)",
   "language": "python",
   "name": "python3"
  },
  "language_info": {
   "codemirror_mode": {
    "name": "ipython",
    "version": 3
   },
   "file_extension": ".py",
   "mimetype": "text/x-python",
   "name": "python",
   "nbconvert_exporter": "python",
   "pygments_lexer": "ipython3",
   "version": "3.8.3"
  },
  "vscode": {
   "interpreter": {
    "hash": "c3b963de08c47c3b6758389c5e0978ad73698a111eb508d4e16b558edb8f4cbf"
   }
  },
  "widgets": {
   "application/vnd.jupyter.widget-state+json": {
    "state": {},
    "version_major": 2,
    "version_minor": 0
   }
  }
 },
 "nbformat": 4,
 "nbformat_minor": 5
}

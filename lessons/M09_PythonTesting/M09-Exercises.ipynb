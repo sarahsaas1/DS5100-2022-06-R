{
 "cells": [
  {
   "cell_type": "markdown",
   "id": "3a5a8c36-d0ca-483e-9f75-6f5dabdabd77",
   "metadata": {
    "slideshow": {
     "slide_type": "slide"
    }
   },
   "source": [
    "# M09 Exercises\n",
    "\n",
    "DS 5100 | Summer 2022"
   ]
  },
  {
   "cell_type": "markdown",
   "id": "5703a871-e449-4727-bf2f-3a9f69afb794",
   "metadata": {
    "slideshow": {
     "slide_type": "slide"
    }
   },
   "source": [
    "# Exercise 9.1\n",
    "\n",
    "Write a `try/except` statement to handle an exception. \n",
    "\n",
    "Verify it works properly."
   ]
  },
  {
   "cell_type": "code",
   "execution_count": 1,
   "id": "139e003c-daa3-4d45-ab4d-500017f8532f",
   "metadata": {
    "slideshow": {
     "slide_type": "subslide"
    },
    "tags": []
   },
   "outputs": [
    {
     "name": "stdout",
     "output_type": "stream",
     "text": [
      "caught an exception!\n"
     ]
    }
   ],
   "source": [
    "x = 5\n",
    "y = 0\n",
    "\n",
    "try:\n",
    "    z = x / y\n",
    "    print('z=', z)\n",
    "except:\n",
    "    print('caught an exception!')"
   ]
  },
  {
   "cell_type": "markdown",
   "id": "2bfc7c76-b70e-4048-889e-fb1e5cba1bae",
   "metadata": {
    "slideshow": {
     "slide_type": "slide"
    }
   },
   "source": [
    "# Exercise 9.2\n",
    "\n",
    "Write an expression and include an `assert` statement to test it.  \n",
    "\n",
    "Run tests where the assert evaluates to True, False, showing the results in each condition."
   ]
  },
  {
   "cell_type": "code",
   "execution_count": 3,
   "id": "b27019c2-10f2-418f-90eb-36965151fa79",
   "metadata": {
    "slideshow": {
     "slide_type": "subslide"
    },
    "tags": []
   },
   "outputs": [],
   "source": [
    "x = True\n",
    "\n",
    "assert x, \"x should be True!\""
   ]
  },
  {
   "cell_type": "code",
   "execution_count": 4,
   "id": "0dd19e24-575b-44bc-9e30-31cff7ec2d67",
   "metadata": {
    "slideshow": {
     "slide_type": "-"
    },
    "tags": []
   },
   "outputs": [
    {
     "ename": "AssertionError",
     "evalue": "x should be True!",
     "output_type": "error",
     "traceback": [
      "\u001b[1;31m---------------------------------------------------------------------------\u001b[0m",
      "\u001b[1;31mAssertionError\u001b[0m                            Traceback (most recent call last)",
      "\u001b[1;32m<ipython-input-4-c9584140b72f>\u001b[0m in \u001b[0;36m<module>\u001b[1;34m\u001b[0m\n\u001b[0;32m      1\u001b[0m \u001b[0mx\u001b[0m \u001b[1;33m=\u001b[0m \u001b[1;32mFalse\u001b[0m\u001b[1;33m\u001b[0m\u001b[1;33m\u001b[0m\u001b[0m\n\u001b[0;32m      2\u001b[0m \u001b[1;33m\u001b[0m\u001b[0m\n\u001b[1;32m----> 3\u001b[1;33m \u001b[1;32massert\u001b[0m \u001b[0mx\u001b[0m\u001b[1;33m,\u001b[0m \u001b[1;34m\"x should be True!\"\u001b[0m\u001b[1;33m\u001b[0m\u001b[1;33m\u001b[0m\u001b[0m\n\u001b[0m",
      "\u001b[1;31mAssertionError\u001b[0m: x should be True!"
     ]
    }
   ],
   "source": [
    "x = False\n",
    "\n",
    "assert x, \"x should be True!\""
   ]
  },
  {
   "cell_type": "markdown",
   "id": "a6648465-6b3c-4c89-bb4f-f708724867d6",
   "metadata": {
    "slideshow": {
     "slide_type": "slide"
    },
    "tags": []
   },
   "source": [
    "# Exercise 9.3\n",
    "\n",
    "Copy the files of `student.py` and `student_test.py` to your private repo and add a new method to it called `unenrollInCourse`.\n",
    "\n",
    "The method should check if the student is actually enrolled in the course first.\n",
    "\n",
    "Then write two new unittest methods that do the following:\n",
    "- `test_1` tests the method actually removes the course.\n",
    "- `test_2` tests to see if does not increment courses if the student was not enrolled in the course to begin with.\n",
    "\n",
    "Note that we are using `num_courses` as a counter when we could have used `len(set(self.courses))` to get the number of courses. This is just for demonstration purposes.\n",
    "\n",
    "Run the test script and see your results."
   ]
  },
  {
   "cell_type": "markdown",
   "id": "93b1ff25-49de-454a-bc36-ff3ba2b475d7",
   "metadata": {
    "slideshow": {
     "slide_type": "subslide"
    }
   },
   "source": [
    "```python\n",
    "class Student:\n",
    "    \n",
    "    # constructor\n",
    "    def __init__(self, name, courses=None):\n",
    "        self.name = name # string type\n",
    "        self.courses = [] if courses is None else courses # list of strings\n",
    "        self.num_courses = len(self.courses)\n",
    "        \n",
    "    # enroll in a course\n",
    "    def enrollInCourse(self, cname): \n",
    "        self.courses.append(cname)\n",
    "        self.num_courses += 1 # increment the number of courses\n",
    "    \n",
    "    # unenrolledInCourse\n",
    "    def unenrollInCourse(self, cname):\n",
    "        if cname in self.courses:\n",
    "            self.courses.remove(cname)\n",
    "            self.num_courses -= 1 # decrememt the number of courses\n",
    "        else:\n",
    "            print(\"Student was not enrolled in that course\")\n",
    "```"
   ]
  },
  {
   "cell_type": "markdown",
   "id": "da434ac7-44b2-48d2-8a67-e9c7f9025786",
   "metadata": {
    "slideshow": {
     "slide_type": "subslide"
    }
   },
   "source": [
    "```python\n",
    "from student import Student\n",
    "import unittest\n",
    "\n",
    "class EnrollInTestCase(unittest.TestCase): \n",
    "    \n",
    "    def test_is_numCoursincremented_correctly(self):\n",
    "\n",
    "        # Create student instance, adding some courses\n",
    "        student1 = Student('Katherine', ['DS 5100'])\n",
    "        student1.enrollInCourse(\"CS 5050\")\n",
    "        student1.enrollInCourse(\"CS 5777\")\n",
    "        print(student1.courses)\n",
    "        print(student1.num_courses)\n",
    "        \n",
    "        # Test\n",
    "        expected = 3\n",
    "        # unittest.TestCase brings in the assertEqual() method\n",
    "        self.assertEqual(student1.num_courses, expected)\n",
    "        \n",
    "    def test_1(self):\n",
    "        student1 = Student('Katherine', ['DS 5100'])\n",
    "        course = \"CS 5050\"\n",
    "        student1.enrollInCourse(course)\n",
    "        student1.unenrollInCourse(course)\n",
    "        self.assertFalse(course in student1.courses)\n",
    "\n",
    "    def test_2(self):\n",
    "        student1 = Student('Katherine', ['DS 5100'])\n",
    "        expected = len(student1.courses)\n",
    "        course = \"CS 5050\"\n",
    "        student1.unenrollInCourse(course)\n",
    "        actual = len(student1.courses)\n",
    "        self.assertEqual(actual, expected)\n",
    "        \n",
    "        \n",
    "if __name__ == '__main__':\n",
    "    unittest.main(verbosity=2)\n",
    "```"
   ]
  },
  {
   "cell_type": "code",
   "execution_count": 7,
   "id": "c46760a0-1464-46d3-a86f-011ff94ca6c1",
   "metadata": {
    "slideshow": {
     "slide_type": "subslide"
    }
   },
   "outputs": [],
   "source": [
    "!python ./demo/student.py"
   ]
  },
  {
   "cell_type": "code",
   "execution_count": 14,
   "id": "9cffb8e6-dc6a-4a7c-9f04-4c84b9590ee0",
   "metadata": {
    "slideshow": {
     "slide_type": "-"
    }
   },
   "outputs": [
    {
     "name": "stdout",
     "output_type": "stream",
     "text": [
      "test_1 (__main__.EnrollInTestCase) ... ok\n",
      "test_2 (__main__.EnrollInTestCase) ... ok\n",
      "test_is_numCoursincremented_correctly (__main__.EnrollInTestCase) ... ok\n",
      "\n",
      "----------------------------------------------------------------------\n",
      "Ran 3 tests in 0.000s\n",
      "\n",
      "OK\n"
     ]
    }
   ],
   "source": [
    "!python ./demo/student_test.py > /dev/null"
   ]
  },
  {
   "cell_type": "code",
   "execution_count": null,
   "id": "3b52652f-acf6-484e-a01b-16317678ddec",
   "metadata": {},
   "outputs": [],
   "source": []
  }
 ],
 "metadata": {
  "celltoolbar": "Slideshow",
  "kernelspec": {
   "display_name": "Python 3 (ipykernel)",
   "language": "python",
   "name": "python3"
  },
  "language_info": {
   "codemirror_mode": {
    "name": "ipython",
    "version": 3
   },
   "file_extension": ".py",
   "mimetype": "text/x-python",
   "name": "python",
   "nbconvert_exporter": "python",
   "pygments_lexer": "ipython3",
   "version": "3.8.3"
  },
  "latex_envs": {
   "LaTeX_envs_menu_present": true,
   "autoclose": false,
   "autocomplete": true,
   "bibliofile": "biblio.bib",
   "cite_by": "apalike",
   "current_citInitial": 1,
   "eqLabelWithNumbers": true,
   "eqNumInitial": 1,
   "hotkeys": {
    "equation": "Ctrl-E",
    "itemize": "Ctrl-I"
   },
   "labels_anchors": false,
   "latex_user_defs": false,
   "report_style_numbering": false,
   "user_envs_cfg": false
  },
  "toc": {
   "base_numbering": 1,
   "nav_menu": {},
   "number_sections": false,
   "sideBar": true,
   "skip_h1_title": false,
   "title_cell": "Table of Contents",
   "title_sidebar": "Contents",
   "toc_cell": false,
   "toc_position": {
    "height": "calc(100% - 180px)",
    "left": "10px",
    "top": "150px",
    "width": "165px"
   },
   "toc_section_display": true,
   "toc_window_display": false
  },
  "varInspector": {
   "cols": {
    "lenName": 16,
    "lenType": 16,
    "lenVar": 40
   },
   "kernels_config": {
    "python": {
     "delete_cmd_postfix": "",
     "delete_cmd_prefix": "del ",
     "library": "var_list.py",
     "varRefreshCmd": "print(var_dic_list())"
    },
    "r": {
     "delete_cmd_postfix": ") ",
     "delete_cmd_prefix": "rm(",
     "library": "var_list.r",
     "varRefreshCmd": "cat(var_dic_list()) "
    }
   },
   "types_to_exclude": [
    "module",
    "function",
    "builtin_function_or_method",
    "instance",
    "_Feature"
   ],
   "window_display": false
  },
  "widgets": {
   "application/vnd.jupyter.widget-state+json": {
    "state": {},
    "version_major": 2,
    "version_minor": 0
   }
  }
 },
 "nbformat": 4,
 "nbformat_minor": 5
}

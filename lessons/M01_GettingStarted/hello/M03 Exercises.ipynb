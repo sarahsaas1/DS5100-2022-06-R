{
 "cells": [
  {
   "cell_type": "markdown",
   "id": "c2e3dcc7-5d7c-4982-b202-0a253b2c5114",
   "metadata": {},
   "source": [
    "### Example 3.1"
   ]
  },
  {
   "cell_type": "code",
   "execution_count": null,
   "id": "72fe108f-c0b6-4bd4-ab66-ba740f75d1e6",
   "metadata": {},
   "outputs": [],
   "source": [
    "if -10 < val < -5:\n",
    "    print('bucket 1')\n",
    "elif -5 <= val < -2:\n",
    "    print('bucket 2')\n",
    "elif val ==2:\n",
    "    print('bucket 3')"
   ]
  },
  {
   "cell_type": "markdown",
   "id": "a9b98304-7e0e-4e8d-8d66-6f04b69fd4c9",
   "metadata": {},
   "source": [
    "If val = 5, you need to add a default \"else\" statement at the end to cover the value 5."
   ]
  },
  {
   "cell_type": "markdown",
   "id": "4bcb9ebf-48c0-4cf7-a418-484fbdbc110a",
   "metadata": {},
   "source": [
    "### Exercise 3.2"
   ]
  },
  {
   "cell_type": "code",
   "execution_count": 4,
   "id": "ded643dd-f6de-479f-8843-fb0f1497228a",
   "metadata": {},
   "outputs": [
    {
     "name": "stdout",
     "output_type": "stream",
     "text": [
      "-2\n",
      "max_val\n",
      "0\n",
      "5\n",
      "6\n"
     ]
    }
   ],
   "source": [
    "xx=[-2,8,0,5,6]\n",
    "max_val=max(xx)\n",
    "for x in xx:\n",
    "    if x < max_val:\n",
    "        print(x)\n",
    "    else:\n",
    "        print('max_val')"
   ]
  },
  {
   "cell_type": "markdown",
   "id": "911e2114-7af5-4285-866b-85d8c9f866d4",
   "metadata": {},
   "source": [
    "### Exercise 3.3"
   ]
  },
  {
   "cell_type": "code",
   "execution_count": 7,
   "id": "60240a78-a9df-4360-9a22-1f33a9740a86",
   "metadata": {},
   "outputs": [
    {
     "name": "stdout",
     "output_type": "stream",
     "text": [
      "0\n",
      "10\n",
      "20\n",
      "30\n",
      "40\n",
      "50\n",
      "60\n",
      "70\n",
      "80\n",
      "90\n"
     ]
    }
   ],
   "source": [
    "it =  0\n",
    "max_iter = 100\n",
    "while it < max_iter:\n",
    "    if it==0 or it%10==0:\n",
    "        print(it)\n",
    "    it += 1"
   ]
  },
  {
   "cell_type": "markdown",
   "id": "d856ba01-b508-4945-b620-ae8d4818dbdf",
   "metadata": {},
   "source": [
    "### Exercise 3.4"
   ]
  },
  {
   "cell_type": "code",
   "execution_count": 14,
   "id": "634eb9ac-ada9-4f2f-958e-84e8d7d33478",
   "metadata": {},
   "outputs": [
    {
     "name": "stdout",
     "output_type": "stream",
     "text": [
      "blue\n",
      "red\n",
      "yellow\n",
      "green\n"
     ]
    }
   ],
   "source": [
    "list = ['Blue','Red','Yellow','Green']\n",
    "for word in list:\n",
    "    print(word.lower())"
   ]
  },
  {
   "cell_type": "markdown",
   "id": "2b32262b-8153-4028-a7cf-351bf8f2e3ba",
   "metadata": {},
   "source": [
    "### Exercise 3.5"
   ]
  },
  {
   "cell_type": "code",
   "execution_count": 16,
   "id": "a3b32769-0d98-4f69-87cc-289d04f40a09",
   "metadata": {},
   "outputs": [
    {
     "name": "stdout",
     "output_type": "stream",
     "text": [
      "Blue\n",
      "Red\n",
      "Yellow\n",
      "Green\n"
     ]
    }
   ],
   "source": [
    "ilist = iter(list)\n",
    "print(next(ilist))\n",
    "print(next(ilist))\n",
    "print(next(ilist))\n",
    "print(next(ilist))"
   ]
  },
  {
   "cell_type": "markdown",
   "id": "d651a656-6e9c-4631-b204-83ac464899ea",
   "metadata": {},
   "source": [
    "### Exercise 3.6"
   ]
  },
  {
   "cell_type": "code",
   "execution_count": 18,
   "id": "f9eb23c0-af9e-408a-8a04-3d468b9be96c",
   "metadata": {},
   "outputs": [
    {
     "name": "stdout",
     "output_type": "stream",
     "text": [
      "Jan 1\n",
      "Feb 2\n",
      "March 3\n",
      "April 4\n",
      "Jan 1\n",
      "Feb 2\n",
      "March 3\n",
      "April 4\n"
     ]
    }
   ],
   "source": [
    "dict = {'Jan':1,'Feb':2,'March':3,'April':4}\n",
    "for month, num in dict.items():\n",
    "    print(month, num)"
   ]
  },
  {
   "cell_type": "markdown",
   "id": "e2a82c07-4905-4051-a972-e76c9e55afbb",
   "metadata": {},
   "source": [
    "### Exercise 3.7"
   ]
  },
  {
   "cell_type": "code",
   "execution_count": 25,
   "id": "25bc403f-8935-44b6-a2a7-6be51ffc3410",
   "metadata": {},
   "outputs": [
    {
     "name": "stdout",
     "output_type": "stream",
     "text": [
      "Jan 1\n",
      "Feb 2\n",
      "March 3\n",
      "April 4\n"
     ]
    }
   ],
   "source": [
    "for k in dict.keys():\n",
    "    print(k, dict[k])"
   ]
  },
  {
   "cell_type": "markdown",
   "id": "e219eef5-c6ca-4199-a4d3-a5e840296549",
   "metadata": {},
   "source": [
    "### Exercise 3.8"
   ]
  },
  {
   "cell_type": "code",
   "execution_count": 27,
   "id": "92a731f2-724b-42d5-8e63-e70d5b0302ea",
   "metadata": {},
   "outputs": [
    {
     "name": "stdout",
     "output_type": "stream",
     "text": [
      "[8, 64, 216, 512, 1000]\n"
     ]
    }
   ],
   "source": [
    "numbers = [2,4,6,8,10]\n",
    "cubes = [n**3 for n in numbers]\n",
    "print(cubes)"
   ]
  },
  {
   "cell_type": "markdown",
   "id": "654632df-1554-4089-8273-ced636c540da",
   "metadata": {},
   "source": [
    "### Exercise 3.9"
   ]
  },
  {
   "cell_type": "code",
   "execution_count": 30,
   "id": "39ed1e2e-8fe0-44f8-a137-1a76d035494c",
   "metadata": {},
   "outputs": [
    {
     "name": "stdout",
     "output_type": "stream",
     "text": [
      "['3', '99', '22']\n"
     ]
    }
   ],
   "source": [
    "strings = ['3','blue','99','22','cat','dog','lemon']\n",
    "num_strings = [s for s in strings if s.isdigit()]\n",
    "print(num_strings)"
   ]
  },
  {
   "cell_type": "markdown",
   "id": "8b9b25c4-06fb-4953-8308-752b3836c41d",
   "metadata": {},
   "source": [
    "### Exercise 3.10"
   ]
  },
  {
   "cell_type": "code",
   "execution_count": 31,
   "id": "be525a7d-8695-4f00-a692-bb0d19cd2805",
   "metadata": {},
   "outputs": [
    {
     "name": "stdout",
     "output_type": "stream",
     "text": [
      "{0: 'a', 1: 'b', 2: 'c'}\n"
     ]
    }
   ],
   "source": [
    "letter_to_idx = {'a':0,'b':1,'c':2}\n",
    "idx_to_letter = {letter_to_idx[k]:k for k in letter_to_idx.keys()}\n",
    "print(idx_to_letter)"
   ]
  }
 ],
 "metadata": {
  "kernelspec": {
   "display_name": "Python 3 (ipykernel)",
   "language": "python",
   "name": "python3"
  },
  "language_info": {
   "codemirror_mode": {
    "name": "ipython",
    "version": 3
   },
   "file_extension": ".py",
   "mimetype": "text/x-python",
   "name": "python",
   "nbconvert_exporter": "python",
   "pygments_lexer": "ipython3",
   "version": "3.9.12"
  }
 },
 "nbformat": 4,
 "nbformat_minor": 5
}

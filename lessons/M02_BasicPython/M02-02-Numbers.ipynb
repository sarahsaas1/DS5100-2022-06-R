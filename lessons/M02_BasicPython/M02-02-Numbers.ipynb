{
 "cells": [
  {
   "cell_type": "markdown",
   "id": "19f1cd55-48ce-4d0f-9ba7-ce375f3cede3",
   "metadata": {
    "tags": []
   },
   "source": [
    "# Metadata \n",
    "\n",
    "```\n",
    "Course:   DS 5100\n",
    "Module:   02 Python Basics\n",
    "Topic:    Python Numbers\n",
    "Author:   R.C. Alvarado\n",
    "Date:     21 July 2022\n",
    "```"
   ]
  },
  {
   "cell_type": "markdown",
   "id": "ee766dab-dd2f-48b5-911d-2a3b118d9cae",
   "metadata": {},
   "source": [
    "# Built-in Number mathematical functions for numbers"
   ]
  },
  {
   "cell_type": "markdown",
   "id": "aaf78869-a8c9-44a5-9ca7-4ef063c00472",
   "metadata": {},
   "source": [
    "## `pow()` Power"
   ]
  },
  {
   "cell_type": "code",
   "execution_count": 83,
   "id": "a646bee5-4fc4-4b77-a6bb-3471621043b6",
   "metadata": {},
   "outputs": [
    {
     "name": "stdout",
     "output_type": "stream",
     "text": [
      "8\n"
     ]
    }
   ],
   "source": [
    "print(pow(2,3)) # 2 raised to 3 = 8"
   ]
  },
  {
   "cell_type": "markdown",
   "id": "cd55c136-0cae-444a-91f7-2d2ff758c987",
   "metadata": {},
   "source": [
    "## `abs()` Absolute value"
   ]
  },
  {
   "cell_type": "code",
   "execution_count": 84,
   "id": "c96b707c-5b1e-431a-8b5b-8e4d1a5c76de",
   "metadata": {},
   "outputs": [
    {
     "name": "stdout",
     "output_type": "stream",
     "text": [
      "2\n"
     ]
    }
   ],
   "source": [
    "print(abs(-2)) # returns 2, the absolute value of its argument"
   ]
  },
  {
   "cell_type": "markdown",
   "id": "8ab20ae0-83a7-4ab0-8e50-bc8170e1da1f",
   "metadata": {},
   "source": [
    "## `round()` Round\n",
    "\n",
    "Rounding up or down its argument (to closest whole number)."
   ]
  },
  {
   "cell_type": "code",
   "execution_count": 85,
   "id": "adc71127-f93e-4f88-8db9-79a3941c8ddb",
   "metadata": {},
   "outputs": [
    {
     "name": "stdout",
     "output_type": "stream",
     "text": [
      "3\n",
      "1\n"
     ]
    }
   ],
   "source": [
    "print(round(2.8)) # rounds up to 3.0\n",
    "print(round(1.1)) # rounds down to 1.0"
   ]
  },
  {
   "cell_type": "markdown",
   "id": "06ba32bb-fbae-4ae2-8fd6-94bd7e6beca8",
   "metadata": {
    "tags": []
   },
   "source": [
    "# Math library functions\n",
    "\n",
    "See the Python docs on [the math library](https://docs.python.org/3/library/math.html)."
   ]
  },
  {
   "cell_type": "code",
   "execution_count": 1,
   "id": "56332d5c-5ac1-426a-9cf5-1ba88a81a61b",
   "metadata": {
    "tags": []
   },
   "outputs": [],
   "source": [
    "import math"
   ]
  },
  {
   "cell_type": "markdown",
   "id": "8aef2df3-29d4-4bac-a95d-1ae47f6b0fc6",
   "metadata": {},
   "source": [
    "## `math.sqrt()` Square root"
   ]
  },
  {
   "cell_type": "code",
   "execution_count": 4,
   "id": "82e0b67e-7f00-4242-8493-283c95b8c315",
   "metadata": {},
   "outputs": [
    {
     "data": {
      "text/plain": [
       "\u001b[0;31mSignature:\u001b[0m \u001b[0mmath\u001b[0m\u001b[0;34m.\u001b[0m\u001b[0msqrt\u001b[0m\u001b[0;34m(\u001b[0m\u001b[0mx\u001b[0m\u001b[0;34m,\u001b[0m \u001b[0;34m/\u001b[0m\u001b[0;34m)\u001b[0m\u001b[0;34m\u001b[0m\u001b[0;34m\u001b[0m\u001b[0m\n",
       "\u001b[0;31mDocstring:\u001b[0m Return the square root of x.\n",
       "\u001b[0;31mType:\u001b[0m      builtin_function_or_method\n"
      ]
     },
     "metadata": {},
     "output_type": "display_data"
    }
   ],
   "source": [
    "math.sqrt?"
   ]
  },
  {
   "cell_type": "code",
   "execution_count": 72,
   "id": "9e51961c-a838-4ae8-907e-08cb8ef4ab3d",
   "metadata": {},
   "outputs": [
    {
     "name": "stdout",
     "output_type": "stream",
     "text": [
      "2.6457513110645907\n"
     ]
    }
   ],
   "source": [
    "print(sqrt(intOne))"
   ]
  },
  {
   "cell_type": "code",
   "execution_count": 94,
   "id": "54feb630-1e74-4993-befd-5ef1238bdbc0",
   "metadata": {},
   "outputs": [
    {
     "name": "stdout",
     "output_type": "stream",
     "text": [
      "3.4641016151377544\n"
     ]
    }
   ],
   "source": [
    "print(math.sqrt(12)) # using the square-root function from the math library"
   ]
  },
  {
   "cell_type": "code",
   "execution_count": 95,
   "id": "685cb656-453b-45b3-8350-b38db94f928d",
   "metadata": {},
   "outputs": [
    {
     "name": "stdout",
     "output_type": "stream",
     "text": [
      "2\n",
      "2\n",
      "2\n"
     ]
    }
   ],
   "source": [
    "print(math.floor(2.5)) # returns largest whole number less than the argument\n",
    "print(math.floor(2.9))\n",
    "print(math.floor(2.1))"
   ]
  },
  {
   "cell_type": "markdown",
   "id": "77b42b84-edf2-4c36-ba39-b05ccec6103d",
   "metadata": {
    "tags": []
   },
   "source": [
    "## `math.log()`"
   ]
  },
  {
   "cell_type": "code",
   "execution_count": 3,
   "id": "5362f496-4675-4dc8-bfc2-90081f23e700",
   "metadata": {},
   "outputs": [
    {
     "data": {
      "text/plain": [
       "\u001b[0;31mDocstring:\u001b[0m\n",
       "log(x, [base=math.e])\n",
       "Return the logarithm of x to the given base.\n",
       "\n",
       "If the base not specified, returns the natural logarithm (base e) of x.\n",
       "\u001b[0;31mType:\u001b[0m      builtin_function_or_method\n"
      ]
     },
     "metadata": {},
     "output_type": "display_data"
    }
   ],
   "source": [
    "math.log?"
   ]
  },
  {
   "cell_type": "code",
   "execution_count": 12,
   "id": "714a0bf0-37a0-480c-b99d-300536e5ad22",
   "metadata": {},
   "outputs": [
    {
     "data": {
      "text/plain": [
       "2.0"
      ]
     },
     "execution_count": 12,
     "metadata": {},
     "output_type": "execute_result"
    }
   ],
   "source": [
    "math.log(100, 10)"
   ]
  },
  {
   "cell_type": "code",
   "execution_count": 13,
   "id": "ce576db6-7ae8-4358-89ff-d7a3dea1815a",
   "metadata": {},
   "outputs": [
    {
     "data": {
      "text/plain": [
       "8.0"
      ]
     },
     "execution_count": 13,
     "metadata": {},
     "output_type": "execute_result"
    }
   ],
   "source": [
    "math.log(256, 2)"
   ]
  },
  {
   "cell_type": "markdown",
   "id": "943c99f7-c366-4e22-acb2-4a4d73d739e5",
   "metadata": {},
   "source": [
    "# The Random library \n",
    "\n",
    "See [random — Generate pseudo-random numbers](https://docs.python.org/3/library/random.html) for more info."
   ]
  },
  {
   "cell_type": "code",
   "execution_count": 14,
   "id": "e90823f9-d108-4002-a560-e0a462624dcb",
   "metadata": {},
   "outputs": [],
   "source": [
    "import random"
   ]
  },
  {
   "cell_type": "markdown",
   "id": "ae964ebc-810f-4a99-8e82-be7ad59a3b9a",
   "metadata": {},
   "source": [
    "### `random.random()`"
   ]
  },
  {
   "cell_type": "code",
   "execution_count": 15,
   "id": "176166f6-58ec-489c-9fb9-0b97104b10a2",
   "metadata": {},
   "outputs": [
    {
     "data": {
      "text/plain": [
       "\u001b[0;31mSignature:\u001b[0m \u001b[0mrandom\u001b[0m\u001b[0;34m.\u001b[0m\u001b[0mrandom\u001b[0m\u001b[0;34m(\u001b[0m\u001b[0;34m)\u001b[0m\u001b[0;34m\u001b[0m\u001b[0;34m\u001b[0m\u001b[0m\n",
       "\u001b[0;31mDocstring:\u001b[0m random() -> x in the interval [0, 1).\n",
       "\u001b[0;31mType:\u001b[0m      builtin_function_or_method\n"
      ]
     },
     "metadata": {},
     "output_type": "display_data"
    }
   ],
   "source": [
    "random.random?"
   ]
  },
  {
   "cell_type": "code",
   "execution_count": 16,
   "id": "b6add17b-5945-4403-8c0c-42b5e5f5ec7f",
   "metadata": {},
   "outputs": [
    {
     "name": "stdout",
     "output_type": "stream",
     "text": [
      "0.5142982481846803\n"
     ]
    }
   ],
   "source": [
    "print(random.random()) # using random() function in random library\n",
    "    # will return a number between 0 and 1"
   ]
  },
  {
   "cell_type": "markdown",
   "id": "636f9a05-3758-4b4f-9b19-7ebfbddc1ade",
   "metadata": {
    "tags": []
   },
   "source": [
    "### `random.randint()`"
   ]
  },
  {
   "cell_type": "code",
   "execution_count": 17,
   "id": "01d893b5-ad95-41f4-855b-a137ef825231",
   "metadata": {},
   "outputs": [
    {
     "data": {
      "text/plain": [
       "\u001b[0;31mSignature:\u001b[0m \u001b[0mrandom\u001b[0m\u001b[0;34m.\u001b[0m\u001b[0mrandint\u001b[0m\u001b[0;34m(\u001b[0m\u001b[0ma\u001b[0m\u001b[0;34m,\u001b[0m \u001b[0mb\u001b[0m\u001b[0;34m)\u001b[0m\u001b[0;34m\u001b[0m\u001b[0;34m\u001b[0m\u001b[0m\n",
       "\u001b[0;31mDocstring:\u001b[0m\n",
       "Return random integer in range [a, b], including both end points.\n",
       "        \n",
       "\u001b[0;31mFile:\u001b[0m      ~/anaconda3/lib/python3.8/random.py\n",
       "\u001b[0;31mType:\u001b[0m      method\n"
      ]
     },
     "metadata": {},
     "output_type": "display_data"
    }
   ],
   "source": [
    "random.randint?"
   ]
  },
  {
   "cell_type": "code",
   "execution_count": 18,
   "id": "e95584a9-c03e-4ea5-b6dd-a28731935654",
   "metadata": {},
   "outputs": [
    {
     "name": "stdout",
     "output_type": "stream",
     "text": [
      "15\n"
     ]
    }
   ],
   "source": [
    "print(random.randint(1,100)) # specify a range in the parenthesis\n",
    "    # this will return a random integer in the range 1-100"
   ]
  }
 ],
 "metadata": {
  "kernelspec": {
   "display_name": "Python 3 (ipykernel)",
   "language": "python",
   "name": "python3"
  },
  "language_info": {
   "codemirror_mode": {
    "name": "ipython",
    "version": 3
   },
   "file_extension": ".py",
   "mimetype": "text/x-python",
   "name": "python",
   "nbconvert_exporter": "python",
   "pygments_lexer": "ipython3",
   "version": "3.8.3"
  },
  "widgets": {
   "application/vnd.jupyter.widget-state+json": {
    "state": {},
    "version_major": 2,
    "version_minor": 0
   }
  }
 },
 "nbformat": 4,
 "nbformat_minor": 5
}

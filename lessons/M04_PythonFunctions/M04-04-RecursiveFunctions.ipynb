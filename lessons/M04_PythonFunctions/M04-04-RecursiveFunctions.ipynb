{
 "cells": [
  {
   "cell_type": "markdown",
   "metadata": {},
   "source": [
    "# Metadata\n",
    "\n",
    "```\n",
    "Course:   DS 5100\n",
    "Module:   04 Python Functions\n",
    "Topic:    Recursion\n",
    "Author:   R.C. Alvarado\n",
    "Date:     23 June 2022\n",
    "```\n",
    "\n",
    "**Concepts**\n",
    "- recursion\n",
    "- recursive function\n",
    "- stack\n",
    "- stack overflow"
   ]
  },
  {
   "cell_type": "markdown",
   "metadata": {},
   "source": [
    "# Introduction\n",
    "\n",
    "A recursive function is a function that calls itself.\n",
    "\n",
    "This is weird, since it does not seem possible. How can a definition refer to itself?\n",
    "\n",
    "In philosophy, this is expressed in the Barber's Paradox:\n",
    "\n",
    "> The barber is the one who shaves all those, and those only, who do not shave themselves. Does the barber shave himself?\n",
    "\n",
    "**A Cute Definition**\n",
    "\n",
    "**recursion** - the art of defining something (at least partly) in terms of itself, which is a naughty no-no in dictionaries but often works out okay in computer programs if you’re careful not to recurse forever (which is like an infinite loop with more spectacular failure modes).\n",
    "\n",
    "Source: _PerlDoc_"
   ]
  },
  {
   "cell_type": "markdown",
   "metadata": {},
   "source": [
    "**A Formal Definition**\n",
    "\n",
    "In mathematics and computer science, a class of objects or methods exhibits *recursive behavior* when it can be defined by two properties:\n",
    "\n",
    "A simple base case (or cases) — a terminating scenario that does not use recursion to produce an answer  \n",
    "A recursive step — a set of rules that reduces all successive cases toward the base case."
   ]
  },
  {
   "cell_type": "markdown",
   "metadata": {
    "tags": []
   },
   "source": [
    "### Factorial Example \n",
    "\n",
    "[Source](https://www.programiz.com/python-programming/recursion)\n",
    "\n",
    "Factorial of a number *n* is the product of all the integers from 1 to *n*. \n",
    "\n",
    "For example, the factorial of 5 (denoted as 5!) is 1 x 2 x 3 x 4 x 5 = 120."
   ]
  },
  {
   "cell_type": "code",
   "execution_count": 45,
   "metadata": {
    "tags": []
   },
   "outputs": [],
   "source": [
    "def factorial(x):\n",
    "    \"\"\"This is a recursive function to find the factorial of an integer\"\"\"\n",
    "    if x == 1: # Base condition\n",
    "        return 1\n",
    "    else:\n",
    "        return x * factorial(x-1)"
   ]
  },
  {
   "cell_type": "code",
   "execution_count": 44,
   "metadata": {
    "tags": []
   },
   "outputs": [
    {
     "name": "stdout",
     "output_type": "stream",
     "text": [
      "factorial(5) = None\n"
     ]
    }
   ],
   "source": [
    "print('factorial(5) =', factorial(5))"
   ]
  },
  {
   "cell_type": "markdown",
   "metadata": {},
   "source": [
    "**As a while loop**"
   ]
  },
  {
   "cell_type": "code",
   "execution_count": 40,
   "metadata": {},
   "outputs": [
    {
     "data": {
      "text/plain": [
       "120"
      ]
     },
     "execution_count": 40,
     "metadata": {},
     "output_type": "execute_result"
    }
   ],
   "source": [
    "x = f = 5\n",
    "while x > 1:\n",
    "    x -= 1\n",
    "    f *= x\n",
    "f"
   ]
  },
  {
   "cell_type": "markdown",
   "metadata": {},
   "source": [
    "**As a for loop**"
   ]
  },
  {
   "cell_type": "code",
   "execution_count": 41,
   "metadata": {},
   "outputs": [
    {
     "data": {
      "text/plain": [
       "120"
      ]
     },
     "execution_count": 41,
     "metadata": {},
     "output_type": "execute_result"
    }
   ],
   "source": [
    "x = f = 5\n",
    "for i in range(1, x):\n",
    "    x -= 1\n",
    "    f *= x\n",
    "f"
   ]
  },
  {
   "cell_type": "code",
   "execution_count": 42,
   "metadata": {},
   "outputs": [
    {
     "data": {
      "text/plain": [
       "120"
      ]
     },
     "execution_count": 42,
     "metadata": {},
     "output_type": "execute_result"
    }
   ],
   "source": [
    "f = x = 5\n",
    "for i in range(1, x):\n",
    "    x -= 1\n",
    "    f *= x\n",
    "f"
   ]
  },
  {
   "cell_type": "markdown",
   "metadata": {},
   "source": [
    "### A Famous Example of Recursion: The Fibonacci sequence\n",
    "\n",
    "Fib(0) = 0 (base case 1)\n",
    "\n",
    "Fib(1) = 1 (base case 2)\n",
    "\n",
    "For all integers n > 1, Fib(n) = Fib(n − 1) + Fib(n − 2)"
   ]
  },
  {
   "cell_type": "markdown",
   "metadata": {},
   "source": [
    "### Infinite Loops and Stack Overflows"
   ]
  },
  {
   "cell_type": "markdown",
   "metadata": {},
   "source": [
    "Every recursive function must have a base condition that stops the recursion or else the function calls itself infinitely.\n",
    "\n",
    "The Python interpreter limits the depths of recursion to help avoid infinite recursions, resulting in stack overflows."
   ]
  },
  {
   "cell_type": "markdown",
   "metadata": {},
   "source": [
    "The **call stack** is where information is stored relating to the active subroutines in a program.\n",
    "\n",
    "The call stack has a limited amount of available memory. When excessive memory consumption occurs on the call stack,\n",
    "it results in a **stack overflow error**."
   ]
  }
 ],
 "metadata": {
  "anaconda-cloud": {},
  "kernelspec": {
   "display_name": "Python 3 (ipykernel)",
   "language": "python",
   "name": "python3"
  },
  "language_info": {
   "codemirror_mode": {
    "name": "ipython",
    "version": 3
   },
   "file_extension": ".py",
   "mimetype": "text/x-python",
   "name": "python",
   "nbconvert_exporter": "python",
   "pygments_lexer": "ipython3",
   "version": "3.8.3"
  },
  "widgets": {
   "application/vnd.jupyter.widget-state+json": {
    "state": {},
    "version_major": 2,
    "version_minor": 0
   }
  }
 },
 "nbformat": 4,
 "nbformat_minor": 4
}

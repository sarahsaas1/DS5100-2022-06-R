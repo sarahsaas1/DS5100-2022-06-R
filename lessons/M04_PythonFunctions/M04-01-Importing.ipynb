{
 "cells": [
  {
   "cell_type": "markdown",
   "metadata": {},
   "source": [
    "# Metadata\n",
    "\n",
    "```\n",
    "Course:   DS 5100\n",
    "Module:   04 Python Functions\n",
    "Topic:    Importing Functions\n",
    "Author:   R.C. Alvarado\n",
    "Date:     23 June 2022\n",
    "```\n"
   ]
  },
  {
   "cell_type": "markdown",
   "metadata": {},
   "source": [
    "# Importing \n",
    "\n",
    "Calling a function from the \"math\" library is straightforward:\n",
    "\n",
    "1. Import Python's Math library with the command `import math`\n",
    "2. Call methods from the imported `math` object using \"dot\" notation, that is, <name of the library>.<name of the method>(any parameters).\n",
    "    \n",
    "For example: \n",
    "```python\n",
    "math.sqrt(12)\n",
    "```\n",
    "    \n",
    "Put all of your import statements at the very top of your code, before anything else, other than any header comments (which you should have).\n",
    " \n",
    "Here are some example math functions:   "
   ]
  },
  {
   "cell_type": "code",
   "execution_count": 8,
   "metadata": {},
   "outputs": [],
   "source": [
    "import math # Typically best to put this line of code at the TOP of the file"
   ]
  },
  {
   "cell_type": "code",
   "execution_count": 17,
   "metadata": {},
   "outputs": [
    {
     "data": {
      "text/plain": [
       "3.4641016151377544"
      ]
     },
     "execution_count": 17,
     "metadata": {},
     "output_type": "execute_result"
    }
   ],
   "source": [
    "math.sqrt(12)"
   ]
  },
  {
   "cell_type": "code",
   "execution_count": 14,
   "metadata": {},
   "outputs": [
    {
     "data": {
      "text/plain": [
       "2"
      ]
     },
     "execution_count": 14,
     "metadata": {},
     "output_type": "execute_result"
    }
   ],
   "source": [
    "math.floor(2.5) # returns largest whole number less than the argument"
   ]
  },
  {
   "cell_type": "markdown",
   "metadata": {},
   "source": [
    "Here's an example using the random library (a class)."
   ]
  },
  {
   "cell_type": "code",
   "execution_count": 11,
   "metadata": {},
   "outputs": [],
   "source": [
    "import random # Typically best to put this line of code at the TOP of the file"
   ]
  },
  {
   "cell_type": "code",
   "execution_count": 18,
   "metadata": {},
   "outputs": [
    {
     "data": {
      "text/plain": [
       "0.3599068479674543"
      ]
     },
     "execution_count": 18,
     "metadata": {},
     "output_type": "execute_result"
    }
   ],
   "source": [
    "random.random()# will return a number between 0 and 1 "
   ]
  },
  {
   "cell_type": "code",
   "execution_count": 19,
   "metadata": {},
   "outputs": [
    {
     "data": {
      "text/plain": [
       "18"
      ]
     },
     "execution_count": 19,
     "metadata": {},
     "output_type": "execute_result"
    }
   ],
   "source": [
    "random.randint(1, 100) # this will return a random integer in the range 1-100"
   ]
  },
  {
   "cell_type": "markdown",
   "metadata": {
    "tags": []
   },
   "source": [
    "# Importing Specific Functions\n",
    "\n",
    "If you know what specifics function you are going to use from a library, you can import them directly, like so:\n",
    "\n",
    "```python\n",
    "from math import sqrt\n",
    "```\n",
    "\n",
    "This has two effects:\n",
    "1. It reduces the memory used by the library in your program.\n",
    "2. It allows you to call the function directly, with the object dot notation."
   ]
  },
  {
   "cell_type": "code",
   "execution_count": 21,
   "metadata": {},
   "outputs": [],
   "source": [
    "from math import sqrt"
   ]
  },
  {
   "cell_type": "code",
   "execution_count": 22,
   "metadata": {},
   "outputs": [
    {
     "data": {
      "text/plain": [
       "9.9498743710662"
      ]
     },
     "execution_count": 22,
     "metadata": {},
     "output_type": "execute_result"
    }
   ],
   "source": [
    "sqrt(99)"
   ]
  },
  {
   "cell_type": "markdown",
   "metadata": {},
   "source": [
    "# Aliasing"
   ]
  },
  {
   "cell_type": "markdown",
   "metadata": {},
   "source": [
    "To avoid having the function name conflict with an existing function in your program, \\\n",
    "you can alias the imported function like so:"
   ]
  },
  {
   "cell_type": "code",
   "execution_count": 26,
   "metadata": {},
   "outputs": [],
   "source": [
    "from math import sqrt as SquareRoot"
   ]
  },
  {
   "cell_type": "code",
   "execution_count": 27,
   "metadata": {},
   "outputs": [
    {
     "data": {
      "text/plain": [
       "254.95097567963924"
      ]
     },
     "execution_count": 27,
     "metadata": {},
     "output_type": "execute_result"
    }
   ],
   "source": [
    "SquareRoot(65000)"
   ]
  },
  {
   "cell_type": "code",
   "execution_count": null,
   "metadata": {},
   "outputs": [],
   "source": [
    "def square(number):\n",
    "    return number * number  # square a number\n",
    "    \n",
    "def addTen(number):\n",
    "    return number + 10  # Add 10 to the number   \n",
    "    \n",
    "def numVowels(string):\n",
    "    string = string.lower()  # convert user input to lowercase\n",
    "    count = 0\n",
    "    for i in range(len(string)):\n",
    "        if string[i] == \"a\" or string[i] == \"e\" or \\\n",
    "           string[i] == \"i\" or string[i] == \"o\" or \\\n",
    "           string[i] == \"u\":\n",
    "           count += 1 # increment count\n",
    "    return count"
   ]
  },
  {
   "cell_type": "markdown",
   "metadata": {},
   "source": [
    "# Functions Calling Other Functions\n",
    "\n",
    "Functions contain any code, so they can contain functions.\n",
    "\n",
    "You create functions that call functions when you want to break a complex process into components."
   ]
  },
  {
   "cell_type": "markdown",
   "metadata": {},
   "source": [
    "## Example: Function to convert betwee F and C degrees"
   ]
  },
  {
   "cell_type": "code",
   "execution_count": 42,
   "metadata": {},
   "outputs": [],
   "source": [
    "def ftoc(temp):  # F to C\n",
    "    return (temp-32.0) * (5.0/9.0)\n",
    "    \n",
    "def ctof(temp):  # C to F\n",
    "    return temp * (9.0/5.0) + 32.0\n",
    "    \n",
    "def convert(temp, toTemp):  # Two parameters\n",
    "    # No problem to call another function in the body of a function\n",
    "    if toTemp.lower() == \"c\":\n",
    "        return ftoc(temp)  # function call to ftoc\n",
    "    else:\n",
    "        return ctof(temp)  # function call to ctof"
   ]
  },
  {
   "cell_type": "code",
   "execution_count": 43,
   "metadata": {},
   "outputs": [
    {
     "name": "stdin",
     "output_type": "stream",
     "text": [
      "Enter a temperature:  45\n",
      "Enter the scale to convert to: (c or f)  c\n"
     ]
    }
   ],
   "source": [
    "temp = int(input(\"Enter a temperature: \"))                \n",
    "scale = input(\"Enter the scale to convert to: (c or f) \")\n",
    "if (scale == 'c'):\n",
    "    currentScale = 'f'\n",
    "else:\n",
    "    currentScale = 'c'\n",
    "\n",
    "converted = convert(temp, scale)"
   ]
  },
  {
   "cell_type": "code",
   "execution_count": 45,
   "metadata": {},
   "outputs": [
    {
     "name": "stdout",
     "output_type": "stream",
     "text": [
      "45 f converted becomes: 7.222222222222222 c\n"
     ]
    }
   ],
   "source": [
    "print(temp, currentScale, \"converted becomes:\" , converted, scale)"
   ]
  },
  {
   "cell_type": "markdown",
   "metadata": {},
   "source": [
    "## Example: Counting the number of vowels"
   ]
  },
  {
   "cell_type": "code",
   "execution_count": 46,
   "metadata": {},
   "outputs": [],
   "source": [
    "# Predicate functions - often used as helper functions that return True or False\n",
    "\n",
    "def isVowel(l):\n",
    "    if l == \"a\" or l == \"e\" or l == \"i\" or l == \"o\" or l == \"u\":\n",
    "        return True  # if the letter is a vowel, return True\n",
    "    else:\n",
    "        return False # else, return False\n",
    "        \n",
    "def numVowels(string):\n",
    "    string = string.lower()\n",
    "    count = 0\n",
    "    for i in range(len(string)):  # for each character\n",
    "        if isVowel(string[i]):  # calling function above\n",
    "            count += 1  # increment count\n",
    "    return count"
   ]
  },
  {
   "cell_type": "code",
   "execution_count": 47,
   "metadata": {},
   "outputs": [
    {
     "name": "stdin",
     "output_type": "stream",
     "text": [
      "Enter a string:  This is string\n"
     ]
    }
   ],
   "source": [
    "theStrng = input(\"Enter a string: \")"
   ]
  },
  {
   "cell_type": "code",
   "execution_count": 48,
   "metadata": {},
   "outputs": [
    {
     "name": "stdout",
     "output_type": "stream",
     "text": [
      "There are 3 vowels in the string.\n"
     ]
    }
   ],
   "source": [
    "print(\"There are\", str(numVowels(theStrng)), \"vowels in the string.\")"
   ]
  },
  {
   "cell_type": "markdown",
   "metadata": {},
   "source": [
    "## Example: Calculating tax on a given amount"
   ]
  },
  {
   "cell_type": "markdown",
   "metadata": {},
   "source": [
    "Writing two functions:\n",
    "1. computes tax based on a gross amount\n",
    "2. calculates a net pay using the tax function (written previously)\n",
    "\n",
    "Gross Amount and associated tax:\n",
    "\n",
    "* 0-240:    0%\n",
    "* 241-480: 15%\n",
    "* 481-:    28% "
   ]
  },
  {
   "cell_type": "code",
   "execution_count": 49,
   "metadata": {},
   "outputs": [],
   "source": [
    "def tax(amount):\n",
    "    if amount <= 240:\n",
    "        return 0\n",
    "    elif amount > 240 and amount <= 480:\n",
    "        return amount * .15\n",
    "    else:\n",
    "        return amount * .28\n",
    "        \n",
    "def netpay(grosspay):\n",
    "    return grosspay - tax(grosspay)\n",
    "\n",
    "def howMuchTax():\n",
    "    # Calling tax            \n",
    "    amount = int(input(\"Enter amount of money: \"))                            \n",
    "    print(\"The tax is: \" + str(tax(amount)))\n",
    "    \n",
    "def calcNetPay():\n",
    "    # Calling netpay \n",
    "    gp = int(input(\"Enter gross pay: \"))\n",
    "    print(\"Net pay is \" + str(netpay(gp)))"
   ]
  },
  {
   "cell_type": "code",
   "execution_count": 51,
   "metadata": {},
   "outputs": [
    {
     "name": "stdin",
     "output_type": "stream",
     "text": [
      "Enter amount of money:  100\n"
     ]
    },
    {
     "name": "stdout",
     "output_type": "stream",
     "text": [
      "The tax is: 0\n"
     ]
    }
   ],
   "source": [
    "# Testing tax\n",
    "howMuchTax()"
   ]
  },
  {
   "cell_type": "code",
   "execution_count": 52,
   "metadata": {},
   "outputs": [
    {
     "name": "stdin",
     "output_type": "stream",
     "text": [
      "Enter gross pay:  10000000000000\n"
     ]
    },
    {
     "name": "stdout",
     "output_type": "stream",
     "text": [
      "Net pay is 7200000000000.0\n"
     ]
    }
   ],
   "source": [
    "# Testing netpay\n",
    "calcNetPay()"
   ]
  },
  {
   "cell_type": "code",
   "execution_count": null,
   "metadata": {},
   "outputs": [],
   "source": []
  }
 ],
 "metadata": {
  "kernelspec": {
   "display_name": "Python 3 (ipykernel)",
   "language": "python",
   "name": "python3"
  },
  "language_info": {
   "codemirror_mode": {
    "name": "ipython",
    "version": 3
   },
   "file_extension": ".py",
   "mimetype": "text/x-python",
   "name": "python",
   "nbconvert_exporter": "python",
   "pygments_lexer": "ipython3",
   "version": "3.8.3"
  },
  "widgets": {
   "application/vnd.jupyter.widget-state+json": {
    "state": {},
    "version_major": 2,
    "version_minor": 0
   }
  }
 },
 "nbformat": 4,
 "nbformat_minor": 4
}

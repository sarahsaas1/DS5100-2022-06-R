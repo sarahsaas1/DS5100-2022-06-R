{
 "cells": [
  {
   "cell_type": "markdown",
   "metadata": {
    "tags": []
   },
   "source": [
    "# Metadata\n",
    "\n",
    "```\n",
    "title:   Fighting Forest Fires with Functions\n",
    "course:  DS 5100\n",
    "module:  04 Functions HW\n",
    "topics:  User-defined functions, lambda functions, comprehensions,   nested functions\n",
    "updated: 18 June 2022 (adapted)\n",
    "```"
   ]
  },
  {
   "cell_type": "markdown",
   "metadata": {},
   "source": [
    "# Student Info\n",
    "\n",
    "**<span style=\"color:red;\">Write your name and user iD here below and delete this line when done.</span>**\n",
    "\n",
    "* Name:\n",
    "* User ID:"
   ]
  },
  {
   "cell_type": "markdown",
   "metadata": {},
   "source": [
    "# Objective\n",
    "\n",
    "Work with functions (built-in and user-defined), lambda functions, and list comprehensions.\n",
    "\n",
    "# Summary\n",
    "\n",
    "You will work with the Forest Fires Data Set from UCI.  \n",
    "\n",
    "Information about the dataset: https://archive.ics.uci.edu/ml/datasets/Forest+Fires\n",
    "\n",
    "Background: This dataset was used in a regression task, where the aim was to predict the burned area of forest fires, in the northeast region of Portugal, by using meteorological and other data.\n",
    "\n",
    "We will apply some of the steps leading to an ML task."
   ]
  },
  {
   "cell_type": "markdown",
   "metadata": {},
   "source": [
    "# Instructions\n",
    "\n",
    "Run the pre-populated code, and along the way, you will be asked to perform several graded tasks <span style=\"color:blue\">(prompted in blue font)</span>.  \n",
    "\n",
    "Show your code and solutions clearly in the cells following each question.   \n",
    "When the file is completed, submit the notebook through Collab.\n",
    "\n",
    "**TOTAL POINTS: 14**\n",
    "\n",
    "---\n"
   ]
  },
  {
   "cell_type": "markdown",
   "metadata": {
    "tags": []
   },
   "source": [
    "# Read in the dataset from the UCI Machine Learning Repository  "
   ]
  },
  {
   "cell_type": "markdown",
   "metadata": {},
   "source": [
    "We have a local copy of the data. It is in the same directory as this notebook. We can inspect it by importing the CSV file as a list using the `open()` function and the `.readlines()` method."
   ]
  },
  {
   "cell_type": "code",
   "execution_count": 1,
   "metadata": {},
   "outputs": [],
   "source": [
    "data_file = open('uci_mldb_forestfires.csv', 'r').readlines()"
   ]
  },
  {
   "cell_type": "markdown",
   "metadata": {},
   "source": [
    "We look at the first ten lines. Note that we replace commas with tabs for readability. \n",
    "Tools like Numpy and Pandas will do formatting for you."
   ]
  },
  {
   "cell_type": "code",
   "execution_count": 7,
   "metadata": {},
   "outputs": [
    {
     "name": "stdout",
     "output_type": "stream",
     "text": [
      "X\tY\tmonth\tday\tFFMC\tDMC\tDC\tISI\ttemp\tRH\twind\train\tarea\n",
      "7\t5\tmar\tfri\t86.2\t26.2\t94.3\t5.1\t8.2\t51\t6.7\t0.0\t0.0\n",
      "7\t4\toct\ttue\t90.6\t35.4\t669.1\t6.7\t18.0\t33\t0.9\t0.0\t0.0\n",
      "7\t4\toct\tsat\t90.6\t43.7\t686.9\t6.7\t14.6\t33\t1.3\t0.0\t0.0\n",
      "8\t6\tmar\tfri\t91.7\t33.3\t77.5\t9.0\t8.3\t97\t4.0\t0.2\t0.0\n",
      "8\t6\tmar\tsun\t89.3\t51.3\t102.2\t9.6\t11.4\t99\t1.8\t0.0\t0.0\n",
      "8\t6\taug\tsun\t92.3\t85.3\t488.0\t14.7\t22.2\t29\t5.4\t0.0\t0.0\n",
      "8\t6\taug\tmon\t92.3\t88.9\t495.6\t8.5\t24.1\t27\t3.1\t0.0\t0.0\n",
      "8\t6\taug\tmon\t91.5\t145.4\t608.2\t10.7\t8.0\t86\t2.2\t0.0\t0.0\n",
      "8\t6\tsep\ttue\t91.0\t129.5\t692.6\t7.0\t13.1\t63\t5.4\t0.0\t0.0\n"
     ]
    }
   ],
   "source": [
    "for row in data_file[:10]:\n",
    "    row = row.replace(',', '\\t')\n",
    "    print(row, end='')"
   ]
  },
  {
   "cell_type": "markdown",
   "metadata": {},
   "source": [
    "We have a helper script to give us the data in the form of a simple object. Later, we will use a Pandas dataframe object to do this work."
   ]
  },
  {
   "cell_type": "code",
   "execution_count": 8,
   "metadata": {},
   "outputs": [],
   "source": [
    "from HW04_uci_mldb_firedata import firedata"
   ]
  },
  {
   "cell_type": "markdown",
   "metadata": {},
   "source": [
    "# Working with spatial coordinates X, Y\n",
    "\n",
    "X: x-axis spatial coordinate within the Montesinho park map: 1 to 9  \n",
    "Y: y-axis spatial coordinate within the Montesinho park map: 2 to 9"
   ]
  },
  {
   "cell_type": "code",
   "execution_count": 42,
   "metadata": {},
   "outputs": [],
   "source": [
    "X, Y = firedata.X, firedata.Y"
   ]
  },
  {
   "cell_type": "code",
   "execution_count": 43,
   "metadata": {},
   "outputs": [
    {
     "data": {
      "text/plain": [
       "(array([7, 7, 7, 8, 8, 8, 8, 8, 8, 7]), array([5, 4, 4, 6, 6, 6, 6, 6, 6, 5]))"
      ]
     },
     "execution_count": 43,
     "metadata": {},
     "output_type": "execute_result"
    }
   ],
   "source": [
    "X[:10], Y[:10]"
   ]
  },
  {
   "cell_type": "markdown",
   "metadata": {},
   "source": [
    "## Q1\n",
    "\n",
    "**<span style=\"color:blue\">(2 PTS) 1. Write a function called `coord_builder()` with these requirements:</span>**\n",
    "\n",
    "- Takes two lists, X and Y, as inputs. X and Y must be of equal length.\n",
    "- Returns a list of tuples `[(x1,y1), (x2,y2), ..., (xn,yn)]` where `(xi,yi)` are the ordered pairs from X and Y.\n",
    "- Uses the `zip()` function to create the returned list.\n",
    "- Use a list comprehension to actually build the returned list.\n",
    "- Contains a docstring with short description of the function."
   ]
  },
  {
   "cell_type": "code",
   "execution_count": 14,
   "metadata": {},
   "outputs": [],
   "source": [
    "# WRITE FUNCTION"
   ]
  },
  {
   "cell_type": "markdown",
   "metadata": {},
   "source": [
    "## Q2\n",
    "**<span style=\"color:blue\">(1 PT) 2. Call your `coord_builder()` function, passing in `X` and `Y`.  \n",
    "    Then show print the FIRST FIVE TUPLES. </span>**"
   ]
  },
  {
   "cell_type": "code",
   "execution_count": 15,
   "metadata": {},
   "outputs": [],
   "source": [
    "# CALL FUNCTION"
   ]
  },
  {
   "cell_type": "code",
   "execution_count": 16,
   "metadata": {},
   "outputs": [],
   "source": [
    "# SHOW RESULTS"
   ]
  },
  {
   "cell_type": "markdown",
   "metadata": {},
   "source": [
    "# Working with AREA"
   ]
  },
  {
   "cell_type": "code",
   "execution_count": 17,
   "metadata": {},
   "outputs": [],
   "source": [
    "area = firedata.area"
   ]
  },
  {
   "cell_type": "code",
   "execution_count": 19,
   "metadata": {},
   "outputs": [
    {
     "data": {
      "text/plain": [
       "array([ 0.  ,  0.  ,  2.17,  0.43,  0.  ,  6.44, 54.29, 11.16,  0.  ,\n",
       "        0.  ])"
      ]
     },
     "execution_count": 19,
     "metadata": {},
     "output_type": "execute_result"
    }
   ],
   "source": [
    "area[-10:]"
   ]
  },
  {
   "cell_type": "markdown",
   "metadata": {},
   "source": [
    "## Q3\n",
    "**<span style=\"color:blue\">(1 PT) 3. Write code to print the minimum area and maximum area in a tuple\n",
    "(min_value, max_value) where the min_value, max_value are floats.</span>** "
   ]
  },
  {
   "cell_type": "code",
   "execution_count": 20,
   "metadata": {},
   "outputs": [],
   "source": [
    "# CODE"
   ]
  },
  {
   "cell_type": "markdown",
   "metadata": {},
   "source": [
    "## Q4\n",
    "**<span style=\"color:blue\">(2 PTS) 4. Write a lambda function that applies the following function to $x$:</span>**   \n",
    "\n",
    "$log_{10}(1 + x)$\n",
    "\n",
    "Assign the function to the variable `mylog10`.\n",
    "\n",
    "**<span style=\"color:blue\">Then call the lambda function on `area` and print the LAST 10 values.</span>**  \n",
    "\n",
    "Hints: \n",
    "* Use the `log10` function from Python's [`math` module](https://docs.python.org/3/library/math.html). You'll need to import it.\n",
    "* Use a list comprehension to make the lambda function a one-liner.\n",
    "* To get the last members of a list, used negative offset slicing. See [the Python documentation on lists](https://docs.python.org/3/tutorial/introduction.html#lists) for a refresher on slicing."
   ]
  },
  {
   "cell_type": "code",
   "execution_count": 24,
   "metadata": {},
   "outputs": [],
   "source": [
    "# FUNCTION"
   ]
  },
  {
   "cell_type": "code",
   "execution_count": 25,
   "metadata": {},
   "outputs": [],
   "source": [
    "# RESULT"
   ]
  },
  {
   "cell_type": "markdown",
   "metadata": {},
   "source": [
    "# Working with MONTH\n",
    "\n",
    "The month column contains months of the year in abbreviated form &mdash; 'jan' to 'dec'."
   ]
  },
  {
   "cell_type": "code",
   "execution_count": 32,
   "metadata": {},
   "outputs": [],
   "source": [
    "month = firedata.month"
   ]
  },
  {
   "cell_type": "code",
   "execution_count": 33,
   "metadata": {},
   "outputs": [
    {
     "data": {
      "text/plain": [
       "array(['mar', 'oct', 'oct', 'mar', 'mar', 'aug', 'aug', 'aug', 'sep',\n",
       "       'sep'], dtype=object)"
      ]
     },
     "execution_count": 33,
     "metadata": {},
     "output_type": "execute_result"
    }
   ],
   "source": [
    "month[:10]"
   ]
  },
  {
   "cell_type": "markdown",
   "metadata": {},
   "source": [
    "## Q5\n",
    "**<span style=\"color:blue\">(1 PT) 5. Create a function called `unique()` that extracts the unique values from a list. Then function should optionally return the list as sorted in ascending order. The apply it to the *month* column of our data with sorting turned on. Then print the unique months.</span>**   "
   ]
  },
  {
   "cell_type": "code",
   "execution_count": 16,
   "metadata": {},
   "outputs": [],
   "source": [
    "# WRITE FUNCTIONS"
   ]
  },
  {
   "cell_type": "code",
   "execution_count": 17,
   "metadata": {},
   "outputs": [],
   "source": [
    "# CALL FUNCTION"
   ]
  },
  {
   "cell_type": "code",
   "execution_count": 26,
   "metadata": {},
   "outputs": [],
   "source": [
    "# PRINT RESULTS"
   ]
  },
  {
   "cell_type": "markdown",
   "metadata": {},
   "source": [
    "## Q6\n",
    "**<span style=\"color:blue\">(1 PT) 6. Write a list comprehension to select all months starting with letter 'a' from the list of unique *month* names you just crreated. The list should contain uppercase strings. Print this result.</span>**   "
   ]
  },
  {
   "cell_type": "code",
   "execution_count": 27,
   "metadata": {},
   "outputs": [],
   "source": [
    "# WRITE CODE"
   ]
  },
  {
   "cell_type": "markdown",
   "metadata": {},
   "source": [
    "# Working with DMC\n",
    "DMC - DMC index from the FWI system: 1.1 to 291.3  "
   ]
  },
  {
   "cell_type": "code",
   "execution_count": 29,
   "metadata": {},
   "outputs": [],
   "source": [
    "dmc = firedata.DMC"
   ]
  },
  {
   "cell_type": "code",
   "execution_count": 30,
   "metadata": {},
   "outputs": [
    {
     "data": {
      "text/plain": [
       "array([ 26.2,  35.4,  43.7,  33.3,  51.3,  85.3,  88.9, 145.4, 129.5,\n",
       "        88. ])"
      ]
     },
     "execution_count": 30,
     "metadata": {},
     "output_type": "execute_result"
    }
   ],
   "source": [
    "dmc[:10]"
   ]
  },
  {
   "cell_type": "markdown",
   "metadata": {},
   "source": [
    "## Q7\n",
    "**<span style=\"color:blue\">(2 PTS) 7. Write a function called `bandpass_filter()` with these requirements:</span>**\n",
    "\n",
    "- Takes three inputs: \n",
    "  - A numeric array (or list).\n",
    "  - An integer serving as a lower bound `lower_bound`.\n",
    "  - An integer serving as an upper bound `upper_bound`.\n",
    "- Returns a new array containing only the values from the original array which are greater than `lower_bound` and less than `upper_bound`."
   ]
  },
  {
   "cell_type": "code",
   "execution_count": 34,
   "metadata": {},
   "outputs": [],
   "source": [
    "# WRITE FUNCTION"
   ]
  },
  {
   "cell_type": "markdown",
   "metadata": {},
   "source": [
    "## Q8\n",
    "**<span style=\"color:blue\">(1 PT) 8. Call `bandpass_filter()` passing `dmc` as the array, with `lower_bound=25` and `upper_bound=35`. Then print the result. </span>**\n"
   ]
  },
  {
   "cell_type": "code",
   "execution_count": 35,
   "metadata": {},
   "outputs": [],
   "source": [
    "# CALL FUNCTION"
   ]
  },
  {
   "cell_type": "code",
   "execution_count": 44,
   "metadata": {},
   "outputs": [],
   "source": [
    "# PRINT RESULT"
   ]
  },
  {
   "cell_type": "markdown",
   "metadata": {},
   "source": [
    "# Working with FFMC\n",
    "FFMC - FFMC index from the FWI system: 18.7 to 96.20"
   ]
  },
  {
   "cell_type": "code",
   "execution_count": 37,
   "metadata": {},
   "outputs": [],
   "source": [
    "ffmc = firedata.FFMC"
   ]
  },
  {
   "cell_type": "code",
   "execution_count": 38,
   "metadata": {},
   "outputs": [
    {
     "data": {
      "text/plain": [
       "array([86.2, 90.6, 90.6, 91.7, 89.3, 92.3, 92.3, 91.5, 91. , 92.5])"
      ]
     },
     "execution_count": 38,
     "metadata": {},
     "output_type": "execute_result"
    }
   ],
   "source": [
    "ffmc[:10]"
   ]
  },
  {
   "cell_type": "markdown",
   "metadata": {},
   "source": [
    "## Q9\n",
    "**<span style=\"color:blue\">(2 PTS) 9. Write a function called `sum_sq_err()` with these requirements:</span>**\n",
    "\n",
    "- Takes a numeric list as input.\n",
    "- Computes the mean $\\mu$ of the list. \n",
    "- Computes the sum of squared deviations for each item in the list.\n",
    "- Returns the sum of squared deviations.\n",
    "\n",
    "To implement this in your function, use these techniques:\n",
    "- Write a subfunction to compute squared deviation of a list item.\n",
    "- Apply that function in a for-loop.\n",
    "\n",
    "Hints: \n",
    "* The mean is jus the sum of a list of numeric values divided by the length of that list.\n",
    "* The squared deviation of a list element $x_i$ is $(x_i - \\mu)^2$.\n",
    "* it will be necessary to keep a running sum of the squared deviations."
   ]
  },
  {
   "cell_type": "code",
   "execution_count": 40,
   "metadata": {},
   "outputs": [],
   "source": [
    "# WRITE FUNCTION"
   ]
  },
  {
   "cell_type": "markdown",
   "metadata": {},
   "source": [
    "## Q10\n",
    "**<span style=\"color:blue\">(1 PT) 10. Call `sum_sq_err()` passing `ffmc` as the array, printing the result. </span>**"
   ]
  },
  {
   "cell_type": "code",
   "execution_count": 41,
   "metadata": {},
   "outputs": [],
   "source": [
    "# CALL FUNCTION"
   ]
  },
  {
   "cell_type": "markdown",
   "metadata": {},
   "source": [
    "---  "
   ]
  },
  {
   "cell_type": "markdown",
   "metadata": {},
   "source": [
    "# END\n",
    "\n",
    "Push this to your private repo and then link to it in HW04 in Assessments on Collab."
   ]
  }
 ],
 "metadata": {
  "kernelspec": {
   "display_name": "Python 3 (ipykernel)",
   "language": "python",
   "name": "python3"
  },
  "language_info": {
   "codemirror_mode": {
    "name": "ipython",
    "version": 3
   },
   "file_extension": ".py",
   "mimetype": "text/x-python",
   "name": "python",
   "nbconvert_exporter": "python",
   "pygments_lexer": "ipython3",
   "version": "3.8.3"
  },
  "widgets": {
   "application/vnd.jupyter.widget-state+json": {
    "state": {},
    "version_major": 2,
    "version_minor": 0
   }
  }
 },
 "nbformat": 4,
 "nbformat_minor": 4
}

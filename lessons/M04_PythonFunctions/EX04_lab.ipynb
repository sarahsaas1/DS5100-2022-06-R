{
 "cells": [
  {
   "cell_type": "markdown",
   "id": "7175afb8",
   "metadata": {},
   "source": [
    "### Problem 1"
   ]
  },
  {
   "cell_type": "code",
   "execution_count": 8,
   "id": "1a3007d6",
   "metadata": {},
   "outputs": [],
   "source": [
    "def verify_string_length(text, val) :\n",
    "    boo = False\n",
    "    if len(text)==val:\n",
    "        boo = True\n",
    "    return boo"
   ]
  },
  {
   "cell_type": "code",
   "execution_count": 13,
   "id": "429bc1f9",
   "metadata": {},
   "outputs": [
    {
     "name": "stdout",
     "output_type": "stream",
     "text": [
      "True\n"
     ]
    }
   ],
   "source": [
    "print(verify_string_length('is this text the right length?',30))"
   ]
  },
  {
   "cell_type": "markdown",
   "id": "15c3d90e",
   "metadata": {},
   "source": [
    "### Problem 2"
   ]
  },
  {
   "cell_type": "code",
   "execution_count": 19,
   "id": "2a1b068f",
   "metadata": {},
   "outputs": [],
   "source": [
    "def square_values(*args):\n",
    "    for i in args:\n",
    "        print(i**2)\n",
    "    return None"
   ]
  },
  {
   "cell_type": "code",
   "execution_count": 20,
   "id": "edf6b8b5",
   "metadata": {},
   "outputs": [
    {
     "name": "stdout",
     "output_type": "stream",
     "text": [
      "16\n",
      "25\n",
      "49\n",
      "4\n"
     ]
    }
   ],
   "source": [
    "square_values(4, 5, 7, 2)"
   ]
  },
  {
   "cell_type": "markdown",
   "id": "ab94d57f",
   "metadata": {},
   "source": [
    "### Problem 3"
   ]
  },
  {
   "cell_type": "code",
   "execution_count": 69,
   "id": "bdf966c0",
   "metadata": {},
   "outputs": [
    {
     "data": {
      "text/plain": [
       "'o'"
      ]
     },
     "execution_count": 69,
     "metadata": {},
     "output_type": "execute_result"
    }
   ],
   "source": [
    "var = 'hello'\n",
    "var[-1]"
   ]
  },
  {
   "cell_type": "code",
   "execution_count": 80,
   "id": "d590d55f",
   "metadata": {},
   "outputs": [],
   "source": [
    "def word_shortener(var, min_len = 5):\n",
    "    if not isinstance(var, type(str)):\n",
    "        print('The variable is not of type string')\n",
    "        return None\n",
    "    elif len(var) < min_len:\n",
    "        print(var + ' is a short word.')\n",
    "        return None\n",
    "    else:\n",
    "        return f\"{var[0].upper()}{len(var[1:-2])}{var[-1].upper()}\""
   ]
  },
  {
   "cell_type": "code",
   "execution_count": 83,
   "id": "65690146",
   "metadata": {},
   "outputs": [
    {
     "data": {
      "text/plain": [
       "'I17N'"
      ]
     },
     "execution_count": 83,
     "metadata": {},
     "output_type": "execute_result"
    }
   ],
   "source": [
    "word_shortener('internationalization')"
   ]
  },
  {
   "cell_type": "markdown",
   "id": "1ba6c03f",
   "metadata": {},
   "source": [
    "### Problem 4"
   ]
  },
  {
   "cell_type": "code",
   "execution_count": 88,
   "id": "279f9434",
   "metadata": {},
   "outputs": [
    {
     "ename": "NameError",
     "evalue": "name 'num' is not defined",
     "output_type": "error",
     "traceback": [
      "\u001b[0;31m---------------------------------------------------------------------------\u001b[0m",
      "\u001b[0;31mNameError\u001b[0m                                 Traceback (most recent call last)",
      "\u001b[0;32m<ipython-input-88-64c71a5744fb>\u001b[0m in \u001b[0;36m<module>\u001b[0;34m\u001b[0m\n\u001b[1;32m      2\u001b[0m     \u001b[0mnum\u001b[0m \u001b[0;34m=\u001b[0m \u001b[0;36m8\u001b[0m\u001b[0;34m\u001b[0m\u001b[0;34m\u001b[0m\u001b[0m\n\u001b[1;32m      3\u001b[0m     \u001b[0mprint\u001b[0m\u001b[0;34m(\u001b[0m\u001b[0mnum\u001b[0m\u001b[0;34m)\u001b[0m\u001b[0;34m\u001b[0m\u001b[0;34m\u001b[0m\u001b[0m\n\u001b[0;32m----> 4\u001b[0;31m \u001b[0mprint\u001b[0m\u001b[0;34m(\u001b[0m\u001b[0mnum\u001b[0m\u001b[0;34m)\u001b[0m\u001b[0;34m\u001b[0m\u001b[0;34m\u001b[0m\u001b[0m\n\u001b[0m",
      "\u001b[0;31mNameError\u001b[0m: name 'num' is not defined"
     ]
    }
   ],
   "source": [
    "def printer():\n",
    "    num = 8\n",
    "    print(num)\n",
    "print(num)"
   ]
  },
  {
   "cell_type": "markdown",
   "id": "5f2947f7",
   "metadata": {},
   "source": [
    "## Problem 5"
   ]
  },
  {
   "cell_type": "code",
   "execution_count": 93,
   "id": "3bf83bee",
   "metadata": {
    "scrolled": true
   },
   "outputs": [],
   "source": [
    "in_range = lambda x: x>=10 and x<=20"
   ]
  },
  {
   "cell_type": "code",
   "execution_count": 94,
   "id": "05449904",
   "metadata": {},
   "outputs": [
    {
     "data": {
      "text/plain": [
       "False"
      ]
     },
     "execution_count": 94,
     "metadata": {},
     "output_type": "execute_result"
    }
   ],
   "source": [
    "in_range(9)"
   ]
  },
  {
   "cell_type": "code",
   "execution_count": 95,
   "id": "c83d24fa",
   "metadata": {},
   "outputs": [
    {
     "data": {
      "text/plain": [
       "True"
      ]
     },
     "execution_count": 95,
     "metadata": {},
     "output_type": "execute_result"
    }
   ],
   "source": [
    "in_range(20)"
   ]
  },
  {
   "cell_type": "markdown",
   "id": "2e66d1d6",
   "metadata": {},
   "source": [
    "## Problem 9"
   ]
  },
  {
   "cell_type": "code",
   "execution_count": 124,
   "id": "7b17df8c",
   "metadata": {},
   "outputs": [],
   "source": [
    "c2f = lambda x: (x * 9/5) + 32\n",
    "f2c = lambda x: (x - 32) * 5/9 \n",
    "dictionary = {'f': f2c, 'c': c2f}\n",
    "t2t = lambda x, y: round(dictionary[y](x))"
   ]
  },
  {
   "cell_type": "code",
   "execution_count": 127,
   "id": "63f86fe8",
   "metadata": {},
   "outputs": [
    {
     "data": {
      "text/plain": [
       "81"
      ]
     },
     "execution_count": 127,
     "metadata": {},
     "output_type": "execute_result"
    }
   ],
   "source": [
    "t2t(27, 'c')"
   ]
  },
  {
   "cell_type": "code",
   "execution_count": 126,
   "id": "5c65397e",
   "metadata": {},
   "outputs": [
    {
     "data": {
      "text/plain": [
       "27"
      ]
     },
     "execution_count": 126,
     "metadata": {},
     "output_type": "execute_result"
    }
   ],
   "source": [
    "t2t(80, 'f')"
   ]
  }
 ],
 "metadata": {
  "kernelspec": {
   "display_name": "Python 3",
   "language": "python",
   "name": "python3"
  },
  "language_info": {
   "codemirror_mode": {
    "name": "ipython",
    "version": 3
   },
   "file_extension": ".py",
   "mimetype": "text/x-python",
   "name": "python",
   "nbconvert_exporter": "python",
   "pygments_lexer": "ipython3",
   "version": "3.8.8"
  }
 },
 "nbformat": 4,
 "nbformat_minor": 5
}

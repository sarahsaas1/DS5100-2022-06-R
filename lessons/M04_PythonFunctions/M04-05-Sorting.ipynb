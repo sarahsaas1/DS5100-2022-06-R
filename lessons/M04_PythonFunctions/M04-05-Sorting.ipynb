{
 "cells": [
  {
   "cell_type": "markdown",
   "id": "f1cd8d9e-d9a8-43fa-b049-30f9386634d0",
   "metadata": {},
   "source": [
    "# Metadata\n",
    "\n",
    "```\n",
    "Course:  DS 5100\n",
    "Module:  04 Functions\n",
    "Topic:   Sorting in Python using built-in functions\n",
    "Author:  R.C. Alvarado (adapted)\n",
    "Date:    23 June 2022\n",
    "```"
   ]
  },
  {
   "cell_type": "markdown",
   "id": "bed93199-a7f7-4175-92d6-e0d882c71f9a",
   "metadata": {},
   "source": [
    "# Sorting a Simple List"
   ]
  },
  {
   "cell_type": "code",
   "execution_count": 32,
   "id": "30c117bc-d246-429c-8428-29c57bdffe6c",
   "metadata": {},
   "outputs": [],
   "source": [
    "simpleList = [3,7,22,8,14,55,1,23,45,9]"
   ]
  },
  {
   "cell_type": "markdown",
   "id": "12cbf9dd-e3f0-4283-8388-2b9090d7a726",
   "metadata": {},
   "source": [
    "**Sorting function**"
   ]
  },
  {
   "cell_type": "code",
   "execution_count": 33,
   "id": "7bdc203b-fbce-40b4-8da7-f24660005427",
   "metadata": {},
   "outputs": [
    {
     "data": {
      "text/plain": [
       "[1, 3, 7, 8, 9, 14, 22, 23, 45, 55]"
      ]
     },
     "execution_count": 33,
     "metadata": {},
     "output_type": "execute_result"
    }
   ],
   "source": [
    "sorted(simpleList)"
   ]
  },
  {
   "cell_type": "markdown",
   "id": "f3059563-92a0-43ea-82c3-08285f086eff",
   "metadata": {},
   "source": [
    "**In-place sorting method**"
   ]
  },
  {
   "cell_type": "code",
   "execution_count": 34,
   "id": "93432fd8-9efe-4dbb-8662-a3a81dc50c30",
   "metadata": {},
   "outputs": [],
   "source": [
    "simpleList.sort()"
   ]
  },
  {
   "cell_type": "code",
   "execution_count": 35,
   "id": "bafdb77b-46ce-4e31-ae74-e8ddd736363a",
   "metadata": {},
   "outputs": [
    {
     "data": {
      "text/plain": [
       "[1, 3, 7, 8, 9, 14, 22, 23, 45, 55]"
      ]
     },
     "execution_count": 35,
     "metadata": {},
     "output_type": "execute_result"
    }
   ],
   "source": [
    "simpleList"
   ]
  },
  {
   "cell_type": "markdown",
   "id": "18565160-1850-43de-8146-3cfdfc25904a",
   "metadata": {},
   "source": [
    "**Sorting in descending order**"
   ]
  },
  {
   "cell_type": "code",
   "execution_count": 36,
   "id": "377efb1d-be12-425a-9f4e-87ae3047aa60",
   "metadata": {},
   "outputs": [
    {
     "data": {
      "text/plain": [
       "[55, 45, 23, 22, 14, 9, 8, 7, 3, 1]"
      ]
     },
     "execution_count": 36,
     "metadata": {},
     "output_type": "execute_result"
    }
   ],
   "source": [
    "sorted(simpleList, reverse=True)"
   ]
  },
  {
   "cell_type": "code",
   "execution_count": 37,
   "id": "385b4c66-3623-49db-9d27-e14bb422a82e",
   "metadata": {},
   "outputs": [],
   "source": [
    "simpleList.sort(reverse=True)"
   ]
  },
  {
   "cell_type": "code",
   "execution_count": 38,
   "id": "6613c20e-116c-4859-949c-9b97aea21c73",
   "metadata": {},
   "outputs": [
    {
     "data": {
      "text/plain": [
       "[55, 45, 23, 22, 14, 9, 8, 7, 3, 1]"
      ]
     },
     "execution_count": 38,
     "metadata": {},
     "output_type": "execute_result"
    }
   ],
   "source": [
    "simpleList"
   ]
  },
  {
   "cell_type": "markdown",
   "id": "44e9afd7-3805-4c6a-a633-7e6db6afdc4b",
   "metadata": {},
   "source": [
    "# Sorting a Simple Tuple\n",
    "\n",
    "Important note: Tuples must always use the \"sorted\" function to return a sorted *list*.\n",
    "\n",
    "You cannot modify tuples, so there isn't an in-place sort function."
   ]
  },
  {
   "cell_type": "code",
   "execution_count": 39,
   "id": "66044e46-5eaa-4ada-96fb-407ada98eb30",
   "metadata": {},
   "outputs": [],
   "source": [
    "simpleTup = (2,6,9,22,1,45,16,34)"
   ]
  },
  {
   "cell_type": "code",
   "execution_count": 40,
   "id": "d7504bf5-2d65-4ffa-81f5-77bfddc1b54f",
   "metadata": {},
   "outputs": [
    {
     "data": {
      "text/plain": [
       "[1, 2, 6, 9, 16, 22, 34, 45]"
      ]
     },
     "execution_count": 40,
     "metadata": {},
     "output_type": "execute_result"
    }
   ],
   "source": [
    "sorted(simpleTup)"
   ]
  },
  {
   "cell_type": "markdown",
   "id": "39657975-d9b0-49d6-8f7c-06b3761fe65d",
   "metadata": {},
   "source": [
    "# Sorting a List of Tuples or Lists of Lists\n",
    "\n",
    "The sorted function takes in a keyword argument called \"key\".\n",
    "\n",
    "Key provides a way to specify a function and returns what you would like\n",
    "your items sorted by."
   ]
  },
  {
   "cell_type": "code",
   "execution_count": 46,
   "id": "db07b7b6-6b3b-426e-b4df-329b45ed77dd",
   "metadata": {},
   "outputs": [],
   "source": [
    "q = \"Are you suggesting coconuts migrate\" # Fun quote from Monty Python"
   ]
  },
  {
   "cell_type": "code",
   "execution_count": 47,
   "id": "dac651a5-5818-4a97-9c80-6f819f690b11",
   "metadata": {},
   "outputs": [
    {
     "data": {
      "text/plain": [
       "'Are you suggesting coconuts migrate'"
      ]
     },
     "execution_count": 47,
     "metadata": {},
     "output_type": "execute_result"
    }
   ],
   "source": [
    "q"
   ]
  },
  {
   "cell_type": "code",
   "execution_count": 44,
   "id": "96c3c3e9-ac7c-44ae-a3b6-ce9c8d25ad57",
   "metadata": {},
   "outputs": [],
   "source": [
    "wlen = [(word, len(word)) for word in q.split()]"
   ]
  },
  {
   "cell_type": "code",
   "execution_count": 45,
   "id": "e690b10d-640f-4de0-8dc0-180b5a45472a",
   "metadata": {},
   "outputs": [
    {
     "data": {
      "text/plain": [
       "[('Are', 3), ('you', 3), ('suggesting', 10), ('coconuts', 8), ('migrate', 7)]"
      ]
     },
     "execution_count": 45,
     "metadata": {},
     "output_type": "execute_result"
    }
   ],
   "source": [
    "wlen"
   ]
  },
  {
   "cell_type": "code",
   "execution_count": 49,
   "id": "60c21ce9-03cf-4e7d-a4b6-c17f7c53dbad",
   "metadata": {},
   "outputs": [],
   "source": [
    "wlen_sorted = sorted(wlen, key=lambda wlen: wlen[1]) # sort by length"
   ]
  },
  {
   "cell_type": "code",
   "execution_count": 50,
   "id": "50402ac5-daed-4554-9ba4-4345200170b7",
   "metadata": {},
   "outputs": [
    {
     "data": {
      "text/plain": [
       "[('Are', 3), ('you', 3), ('migrate', 7), ('coconuts', 8), ('suggesting', 10)]"
      ]
     },
     "execution_count": 50,
     "metadata": {},
     "output_type": "execute_result"
    }
   ],
   "source": [
    "wlen_sorted"
   ]
  },
  {
   "cell_type": "markdown",
   "id": "09bec378-8872-44fa-895b-b89416a5c2cb",
   "metadata": {},
   "source": [
    "# Sorting List of Lists"
   ]
  },
  {
   "cell_type": "code",
   "execution_count": 52,
   "id": "809d4609-731a-4f87-b0f6-6a4180acb214",
   "metadata": {},
   "outputs": [],
   "source": [
    "lst = [[2, 3], [6, 7], [7, 14], [25, 15], [35, 8], [1, 44]]"
   ]
  },
  {
   "cell_type": "code",
   "execution_count": 59,
   "id": "ed345f60-61c0-42b5-a8c2-95908e74832d",
   "metadata": {},
   "outputs": [
    {
     "data": {
      "text/plain": [
       "[[2, 3], [6, 7], [7, 14], [25, 15], [35, 8], [1, 44]]"
      ]
     },
     "execution_count": 59,
     "metadata": {},
     "output_type": "execute_result"
    }
   ],
   "source": [
    "lst"
   ]
  },
  {
   "cell_type": "markdown",
   "id": "8cb57406-f7c9-46b4-a980-839902f27e60",
   "metadata": {},
   "source": [
    "Note below how the `key` paramater implicitly passes the element to the lambda function."
   ]
  },
  {
   "cell_type": "code",
   "execution_count": 67,
   "id": "8de3c597-f8b6-419d-8178-645601d7da51",
   "metadata": {},
   "outputs": [],
   "source": [
    "sortedLst = sorted(lst, key=lambda x: x[0]) # sort by the FIRST item in the sub-list"
   ]
  },
  {
   "cell_type": "code",
   "execution_count": 68,
   "id": "3667389c-83c4-4f75-9bc0-c6058a16a653",
   "metadata": {},
   "outputs": [
    {
     "data": {
      "text/plain": [
       "[[1, 44], [2, 3], [6, 7], [7, 14], [25, 15], [35, 8]]"
      ]
     },
     "execution_count": 68,
     "metadata": {},
     "output_type": "execute_result"
    }
   ],
   "source": [
    "sortedLst"
   ]
  },
  {
   "cell_type": "markdown",
   "id": "b0e33e55-4b4a-4f73-b538-53c0ea9a6e88",
   "metadata": {},
   "source": [
    "Sorting by the SECOND item in each sub-list is a simple matter of\n",
    "changing what the function returns, as follows:"
   ]
  },
  {
   "cell_type": "code",
   "execution_count": 64,
   "id": "374828de-7849-480b-8506-5d0af83b19ec",
   "metadata": {},
   "outputs": [],
   "source": [
    "lst = [[2, 3], [6, 7], [7, 14], [25, 15], [35, 8], [1, 44]]"
   ]
  },
  {
   "cell_type": "code",
   "execution_count": 69,
   "id": "99e140c5-2104-46a5-a5f8-ad348066b6c2",
   "metadata": {},
   "outputs": [],
   "source": [
    "sortedLst2 = sorted(lst, key=lambda x: x[1]) # sort by the SECOND item in the sub-list"
   ]
  },
  {
   "cell_type": "code",
   "execution_count": 70,
   "id": "0debb09f-b03e-4d61-8586-c271735c61a9",
   "metadata": {},
   "outputs": [
    {
     "data": {
      "text/plain": [
       "[[2, 3], [6, 7], [35, 8], [7, 14], [25, 15], [1, 44]]"
      ]
     },
     "execution_count": 70,
     "metadata": {},
     "output_type": "execute_result"
    }
   ],
   "source": [
    "sortedLst2"
   ]
  }
 ],
 "metadata": {
  "kernelspec": {
   "display_name": "Python 3 (ipykernel)",
   "language": "python",
   "name": "python3"
  },
  "language_info": {
   "codemirror_mode": {
    "name": "ipython",
    "version": 3
   },
   "file_extension": ".py",
   "mimetype": "text/x-python",
   "name": "python",
   "nbconvert_exporter": "python",
   "pygments_lexer": "ipython3",
   "version": "3.8.3"
  },
  "widgets": {
   "application/vnd.jupyter.widget-state+json": {
    "state": {},
    "version_major": 2,
    "version_minor": 0
   }
  }
 },
 "nbformat": 4,
 "nbformat_minor": 5
}

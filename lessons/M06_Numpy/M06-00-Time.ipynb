{
 "cells": [
  {
   "cell_type": "markdown",
   "metadata": {},
   "source": [
    "# Metadata\n",
    "\n",
    "```\n",
    "Course:   DS 5100\n",
    "Module:   06 NumPy\n",
    "Topic:    Python Timing Experiment\n",
    "Author:   R.C. Alvarado (adapted)\n",
    "Date:     26 June 2022\n",
    "```"
   ]
  },
  {
   "cell_type": "markdown",
   "metadata": {},
   "source": [
    "One way to get the runtime of a code block is to use the `time` module."
   ]
  },
  {
   "cell_type": "markdown",
   "metadata": {},
   "source": [
    "# Using `time`"
   ]
  },
  {
   "cell_type": "code",
   "execution_count": 1,
   "metadata": {},
   "outputs": [],
   "source": [
    "import time"
   ]
  },
  {
   "cell_type": "code",
   "execution_count": 5,
   "metadata": {
    "tags": []
   },
   "outputs": [
    {
     "name": "stdout",
     "output_type": "stream",
     "text": [
      "0\n",
      "1\n",
      "2\n",
      "3\n",
      "4\n",
      "5\n",
      "6\n",
      "7\n",
      "8\n",
      "9\n",
      "runtime: 0.0010259151458740234\n"
     ]
    }
   ],
   "source": [
    "t0 = time.time()\n",
    "\n",
    "for i in range(10):\n",
    "    print(i)\n",
    "\n",
    "t1 = time.time()\n",
    "t_delta = t1 - t0\n",
    "print('runtime:', t_delta)"
   ]
  },
  {
   "cell_type": "markdown",
   "metadata": {},
   "source": [
    "Examine the first 10 values and last 10 values of the list, to verify things look correct"
   ]
  },
  {
   "cell_type": "markdown",
   "metadata": {},
   "source": [
    "# Using `timeit`"
   ]
  },
  {
   "cell_type": "markdown",
   "metadata": {},
   "source": [
    "To get a better measure of runtime, we can use `timeit`, which measures timing across many runs.\n",
    "\n",
    "Note that `timeit()` will return the runtime across ALL runs. To get the mean runtime, you need to divide by the number of runs.\n",
    "\n",
    "`timeit()` works by evaluating code blocks written as strings."
   ]
  },
  {
   "cell_type": "code",
   "execution_count": 8,
   "metadata": {},
   "outputs": [],
   "source": [
    "import timeit \n",
    "  \n",
    "NUM_RUNS = 100"
   ]
  },
  {
   "cell_type": "markdown",
   "metadata": {},
   "source": [
    "Define code blocks to compare."
   ]
  },
  {
   "cell_type": "code",
   "execution_count": 8,
   "metadata": {},
   "outputs": [],
   "source": [
    "loop_code = ''' \n",
    "vals = []\n",
    "for i in range(1, 100001):\n",
    "    if i % 2 == 1:\n",
    "        i *= -1\n",
    "    vals.append(i)\n",
    "'''\n",
    "\n",
    "listcomp_code = ''' \n",
    "vals = [i*-1 if i % 2 == 1 else i for i in range(1,100001)]\n",
    "'''"
   ]
  },
  {
   "cell_type": "markdown",
   "metadata": {},
   "source": [
    "Pass code block strings to timeit functions."
   ]
  },
  {
   "cell_type": "code",
   "execution_count": 8,
   "metadata": {},
   "outputs": [],
   "source": [
    "loop_mean_time = timeit.timeit(stmt = loop_code,\n",
    "                          number = NUM_RUNS) / NUM_RUNS\n",
    "\n",
    "listcomp_mean_time = timeit.timeit(stmt = listcomp_code,\n",
    "                          number = NUM_RUNS) / NUM_RUNS"
   ]
  },
  {
   "cell_type": "markdown",
   "metadata": {},
   "source": [
    "Print the results"
   ]
  },
  {
   "cell_type": "code",
   "execution_count": 10,
   "metadata": {},
   "outputs": [
    {
     "name": "stdout",
     "output_type": "stream",
     "text": [
      "loop_mean_time: 0.011235891090000222\n",
      "listcomp_mean_time: 0.008382929239999726\n",
      "ratio listcomp_mean_time/loop_mean_time: 0.7460849498141193\n"
     ]
    }
   ],
   "source": [
    "print('loop_mean_time:', loop_mean_time)\n",
    "print('listcomp_mean_time:', listcomp_mean_time)\n",
    "print('ratio listcomp_mean_time/loop_mean_time:', listcomp_mean_time/loop_mean_time)"
   ]
  },
  {
   "cell_type": "markdown",
   "metadata": {},
   "source": [
    "# Using Magic \n",
    "\n",
    "Instead of calling `time` and `timeit` directly, we can use the  so-called magic commands.\n",
    "\n",
    "Placing `%%timeit` at the top of a cell will compute and print how much time it takes for the code in the cell to execute. \n",
    "\n",
    "Placing `%time` as the first item on a line of code will do the same that line.\n",
    "\n",
    "Magic commands can be used in Jupyter notebooks and other IPython environments. For more info about magic commands and IPython (which Jupyter notebooks use), see Chapter 3 in Wes McKinney's [_Python for Data Analysis_](https://learning.oreilly.com/library/view/python-for-data/9781449323592/ch03.html)."
   ]
  },
  {
   "cell_type": "code",
   "execution_count": 16,
   "metadata": {},
   "outputs": [
    {
     "name": "stdout",
     "output_type": "stream",
     "text": [
      "11.1 ms ± 753 µs per loop (mean ± std. dev. of 7 runs, 100 loops each)\n"
     ]
    }
   ],
   "source": [
    "%%timeit \n",
    "vals = []\n",
    "for i in range(1, 100001):\n",
    "    if i % 2 == 1:\n",
    "        i *= -1\n",
    "    vals.append(i)"
   ]
  },
  {
   "cell_type": "code",
   "execution_count": 22,
   "metadata": {},
   "outputs": [
    {
     "name": "stdout",
     "output_type": "stream",
     "text": [
      "7.95 ms ± 182 µs per loop (mean ± std. dev. of 7 runs, 100 loops each)\n"
     ]
    }
   ],
   "source": [
    "%%timeit \n",
    "vals = [i*-1 if i % 2 == 1 else i for i in range(1,100001)]"
   ]
  },
  {
   "cell_type": "code",
   "execution_count": 21,
   "metadata": {},
   "outputs": [
    {
     "name": "stdout",
     "output_type": "stream",
     "text": [
      "CPU times: user 10.8 ms, sys: 400 µs, total: 11.2 ms\n",
      "Wall time: 11.2 ms\n"
     ]
    }
   ],
   "source": [
    "%time vals = [i*-1 if i % 2 == 1 else i for i in range(1,100001)] "
   ]
  },
  {
   "cell_type": "code",
   "execution_count": null,
   "metadata": {},
   "outputs": [],
   "source": []
  }
 ],
 "metadata": {
  "kernelspec": {
   "display_name": "Python 3 (ipykernel)",
   "language": "python",
   "name": "python3"
  },
  "language_info": {
   "codemirror_mode": {
    "name": "ipython",
    "version": 3
   },
   "file_extension": ".py",
   "mimetype": "text/x-python",
   "name": "python",
   "nbconvert_exporter": "python",
   "pygments_lexer": "ipython3",
   "version": "3.8.3"
  },
  "widgets": {
   "application/vnd.jupyter.widget-state+json": {
    "state": {},
    "version_major": 2,
    "version_minor": 0
   }
  }
 },
 "nbformat": 4,
 "nbformat_minor": 4
}

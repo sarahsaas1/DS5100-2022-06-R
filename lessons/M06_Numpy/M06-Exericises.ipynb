{
 "cells": [
  {
   "cell_type": "markdown",
   "id": "cc652c28-f52c-484a-a747-af0f1fc44bb4",
   "metadata": {
    "slideshow": {
     "slide_type": "slide"
    }
   },
   "source": [
    "# Module 09 \n",
    "DS 5100 | Summer 2022"
   ]
  },
  {
   "cell_type": "markdown",
   "id": "2518f88a-72d1-43aa-a370-aa58c541d237",
   "metadata": {
    "slideshow": {
     "slide_type": "slide"
    },
    "tags": []
   },
   "source": [
    "# Time"
   ]
  },
  {
   "cell_type": "markdown",
   "id": "125a5e38-6965-4210-8c46-00916b840917",
   "metadata": {
    "slideshow": {
     "slide_type": "slide"
    }
   },
   "source": [
    "# Exercise 9.1\n",
    "\n",
    "Build a list containing the integers 1 to 100,000 where all odd numbers have negative sign. \n",
    "\n",
    "Write a loop to build the list, and time it using `time()`.\n",
    "\n",
    "Print out the result time delta."
   ]
  },
  {
   "cell_type": "code",
   "execution_count": 5,
   "id": "c1d5e2ea-7239-4a6c-aad1-4cd6c3cbce7e",
   "metadata": {
    "slideshow": {
     "slide_type": "subslide"
    },
    "tags": []
   },
   "outputs": [
    {
     "name": "stdout",
     "output_type": "stream",
     "text": [
      "runtime:  0.022428035736083984\n"
     ]
    }
   ],
   "source": [
    "import time \n",
    "\n",
    "t0 = time.time()\n",
    "vals = []\n",
    "for i in range(1, 100001):\n",
    "    if i % 2 == 1:\n",
    "        i *= -1\n",
    "    vals.append(i)\n",
    "print('runtime: ', time.time() - t0)"
   ]
  },
  {
   "cell_type": "markdown",
   "id": "1072b3ae-f976-49ea-9b97-8790500371bc",
   "metadata": {
    "slideshow": {
     "slide_type": "slide"
    }
   },
   "source": [
    "# Exercise 9.2 \n",
    "\n",
    "Write a list comprehension to build the list, and time it using `time()`  \n",
    "\n",
    "Remember: While we put the `for loop` before `if statements`, it is different with `if else` statements.  \n",
    "`if else` statements precede a `for loop` in a list comprehension."
   ]
  },
  {
   "cell_type": "code",
   "execution_count": 7,
   "id": "fe31d648-0f29-4898-b69d-8e346f7f9fec",
   "metadata": {
    "slideshow": {
     "slide_type": "subslide"
    },
    "tags": []
   },
   "outputs": [
    {
     "name": "stdout",
     "output_type": "stream",
     "text": [
      "runtime:  0.010623931884765625\n"
     ]
    },
    {
     "data": {
      "text/plain": [
       "[-1,\n",
       " 2,\n",
       " -3,\n",
       " 4,\n",
       " -5,\n",
       " 6,\n",
       " -7,\n",
       " 8,\n",
       " -9,\n",
       " 10,\n",
       " -11,\n",
       " 12,\n",
       " -13,\n",
       " 14,\n",
       " -15,\n",
       " 16,\n",
       " -17,\n",
       " 18,\n",
       " -19,\n",
       " 20,\n",
       " -21,\n",
       " 22,\n",
       " -23,\n",
       " 24,\n",
       " -25,\n",
       " 26,\n",
       " -27,\n",
       " 28,\n",
       " -29,\n",
       " 30,\n",
       " -31,\n",
       " 32,\n",
       " -33,\n",
       " 34,\n",
       " -35,\n",
       " 36,\n",
       " -37,\n",
       " 38,\n",
       " -39,\n",
       " 40,\n",
       " -41,\n",
       " 42,\n",
       " -43,\n",
       " 44,\n",
       " -45,\n",
       " 46,\n",
       " -47,\n",
       " 48,\n",
       " -49,\n",
       " 50,\n",
       " -51,\n",
       " 52,\n",
       " -53,\n",
       " 54,\n",
       " -55,\n",
       " 56,\n",
       " -57,\n",
       " 58,\n",
       " -59,\n",
       " 60,\n",
       " -61,\n",
       " 62,\n",
       " -63,\n",
       " 64,\n",
       " -65,\n",
       " 66,\n",
       " -67,\n",
       " 68,\n",
       " -69,\n",
       " 70,\n",
       " -71,\n",
       " 72,\n",
       " -73,\n",
       " 74,\n",
       " -75,\n",
       " 76,\n",
       " -77,\n",
       " 78,\n",
       " -79,\n",
       " 80,\n",
       " -81,\n",
       " 82,\n",
       " -83,\n",
       " 84,\n",
       " -85,\n",
       " 86,\n",
       " -87,\n",
       " 88,\n",
       " -89,\n",
       " 90,\n",
       " -91,\n",
       " 92,\n",
       " -93,\n",
       " 94,\n",
       " -95,\n",
       " 96,\n",
       " -97,\n",
       " 98,\n",
       " -99,\n",
       " 100,\n",
       " -101,\n",
       " 102,\n",
       " -103,\n",
       " 104,\n",
       " -105,\n",
       " 106,\n",
       " -107,\n",
       " 108,\n",
       " -109,\n",
       " 110,\n",
       " -111,\n",
       " 112,\n",
       " -113,\n",
       " 114,\n",
       " -115,\n",
       " 116,\n",
       " -117,\n",
       " 118,\n",
       " -119,\n",
       " 120,\n",
       " -121,\n",
       " 122,\n",
       " -123,\n",
       " 124,\n",
       " -125,\n",
       " 126,\n",
       " -127,\n",
       " 128,\n",
       " -129,\n",
       " 130,\n",
       " -131,\n",
       " 132,\n",
       " -133,\n",
       " 134,\n",
       " -135,\n",
       " 136,\n",
       " -137,\n",
       " 138,\n",
       " -139,\n",
       " 140,\n",
       " -141,\n",
       " 142,\n",
       " -143,\n",
       " 144,\n",
       " -145,\n",
       " 146,\n",
       " -147,\n",
       " 148,\n",
       " -149,\n",
       " 150,\n",
       " -151,\n",
       " 152,\n",
       " -153,\n",
       " 154,\n",
       " -155,\n",
       " 156,\n",
       " -157,\n",
       " 158,\n",
       " -159,\n",
       " 160,\n",
       " -161,\n",
       " 162,\n",
       " -163,\n",
       " 164,\n",
       " -165,\n",
       " 166,\n",
       " -167,\n",
       " 168,\n",
       " -169,\n",
       " 170,\n",
       " -171,\n",
       " 172,\n",
       " -173,\n",
       " 174,\n",
       " -175,\n",
       " 176,\n",
       " -177,\n",
       " 178,\n",
       " -179,\n",
       " 180,\n",
       " -181,\n",
       " 182,\n",
       " -183,\n",
       " 184,\n",
       " -185,\n",
       " 186,\n",
       " -187,\n",
       " 188,\n",
       " -189,\n",
       " 190,\n",
       " -191,\n",
       " 192,\n",
       " -193,\n",
       " 194,\n",
       " -195,\n",
       " 196,\n",
       " -197,\n",
       " 198,\n",
       " -199,\n",
       " 200,\n",
       " -201,\n",
       " 202,\n",
       " -203,\n",
       " 204,\n",
       " -205,\n",
       " 206,\n",
       " -207,\n",
       " 208,\n",
       " -209,\n",
       " 210,\n",
       " -211,\n",
       " 212,\n",
       " -213,\n",
       " 214,\n",
       " -215,\n",
       " 216,\n",
       " -217,\n",
       " 218,\n",
       " -219,\n",
       " 220,\n",
       " -221,\n",
       " 222,\n",
       " -223,\n",
       " 224,\n",
       " -225,\n",
       " 226,\n",
       " -227,\n",
       " 228,\n",
       " -229,\n",
       " 230,\n",
       " -231,\n",
       " 232,\n",
       " -233,\n",
       " 234,\n",
       " -235,\n",
       " 236,\n",
       " -237,\n",
       " 238,\n",
       " -239,\n",
       " 240,\n",
       " -241,\n",
       " 242,\n",
       " -243,\n",
       " 244,\n",
       " -245,\n",
       " 246,\n",
       " -247,\n",
       " 248,\n",
       " -249,\n",
       " 250,\n",
       " -251,\n",
       " 252,\n",
       " -253,\n",
       " 254,\n",
       " -255,\n",
       " 256,\n",
       " -257,\n",
       " 258,\n",
       " -259,\n",
       " 260,\n",
       " -261,\n",
       " 262,\n",
       " -263,\n",
       " 264,\n",
       " -265,\n",
       " 266,\n",
       " -267,\n",
       " 268,\n",
       " -269,\n",
       " 270,\n",
       " -271,\n",
       " 272,\n",
       " -273,\n",
       " 274,\n",
       " -275,\n",
       " 276,\n",
       " -277,\n",
       " 278,\n",
       " -279,\n",
       " 280,\n",
       " -281,\n",
       " 282,\n",
       " -283,\n",
       " 284,\n",
       " -285,\n",
       " 286,\n",
       " -287,\n",
       " 288,\n",
       " -289,\n",
       " 290,\n",
       " -291,\n",
       " 292,\n",
       " -293,\n",
       " 294,\n",
       " -295,\n",
       " 296,\n",
       " -297,\n",
       " 298,\n",
       " -299,\n",
       " 300,\n",
       " -301,\n",
       " 302,\n",
       " -303,\n",
       " 304,\n",
       " -305,\n",
       " 306,\n",
       " -307,\n",
       " 308,\n",
       " -309,\n",
       " 310,\n",
       " -311,\n",
       " 312,\n",
       " -313,\n",
       " 314,\n",
       " -315,\n",
       " 316,\n",
       " -317,\n",
       " 318,\n",
       " -319,\n",
       " 320,\n",
       " -321,\n",
       " 322,\n",
       " -323,\n",
       " 324,\n",
       " -325,\n",
       " 326,\n",
       " -327,\n",
       " 328,\n",
       " -329,\n",
       " 330,\n",
       " -331,\n",
       " 332,\n",
       " -333,\n",
       " 334,\n",
       " -335,\n",
       " 336,\n",
       " -337,\n",
       " 338,\n",
       " -339,\n",
       " 340,\n",
       " -341,\n",
       " 342,\n",
       " -343,\n",
       " 344,\n",
       " -345,\n",
       " 346,\n",
       " -347,\n",
       " 348,\n",
       " -349,\n",
       " 350,\n",
       " -351,\n",
       " 352,\n",
       " -353,\n",
       " 354,\n",
       " -355,\n",
       " 356,\n",
       " -357,\n",
       " 358,\n",
       " -359,\n",
       " 360,\n",
       " -361,\n",
       " 362,\n",
       " -363,\n",
       " 364,\n",
       " -365,\n",
       " 366,\n",
       " -367,\n",
       " 368,\n",
       " -369,\n",
       " 370,\n",
       " -371,\n",
       " 372,\n",
       " -373,\n",
       " 374,\n",
       " -375,\n",
       " 376,\n",
       " -377,\n",
       " 378,\n",
       " -379,\n",
       " 380,\n",
       " -381,\n",
       " 382,\n",
       " -383,\n",
       " 384,\n",
       " -385,\n",
       " 386,\n",
       " -387,\n",
       " 388,\n",
       " -389,\n",
       " 390,\n",
       " -391,\n",
       " 392,\n",
       " -393,\n",
       " 394,\n",
       " -395,\n",
       " 396,\n",
       " -397,\n",
       " 398,\n",
       " -399,\n",
       " 400,\n",
       " -401,\n",
       " 402,\n",
       " -403,\n",
       " 404,\n",
       " -405,\n",
       " 406,\n",
       " -407,\n",
       " 408,\n",
       " -409,\n",
       " 410,\n",
       " -411,\n",
       " 412,\n",
       " -413,\n",
       " 414,\n",
       " -415,\n",
       " 416,\n",
       " -417,\n",
       " 418,\n",
       " -419,\n",
       " 420,\n",
       " -421,\n",
       " 422,\n",
       " -423,\n",
       " 424,\n",
       " -425,\n",
       " 426,\n",
       " -427,\n",
       " 428,\n",
       " -429,\n",
       " 430,\n",
       " -431,\n",
       " 432,\n",
       " -433,\n",
       " 434,\n",
       " -435,\n",
       " 436,\n",
       " -437,\n",
       " 438,\n",
       " -439,\n",
       " 440,\n",
       " -441,\n",
       " 442,\n",
       " -443,\n",
       " 444,\n",
       " -445,\n",
       " 446,\n",
       " -447,\n",
       " 448,\n",
       " -449,\n",
       " 450,\n",
       " -451,\n",
       " 452,\n",
       " -453,\n",
       " 454,\n",
       " -455,\n",
       " 456,\n",
       " -457,\n",
       " 458,\n",
       " -459,\n",
       " 460,\n",
       " -461,\n",
       " 462,\n",
       " -463,\n",
       " 464,\n",
       " -465,\n",
       " 466,\n",
       " -467,\n",
       " 468,\n",
       " -469,\n",
       " 470,\n",
       " -471,\n",
       " 472,\n",
       " -473,\n",
       " 474,\n",
       " -475,\n",
       " 476,\n",
       " -477,\n",
       " 478,\n",
       " -479,\n",
       " 480,\n",
       " -481,\n",
       " 482,\n",
       " -483,\n",
       " 484,\n",
       " -485,\n",
       " 486,\n",
       " -487,\n",
       " 488,\n",
       " -489,\n",
       " 490,\n",
       " -491,\n",
       " 492,\n",
       " -493,\n",
       " 494,\n",
       " -495,\n",
       " 496,\n",
       " -497,\n",
       " 498,\n",
       " -499,\n",
       " 500,\n",
       " -501,\n",
       " 502,\n",
       " -503,\n",
       " 504,\n",
       " -505,\n",
       " 506,\n",
       " -507,\n",
       " 508,\n",
       " -509,\n",
       " 510,\n",
       " -511,\n",
       " 512,\n",
       " -513,\n",
       " 514,\n",
       " -515,\n",
       " 516,\n",
       " -517,\n",
       " 518,\n",
       " -519,\n",
       " 520,\n",
       " -521,\n",
       " 522,\n",
       " -523,\n",
       " 524,\n",
       " -525,\n",
       " 526,\n",
       " -527,\n",
       " 528,\n",
       " -529,\n",
       " 530,\n",
       " -531,\n",
       " 532,\n",
       " -533,\n",
       " 534,\n",
       " -535,\n",
       " 536,\n",
       " -537,\n",
       " 538,\n",
       " -539,\n",
       " 540,\n",
       " -541,\n",
       " 542,\n",
       " -543,\n",
       " 544,\n",
       " -545,\n",
       " 546,\n",
       " -547,\n",
       " 548,\n",
       " -549,\n",
       " 550,\n",
       " -551,\n",
       " 552,\n",
       " -553,\n",
       " 554,\n",
       " -555,\n",
       " 556,\n",
       " -557,\n",
       " 558,\n",
       " -559,\n",
       " 560,\n",
       " -561,\n",
       " 562,\n",
       " -563,\n",
       " 564,\n",
       " -565,\n",
       " 566,\n",
       " -567,\n",
       " 568,\n",
       " -569,\n",
       " 570,\n",
       " -571,\n",
       " 572,\n",
       " -573,\n",
       " 574,\n",
       " -575,\n",
       " 576,\n",
       " -577,\n",
       " 578,\n",
       " -579,\n",
       " 580,\n",
       " -581,\n",
       " 582,\n",
       " -583,\n",
       " 584,\n",
       " -585,\n",
       " 586,\n",
       " -587,\n",
       " 588,\n",
       " -589,\n",
       " 590,\n",
       " -591,\n",
       " 592,\n",
       " -593,\n",
       " 594,\n",
       " -595,\n",
       " 596,\n",
       " -597,\n",
       " 598,\n",
       " -599,\n",
       " 600,\n",
       " -601,\n",
       " 602,\n",
       " -603,\n",
       " 604,\n",
       " -605,\n",
       " 606,\n",
       " -607,\n",
       " 608,\n",
       " -609,\n",
       " 610,\n",
       " -611,\n",
       " 612,\n",
       " -613,\n",
       " 614,\n",
       " -615,\n",
       " 616,\n",
       " -617,\n",
       " 618,\n",
       " -619,\n",
       " 620,\n",
       " -621,\n",
       " 622,\n",
       " -623,\n",
       " 624,\n",
       " -625,\n",
       " 626,\n",
       " -627,\n",
       " 628,\n",
       " -629,\n",
       " 630,\n",
       " -631,\n",
       " 632,\n",
       " -633,\n",
       " 634,\n",
       " -635,\n",
       " 636,\n",
       " -637,\n",
       " 638,\n",
       " -639,\n",
       " 640,\n",
       " -641,\n",
       " 642,\n",
       " -643,\n",
       " 644,\n",
       " -645,\n",
       " 646,\n",
       " -647,\n",
       " 648,\n",
       " -649,\n",
       " 650,\n",
       " -651,\n",
       " 652,\n",
       " -653,\n",
       " 654,\n",
       " -655,\n",
       " 656,\n",
       " -657,\n",
       " 658,\n",
       " -659,\n",
       " 660,\n",
       " -661,\n",
       " 662,\n",
       " -663,\n",
       " 664,\n",
       " -665,\n",
       " 666,\n",
       " -667,\n",
       " 668,\n",
       " -669,\n",
       " 670,\n",
       " -671,\n",
       " 672,\n",
       " -673,\n",
       " 674,\n",
       " -675,\n",
       " 676,\n",
       " -677,\n",
       " 678,\n",
       " -679,\n",
       " 680,\n",
       " -681,\n",
       " 682,\n",
       " -683,\n",
       " 684,\n",
       " -685,\n",
       " 686,\n",
       " -687,\n",
       " 688,\n",
       " -689,\n",
       " 690,\n",
       " -691,\n",
       " 692,\n",
       " -693,\n",
       " 694,\n",
       " -695,\n",
       " 696,\n",
       " -697,\n",
       " 698,\n",
       " -699,\n",
       " 700,\n",
       " -701,\n",
       " 702,\n",
       " -703,\n",
       " 704,\n",
       " -705,\n",
       " 706,\n",
       " -707,\n",
       " 708,\n",
       " -709,\n",
       " 710,\n",
       " -711,\n",
       " 712,\n",
       " -713,\n",
       " 714,\n",
       " -715,\n",
       " 716,\n",
       " -717,\n",
       " 718,\n",
       " -719,\n",
       " 720,\n",
       " -721,\n",
       " 722,\n",
       " -723,\n",
       " 724,\n",
       " -725,\n",
       " 726,\n",
       " -727,\n",
       " 728,\n",
       " -729,\n",
       " 730,\n",
       " -731,\n",
       " 732,\n",
       " -733,\n",
       " 734,\n",
       " -735,\n",
       " 736,\n",
       " -737,\n",
       " 738,\n",
       " -739,\n",
       " 740,\n",
       " -741,\n",
       " 742,\n",
       " -743,\n",
       " 744,\n",
       " -745,\n",
       " 746,\n",
       " -747,\n",
       " 748,\n",
       " -749,\n",
       " 750,\n",
       " -751,\n",
       " 752,\n",
       " -753,\n",
       " 754,\n",
       " -755,\n",
       " 756,\n",
       " -757,\n",
       " 758,\n",
       " -759,\n",
       " 760,\n",
       " -761,\n",
       " 762,\n",
       " -763,\n",
       " 764,\n",
       " -765,\n",
       " 766,\n",
       " -767,\n",
       " 768,\n",
       " -769,\n",
       " 770,\n",
       " -771,\n",
       " 772,\n",
       " -773,\n",
       " 774,\n",
       " -775,\n",
       " 776,\n",
       " -777,\n",
       " 778,\n",
       " -779,\n",
       " 780,\n",
       " -781,\n",
       " 782,\n",
       " -783,\n",
       " 784,\n",
       " -785,\n",
       " 786,\n",
       " -787,\n",
       " 788,\n",
       " -789,\n",
       " 790,\n",
       " -791,\n",
       " 792,\n",
       " -793,\n",
       " 794,\n",
       " -795,\n",
       " 796,\n",
       " -797,\n",
       " 798,\n",
       " -799,\n",
       " 800,\n",
       " -801,\n",
       " 802,\n",
       " -803,\n",
       " 804,\n",
       " -805,\n",
       " 806,\n",
       " -807,\n",
       " 808,\n",
       " -809,\n",
       " 810,\n",
       " -811,\n",
       " 812,\n",
       " -813,\n",
       " 814,\n",
       " -815,\n",
       " 816,\n",
       " -817,\n",
       " 818,\n",
       " -819,\n",
       " 820,\n",
       " -821,\n",
       " 822,\n",
       " -823,\n",
       " 824,\n",
       " -825,\n",
       " 826,\n",
       " -827,\n",
       " 828,\n",
       " -829,\n",
       " 830,\n",
       " -831,\n",
       " 832,\n",
       " -833,\n",
       " 834,\n",
       " -835,\n",
       " 836,\n",
       " -837,\n",
       " 838,\n",
       " -839,\n",
       " 840,\n",
       " -841,\n",
       " 842,\n",
       " -843,\n",
       " 844,\n",
       " -845,\n",
       " 846,\n",
       " -847,\n",
       " 848,\n",
       " -849,\n",
       " 850,\n",
       " -851,\n",
       " 852,\n",
       " -853,\n",
       " 854,\n",
       " -855,\n",
       " 856,\n",
       " -857,\n",
       " 858,\n",
       " -859,\n",
       " 860,\n",
       " -861,\n",
       " 862,\n",
       " -863,\n",
       " 864,\n",
       " -865,\n",
       " 866,\n",
       " -867,\n",
       " 868,\n",
       " -869,\n",
       " 870,\n",
       " -871,\n",
       " 872,\n",
       " -873,\n",
       " 874,\n",
       " -875,\n",
       " 876,\n",
       " -877,\n",
       " 878,\n",
       " -879,\n",
       " 880,\n",
       " -881,\n",
       " 882,\n",
       " -883,\n",
       " 884,\n",
       " -885,\n",
       " 886,\n",
       " -887,\n",
       " 888,\n",
       " -889,\n",
       " 890,\n",
       " -891,\n",
       " 892,\n",
       " -893,\n",
       " 894,\n",
       " -895,\n",
       " 896,\n",
       " -897,\n",
       " 898,\n",
       " -899,\n",
       " 900,\n",
       " -901,\n",
       " 902,\n",
       " -903,\n",
       " 904,\n",
       " -905,\n",
       " 906,\n",
       " -907,\n",
       " 908,\n",
       " -909,\n",
       " 910,\n",
       " -911,\n",
       " 912,\n",
       " -913,\n",
       " 914,\n",
       " -915,\n",
       " 916,\n",
       " -917,\n",
       " 918,\n",
       " -919,\n",
       " 920,\n",
       " -921,\n",
       " 922,\n",
       " -923,\n",
       " 924,\n",
       " -925,\n",
       " 926,\n",
       " -927,\n",
       " 928,\n",
       " -929,\n",
       " 930,\n",
       " -931,\n",
       " 932,\n",
       " -933,\n",
       " 934,\n",
       " -935,\n",
       " 936,\n",
       " -937,\n",
       " 938,\n",
       " -939,\n",
       " 940,\n",
       " -941,\n",
       " 942,\n",
       " -943,\n",
       " 944,\n",
       " -945,\n",
       " 946,\n",
       " -947,\n",
       " 948,\n",
       " -949,\n",
       " 950,\n",
       " -951,\n",
       " 952,\n",
       " -953,\n",
       " 954,\n",
       " -955,\n",
       " 956,\n",
       " -957,\n",
       " 958,\n",
       " -959,\n",
       " 960,\n",
       " -961,\n",
       " 962,\n",
       " -963,\n",
       " 964,\n",
       " -965,\n",
       " 966,\n",
       " -967,\n",
       " 968,\n",
       " -969,\n",
       " 970,\n",
       " -971,\n",
       " 972,\n",
       " -973,\n",
       " 974,\n",
       " -975,\n",
       " 976,\n",
       " -977,\n",
       " 978,\n",
       " -979,\n",
       " 980,\n",
       " -981,\n",
       " 982,\n",
       " -983,\n",
       " 984,\n",
       " -985,\n",
       " 986,\n",
       " -987,\n",
       " 988,\n",
       " -989,\n",
       " 990,\n",
       " -991,\n",
       " 992,\n",
       " -993,\n",
       " 994,\n",
       " -995,\n",
       " 996,\n",
       " -997,\n",
       " 998,\n",
       " -999,\n",
       " 1000,\n",
       " ...]"
      ]
     },
     "execution_count": 7,
     "metadata": {},
     "output_type": "execute_result"
    }
   ],
   "source": [
    "t0 = time.time()\n",
    "vals = [i*-1 if i % 2 == 1 else i for i in range(1,100001)]\n",
    "print('runtime: ', time.time() - t0)\n",
    "vals"
   ]
  },
  {
   "cell_type": "markdown",
   "id": "a686a439-0a88-4e01-a37f-a09e9792b740",
   "metadata": {
    "slideshow": {
     "slide_type": "slide"
    }
   },
   "source": [
    "# NumPy"
   ]
  },
  {
   "cell_type": "markdown",
   "id": "555386ee-7d01-4e90-a79e-72e58ab4836b",
   "metadata": {
    "slideshow": {
     "slide_type": "slide"
    },
    "tags": []
   },
   "source": [
    "# Exercise 9.3\n",
    "\n",
    "Use NumPy to generate 10 random integers ranging from 1 to 6 inclusive.\n",
    "\n",
    "Save the results in a list and then print the list as a comma-delimitted string.\n",
    "\n",
    "Hint: `', '.join(my_list)`"
   ]
  },
  {
   "cell_type": "code",
   "execution_count": 27,
   "id": "8c8dea46-20ab-475a-aca7-87d051a9336b",
   "metadata": {
    "slideshow": {
     "slide_type": "subslide"
    }
   },
   "outputs": [
    {
     "name": "stdout",
     "output_type": "stream",
     "text": [
      "1, 2, 6, 4, 1, 2, 2, 3, 3, 6\n"
     ]
    }
   ],
   "source": [
    "# one solution\n",
    "import numpy as np\n",
    "\n",
    "randos = [np.random.randint(1,7) for i in range(10)]\n",
    "print(', '.join([str(rando) for rando in randos]))"
   ]
  },
  {
   "cell_type": "code",
   "execution_count": 28,
   "id": "6d64e0de-4444-4edd-bdd8-3581f8d88ba8",
   "metadata": {
    "slideshow": {
     "slide_type": "fragment"
    }
   },
   "outputs": [
    {
     "name": "stdout",
     "output_type": "stream",
     "text": [
      "[,4, ,1, ,4, ,1, ,6, ,6, ,3, ,4, ,1, ,1,]\n"
     ]
    }
   ],
   "source": [
    "# another solution\n",
    "import numpy as np\n",
    "randos = np.random.randint(1, 7, 10)\n",
    "randos = np.str_(randos)\n",
    "print(','.join(randos))"
   ]
  },
  {
   "cell_type": "markdown",
   "id": "7461d0ed-5390-42c2-b472-fa9298a4a865",
   "metadata": {
    "slideshow": {
     "slide_type": "slide"
    }
   },
   "source": [
    "# Exercise 9.4\n",
    "\n",
    "Generate a single random integer with NumPy and print its type.\n",
    "\n",
    "Then generate $5$ random integers between $1$ and $21$ and print its type.\n",
    "\n",
    "What difference do you see?"
   ]
  },
  {
   "cell_type": "code",
   "execution_count": 32,
   "id": "9b91a5bd",
   "metadata": {
    "slideshow": {
     "slide_type": "subslide"
    }
   },
   "outputs": [
    {
     "data": {
      "text/plain": [
       "int"
      ]
     },
     "execution_count": 32,
     "metadata": {},
     "output_type": "execute_result"
    }
   ],
   "source": [
    "r1 = np.random.randint(10)\n",
    "type(r1)"
   ]
  },
  {
   "cell_type": "code",
   "execution_count": 33,
   "id": "797abcff-aca9-43cb-8eeb-8036e3f0b0f0",
   "metadata": {},
   "outputs": [
    {
     "data": {
      "text/plain": [
       "numpy.ndarray"
      ]
     },
     "execution_count": 33,
     "metadata": {},
     "output_type": "execute_result"
    }
   ],
   "source": [
    "r2 = np.random.randint(1,21,5)\n",
    "type(r2)"
   ]
  },
  {
   "cell_type": "markdown",
   "id": "b2748abb",
   "metadata": {
    "slideshow": {
     "slide_type": "slide"
    }
   },
   "source": [
    "# Exercise 9.5\n",
    "\n",
    "Plot a histogram of the array for random integers you just created.\n",
    "\n",
    "Hint: Import Matplotlib's Histogram function as follows:\n",
    "\n",
    "```python\n",
    "from matplotlib.pyplot import hist\n",
    "```\n",
    "\n",
    "Then pass the array to `hist()`."
   ]
  },
  {
   "cell_type": "code",
   "execution_count": 71,
   "id": "bdbb546f",
   "metadata": {
    "slideshow": {
     "slide_type": "subslide"
    }
   },
   "outputs": [
    {
     "data": {
      "image/png": "[encoded data removed]",
      "text/plain": [
       "<Figure size 432x288 with 1 Axes>"
      ]
     },
     "metadata": {
      "needs_background": "light"
     },
     "output_type": "display_data"
    }
   ],
   "source": [
    "from matplotlib.pyplot import hist\n",
    "\n",
    "hist(r2);"
   ]
  },
  {
   "cell_type": "markdown",
   "id": "aa7a5074-1100-48f6-9d03-30cf729f0bc4",
   "metadata": {
    "slideshow": {
     "slide_type": "slide"
    }
   },
   "source": [
    "# Exercise 9.6\n",
    "\n",
    " Generate and print a matrix (2D array) of random normals of shape $2 \\times 3$.\n",
    " \n",
    " Hint: `np.random.randn()` samples from the standard normal distribution. "
   ]
  },
  {
   "cell_type": "code",
   "execution_count": 38,
   "id": "1d439e5d-8269-433a-9003-008283b727e0",
   "metadata": {
    "slideshow": {
     "slide_type": "subslide"
    }
   },
   "outputs": [
    {
     "data": {
      "text/plain": [
       "array([[ 0.1373866 , -0.54247105,  0.87390469],\n",
       "       [-0.64432156, -0.94614609,  0.4011406 ]])"
      ]
     },
     "execution_count": 38,
     "metadata": {},
     "output_type": "execute_result"
    }
   ],
   "source": [
    "x = np.random.randn(2, 3)\n",
    "x"
   ]
  },
  {
   "cell_type": "markdown",
   "id": "3061d632",
   "metadata": {
    "slideshow": {
     "slide_type": "slide"
    }
   },
   "source": [
    "# Exercise 9.7\n",
    "\n",
    "Multiply the matrix you just created by $2$.\n",
    "\n",
    "In linear algebra, this is called \"scaling\" the matrix."
   ]
  },
  {
   "cell_type": "code",
   "execution_count": 39,
   "id": "f81d699f-55e2-4fa8-9626-aecc13476c9b",
   "metadata": {
    "slideshow": {
     "slide_type": "subslide"
    }
   },
   "outputs": [
    {
     "data": {
      "text/plain": [
       "array([[ 0.2747732 , -1.0849421 ,  1.74780938],\n",
       "       [-1.28864312, -1.89229218,  0.8022812 ]])"
      ]
     },
     "execution_count": 39,
     "metadata": {},
     "output_type": "execute_result"
    }
   ],
   "source": [
    "x * 2"
   ]
  },
  {
   "cell_type": "markdown",
   "id": "f942febb",
   "metadata": {
    "slideshow": {
     "slide_type": "slide"
    }
   },
   "source": [
    "# Exercise 9.8\n",
    "\n",
    "Now add the matrix to itself."
   ]
  },
  {
   "cell_type": "code",
   "execution_count": 40,
   "id": "9e3f8509-e751-4b80-983c-41da934c3853",
   "metadata": {
    "slideshow": {
     "slide_type": "subslide"
    }
   },
   "outputs": [
    {
     "data": {
      "text/plain": [
       "array([[ 0.2747732 , -1.0849421 ,  1.74780938],\n",
       "       [-1.28864312, -1.89229218,  0.8022812 ]])"
      ]
     },
     "execution_count": 40,
     "metadata": {},
     "output_type": "execute_result"
    }
   ],
   "source": [
    "x + x"
   ]
  },
  {
   "cell_type": "markdown",
   "id": "1f5dcde6",
   "metadata": {
    "slideshow": {
     "slide_type": "slide"
    }
   },
   "source": [
    "# Exercise 9.9\n",
    "\n",
    "Now get the reciprocal of the matrix."
   ]
  },
  {
   "cell_type": "code",
   "execution_count": 41,
   "id": "93340b33-e5a7-4684-846a-b76e41d4809e",
   "metadata": {
    "slideshow": {
     "slide_type": "subslide"
    }
   },
   "outputs": [
    {
     "data": {
      "text/plain": [
       "array([[ 7.27873014, -1.84341634,  1.14428955],\n",
       "       [-1.55202009, -1.05691923,  2.49289152]])"
      ]
     },
     "execution_count": 41,
     "metadata": {},
     "output_type": "execute_result"
    }
   ],
   "source": [
    "1 / x"
   ]
  },
  {
   "cell_type": "markdown",
   "id": "9adc0614-b5f1-495e-8b36-4593c7f3f277",
   "metadata": {
    "slideshow": {
     "slide_type": "slide"
    }
   },
   "source": [
    "# Exercise 9.10\n",
    "\n",
    "Create two two-dimensional arrays.\n",
    "\n",
    "One of $0$s and one of $1$s.\n",
    "\n",
    "Both of shape $2 \\times 4$."
   ]
  },
  {
   "cell_type": "code",
   "execution_count": 45,
   "id": "9a571c6f-2d79-4878-ac33-24c95445f15a",
   "metadata": {
    "slideshow": {
     "slide_type": "subslide"
    }
   },
   "outputs": [
    {
     "data": {
      "text/plain": [
       "array([[0., 0., 0., 0.],\n",
       "       [0., 0., 0., 0.]])"
      ]
     },
     "execution_count": 45,
     "metadata": {},
     "output_type": "execute_result"
    }
   ],
   "source": [
    "z1 = np.zeros((2, 4))\n",
    "z1"
   ]
  },
  {
   "cell_type": "code",
   "execution_count": 50,
   "id": "6fe19164-9441-44e0-98fd-ce66533fee17",
   "metadata": {
    "slideshow": {
     "slide_type": "-"
    }
   },
   "outputs": [
    {
     "data": {
      "text/plain": [
       "array([[1., 1., 1.],\n",
       "       [1., 1., 1.]])"
      ]
     },
     "execution_count": 50,
     "metadata": {},
     "output_type": "execute_result"
    }
   ],
   "source": [
    "o1 = np.ones((2,3))\n",
    "o1"
   ]
  },
  {
   "cell_type": "markdown",
   "id": "0c9b88ea",
   "metadata": {
    "slideshow": {
     "slide_type": "slide"
    }
   },
   "source": [
    "# Exercise 9.11 \n",
    "\n",
    "Create an identity matrix with $4$ rows and columns."
   ]
  },
  {
   "cell_type": "code",
   "execution_count": 49,
   "id": "ce277d31-d058-4bde-a4ae-271808f5f9e5",
   "metadata": {
    "slideshow": {
     "slide_type": "subslide"
    }
   },
   "outputs": [
    {
     "data": {
      "text/plain": [
       "array([[1., 0., 0., 0.],\n",
       "       [0., 1., 0., 0.],\n",
       "       [0., 0., 1., 0.],\n",
       "       [0., 0., 0., 1.]])"
      ]
     },
     "execution_count": 49,
     "metadata": {},
     "output_type": "execute_result"
    }
   ],
   "source": [
    "np.identity(4)"
   ]
  },
  {
   "cell_type": "markdown",
   "id": "7c8cf854-a52d-4494-8134-bc8a8a7f1ab3",
   "metadata": {
    "slideshow": {
     "slide_type": "slide"
    }
   },
   "source": [
    "# Exercise 9.12\n",
    "\n",
    "Generate a vector of random integers of length $5$.\n",
    "\n",
    "Then print a slice that consists of $3$ elements, beginning with the second element.\n",
    "\n",
    "Then print a slice that excludes the first and last elements."
   ]
  },
  {
   "cell_type": "code",
   "execution_count": 59,
   "id": "85fcdba9-dcdf-4a9b-bdf7-766645f21367",
   "metadata": {
    "slideshow": {
     "slide_type": "subslide"
    }
   },
   "outputs": [
    {
     "data": {
      "text/plain": [
       "array([ 1.25148932,  0.29524083,  0.08379   , -0.13087798, -0.56450647])"
      ]
     },
     "execution_count": 59,
     "metadata": {},
     "output_type": "execute_result"
    }
   ],
   "source": [
    "x12 = np.random.randn(5)\n",
    "x12"
   ]
  },
  {
   "cell_type": "code",
   "execution_count": 60,
   "id": "c173928d-be81-4ee5-8626-fb53ee4ecf6c",
   "metadata": {},
   "outputs": [
    {
     "data": {
      "text/plain": [
       "array([ 0.29524083,  0.08379   , -0.13087798])"
      ]
     },
     "execution_count": 60,
     "metadata": {},
     "output_type": "execute_result"
    }
   ],
   "source": [
    "x12[1:4]"
   ]
  },
  {
   "cell_type": "code",
   "execution_count": 61,
   "id": "41471fd5-4e97-402c-bec5-53e4b43013e3",
   "metadata": {},
   "outputs": [
    {
     "data": {
      "text/plain": [
       "array([ 0.29524083,  0.08379   , -0.13087798])"
      ]
     },
     "execution_count": 61,
     "metadata": {},
     "output_type": "execute_result"
    }
   ],
   "source": [
    "x12[1:-1]"
   ]
  },
  {
   "cell_type": "markdown",
   "id": "43631977",
   "metadata": {
    "slideshow": {
     "slide_type": "slide"
    }
   },
   "source": [
    "# Exercise 9.13\n",
    "\n",
    "Apply boolean indexing the the last array you created and selet all elements the meet the condition $> 0.15$."
   ]
  },
  {
   "cell_type": "code",
   "execution_count": 64,
   "id": "66227891-6b00-467c-b4fa-f4338554757b",
   "metadata": {
    "slideshow": {
     "slide_type": "subslide"
    }
   },
   "outputs": [
    {
     "data": {
      "text/plain": [
       "array([1.25148932, 0.29524083])"
      ]
     },
     "execution_count": 64,
     "metadata": {},
     "output_type": "execute_result"
    }
   ],
   "source": [
    "x12[x12 > 0.15]"
   ]
  },
  {
   "cell_type": "markdown",
   "id": "24caf753",
   "metadata": {
    "slideshow": {
     "slide_type": "slide"
    }
   },
   "source": [
    "# Exercise 9.14\n",
    "\n",
    "Generate a 2D array of random integers with a shape of $3 \\times 3$.\n",
    "\n",
    "Then, select the all the rows but the first, and all the columns but the last."
   ]
  },
  {
   "cell_type": "code",
   "execution_count": 66,
   "id": "80b9af39-b714-4526-9282-cf9e32b8e3dd",
   "metadata": {
    "slideshow": {
     "slide_type": "subslide"
    }
   },
   "outputs": [
    {
     "data": {
      "text/plain": [
       "array([[-1.42733796,  0.13310983,  0.7059493 ],\n",
       "       [ 0.38337098, -1.65442534, -0.35978368],\n",
       "       [-0.74070536,  0.96283072, -0.28591455]])"
      ]
     },
     "execution_count": 66,
     "metadata": {},
     "output_type": "execute_result"
    }
   ],
   "source": [
    "x14 = np.random.randn(3,3)\n",
    "x14"
   ]
  },
  {
   "cell_type": "code",
   "execution_count": 68,
   "id": "dad28cd6-07e7-4f54-b897-424720882523",
   "metadata": {},
   "outputs": [
    {
     "data": {
      "text/plain": [
       "array([[ 0.38337098, -1.65442534],\n",
       "       [-0.74070536,  0.96283072]])"
      ]
     },
     "execution_count": 68,
     "metadata": {},
     "output_type": "execute_result"
    }
   ],
   "source": [
    "x14[1:, :2]"
   ]
  },
  {
   "cell_type": "markdown",
   "id": "dee58952-842f-495c-8f93-b6cc5ddcb1ff",
   "metadata": {
    "slideshow": {
     "slide_type": "slide"
    }
   },
   "source": [
    "# Exercise 9.15\n",
    "\n",
    "Write code to generate a new array based on the previous array and which sets all negative values to 0.\n",
    "\n",
    "The second array should be based on a copy of the first.\n",
    "\n",
    "Then print both arrays.  "
   ]
  },
  {
   "cell_type": "code",
   "execution_count": 69,
   "id": "828e10df-c322-4249-8d43-40d8e8197749",
   "metadata": {
    "jupyter": {
     "outputs_hidden": true,
     "source_hidden": true
    },
    "slideshow": {
     "slide_type": "subslide"
    }
   },
   "outputs": [
    {
     "data": {
      "text/plain": [
       "array([[0.        , 0.13310983, 0.7059493 ],\n",
       "       [0.38337098, 0.        , 0.        ],\n",
       "       [0.        , 0.96283072, 0.        ]])"
      ]
     },
     "execution_count": 69,
     "metadata": {},
     "output_type": "execute_result"
    }
   ],
   "source": [
    "x15 = x14.copy()\n",
    "x15[x15 < 0] = 0\n",
    "x15"
   ]
  }
 ],
 "metadata": {
  "celltoolbar": "Slideshow",
  "kernelspec": {
   "display_name": "Python 3 (ipykernel)",
   "language": "python",
   "name": "python3"
  },
  "language_info": {
   "codemirror_mode": {
    "name": "ipython",
    "version": 3
   },
   "file_extension": ".py",
   "mimetype": "text/x-python",
   "name": "python",
   "nbconvert_exporter": "python",
   "pygments_lexer": "ipython3",
   "version": "3.8.3"
  },
  "latex_envs": {
   "LaTeX_envs_menu_present": true,
   "autoclose": false,
   "autocomplete": true,
   "bibliofile": "biblio.bib",
   "cite_by": "apalike",
   "current_citInitial": 1,
   "eqLabelWithNumbers": true,
   "eqNumInitial": 1,
   "hotkeys": {
    "equation": "Ctrl-E",
    "itemize": "Ctrl-I"
   },
   "labels_anchors": false,
   "latex_user_defs": false,
   "report_style_numbering": false,
   "user_envs_cfg": false
  },
  "toc": {
   "base_numbering": 1,
   "nav_menu": {},
   "number_sections": false,
   "sideBar": true,
   "skip_h1_title": false,
   "title_cell": "Table of Contents",
   "title_sidebar": "Contents",
   "toc_cell": false,
   "toc_position": {},
   "toc_section_display": true,
   "toc_window_display": false
  },
  "varInspector": {
   "cols": {
    "lenName": 16,
    "lenType": 16,
    "lenVar": 40
   },
   "kernels_config": {
    "python": {
     "delete_cmd_postfix": "",
     "delete_cmd_prefix": "del ",
     "library": "var_list.py",
     "varRefreshCmd": "print(var_dic_list())"
    },
    "r": {
     "delete_cmd_postfix": ") ",
     "delete_cmd_prefix": "rm(",
     "library": "var_list.r",
     "varRefreshCmd": "cat(var_dic_list()) "
    }
   },
   "types_to_exclude": [
    "module",
    "function",
    "builtin_function_or_method",
    "instance",
    "_Feature"
   ],
   "window_display": false
  },
  "widgets": {
   "application/vnd.jupyter.widget-state+json": {
    "state": {},
    "version_major": 2,
    "version_minor": 0
   }
  }
 },
 "nbformat": 4,
 "nbformat_minor": 5
}

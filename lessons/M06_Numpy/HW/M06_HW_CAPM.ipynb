{
 "cells": [
  {
   "cell_type": "markdown",
   "metadata": {},
   "source": [
    "# Metadata\n",
    "\n",
    "```\n",
    "Course:   DS 5100\n",
    "Module:   05 Numpy\n",
    "Topic:    Capital Asset Pricing Model (CAPM) HW KEY\n",
    "Author:   R.C. Alvarado (revised)\n",
    "Date:     26 June 2022\n",
    "```"
   ]
  },
  {
   "cell_type": "markdown",
   "metadata": {},
   "source": [
    "**Objectives**\n",
    "- Use numpy and functions to compute a stock's CAPM beta\n",
    "- Perform sensitivity analysis to understand how the data points impact the beta estimate"
   ]
  },
  {
   "cell_type": "markdown",
   "metadata": {
    "jp-MarkdownHeadingCollapsed": true,
    "tags": []
   },
   "source": [
    "# Background\n",
    "\n",
    "In finance, CAPM is a single-factor regression model used for explaining and predicting excess stock returns. \n",
    "\n",
    "There are better, more accurate models, but it has its uses. \n",
    "\n",
    "For example, the **market beta** is a useful output.\n",
    "\n",
    "Here is the formula for calculating the expected excess return:\n",
    "$$\n",
    "\\begin{aligned} &E[R_i] - R_f  = \\beta_i ( E[R_m] - R_f ) \\\\ \\\\ &\\text{where:} \\\\ &ER_i = \\text{expected return of stock i} \\\\ &R_f = \\text{risk-free rate} \\\\ &\\beta_i = \\text{beta of the stock} \\\\ &ER_m - R_f = \\text{market risk premium} \\\\ \\end{aligned} \n",
    "$$\n",
    "\n",
    "**Review the instructions below to complete the requested tasks.**\n",
    "\n",
    "**TOTAL POINTS: 10**"
   ]
  },
  {
   "cell_type": "markdown",
   "metadata": {},
   "source": [
    "# Set Up"
   ]
  },
  {
   "cell_type": "markdown",
   "metadata": {},
   "source": [
    "**Import [NumPy](https://numpy.org/doc/stable/)**"
   ]
  },
  {
   "cell_type": "code",
   "execution_count": 1,
   "metadata": {},
   "outputs": [],
   "source": [
    "import numpy as np"
   ]
  },
  {
   "cell_type": "markdown",
   "metadata": {},
   "source": [
    "**Define Risk-free Treasury rate**\n",
    "\n",
    "You will use this constant below."
   ]
  },
  {
   "cell_type": "code",
   "execution_count": 2,
   "metadata": {},
   "outputs": [],
   "source": [
    "R_f = 0.0175 / 252"
   ]
  },
  {
   "cell_type": "markdown",
   "metadata": {},
   "source": [
    "# Data Preparation\n",
    "\n",
    "We import the data and convert it into usable Numby arrays."
   ]
  },
  {
   "cell_type": "markdown",
   "metadata": {},
   "source": [
    "**Read in the market data**\n",
    "\n",
    "The values are closing prices, adjusted for splits and dividends.\n",
    "\n",
    "The prefixes of the second two columns are based on the following codes:\n",
    "* SPY is an ETF for the S&P 500 (i.e. the stock market as whole)\n",
    "* AAPL stands for Apple  "
   ]
  },
  {
   "cell_type": "code",
   "execution_count": 3,
   "metadata": {},
   "outputs": [],
   "source": [
    "data_file = \"capm_market_data.csv\""
   ]
  },
  {
   "cell_type": "code",
   "execution_count": 4,
   "metadata": {},
   "outputs": [],
   "source": [
    "data_2D = np.array([row.strip().split(',') for row in open(data_file, 'r').readlines()])"
   ]
  },
  {
   "cell_type": "markdown",
   "metadata": {},
   "source": [
    "**Separete columns from the data** "
   ]
  },
  {
   "cell_type": "code",
   "execution_count": 5,
   "metadata": {},
   "outputs": [],
   "source": [
    "COLS = np.str_(data_2D[0])"
   ]
  },
  {
   "cell_type": "code",
   "execution_count": 6,
   "metadata": {},
   "outputs": [
    {
     "data": {
      "text/plain": [
       "\"['date' 'spy_adj_close' 'aapl_adj_close']\""
      ]
     },
     "execution_count": 6,
     "metadata": {},
     "output_type": "execute_result"
    }
   ],
   "source": [
    "COLS"
   ]
  },
  {
   "cell_type": "markdown",
   "metadata": {},
   "source": [
    "**Separate columns by data types**\n",
    "\n",
    "Numpy wants everything to in a data structure to be of the same type."
   ]
  },
  {
   "cell_type": "code",
   "execution_count": 7,
   "metadata": {},
   "outputs": [],
   "source": [
    "DATES = data_2D[1:, 0]"
   ]
  },
  {
   "cell_type": "code",
   "execution_count": 8,
   "metadata": {},
   "outputs": [],
   "source": [
    "RETURNS = data_2D[1:, 1:].astype('float')"
   ]
  },
  {
   "cell_type": "markdown",
   "metadata": {
    "tags": []
   },
   "source": [
    "# Instructions"
   ]
  },
  {
   "cell_type": "markdown",
   "metadata": {},
   "source": [
    "# Q1 (1 PT) \n",
    "\n",
    "Print the first 5 rows of the `RETURNS` table."
   ]
  },
  {
   "cell_type": "code",
   "execution_count": 1,
   "metadata": {},
   "outputs": [],
   "source": [
    "# PRINT ROWS"
   ]
  },
  {
   "cell_type": "markdown",
   "metadata": {},
   "source": [
    "# Q2 (1 PT) \n",
    "\n",
    "Print the first five values from the SPY column in `RETURNS`.\n",
    "\n",
    "Then do the same for the AAPL column.\n",
    "\n",
    "Use one cell for each operation."
   ]
  },
  {
   "cell_type": "code",
   "execution_count": 2,
   "metadata": {},
   "outputs": [],
   "source": [
    "# PRINT VALUES FOR SPY"
   ]
  },
  {
   "cell_type": "code",
   "execution_count": 3,
   "metadata": {},
   "outputs": [],
   "source": [
    "# PRINT VALUES FOR AAPL"
   ]
  },
  {
   "cell_type": "markdown",
   "metadata": {
    "tags": []
   },
   "source": [
    "# Q3 (1 PT)\n",
    "\n",
    "Compute the excess returns by subtracting the constant `R_f` from `RETURNS`.\n",
    "\n",
    "Save the result as numpy 2D array (i.e. a table) named `EXCESS`.\n",
    "\n",
    "Print the LAST five rows from the new table."
   ]
  },
  {
   "cell_type": "code",
   "execution_count": 8,
   "metadata": {},
   "outputs": [],
   "source": [
    "# COMPUTE EXCESS"
   ]
  },
  {
   "cell_type": "code",
   "execution_count": 9,
   "metadata": {},
   "outputs": [],
   "source": [
    "# PRINT ROWS"
   ]
  },
  {
   "cell_type": "markdown",
   "metadata": {},
   "source": [
    "# Q 4 (1 PT)\n",
    "\n",
    "Make a simple [scatterplot using Matplotlib](https://matplotlib.org/stable/api/_as_gen/matplotlib.pyplot.scatter.html) with SPY excess returns on the x-axis, AAPL excess returns on the y-axis.\n",
    "\n",
    "Hint: Use the following code:\n",
    "\n",
    "```python\n",
    "from matplotlib.pyplot import scatter\n",
    "\n",
    "scatter(<x>, <y>)\n",
    "```\n",
    "Replace `<x>` and `<y>` with the appropriate vectors.\n",
    "\n",
    "You may want to save the vectors for the SPY and AAPL columns as `x` and `y` respectively. This will make it visually easier to answer question 6."
   ]
  },
  {
   "cell_type": "code",
   "execution_count": 6,
   "metadata": {},
   "outputs": [],
   "source": [
    "# ENTER CODE"
   ]
  },
  {
   "cell_type": "markdown",
   "metadata": {},
   "source": [
    "# Q5 (3 PTS)\n",
    "\n",
    "Use the normal equation, listed below, to compute the Regression Coefficient Estimate of the data plotted above, $\\hat\\beta_i$.\n",
    "\n",
    "Note that $x^T$ denotes transpose of $x$.\n",
    "\n",
    "$\\begin{aligned} \\hat\\beta_i=(x^Tx)^{−1}x^Ty \\end{aligned}$ \n",
    "\n",
    "Use the Numpy functions for matrix to do this - multiplication, transpose, and inverse. \n",
    "\n",
    "Note, however, that since $x$ in this case a single column matrix, i.e. a vector, the result of $x'x$ will be a scalar, which is not invertable. So you can just invert the result by division, i.e. \n",
    "\n",
    "$\\hat\\beta_i = \\large\\frac{1}{x^Tx} \\small(x^Ty)$\n",
    "\n",
    "Be sure to review what these operations do, and how they work, if you're a bit rusty."
   ]
  },
  {
   "cell_type": "markdown",
   "metadata": {},
   "source": [
    "**You should find that $\\hat\\beta_i > 1$.**\n",
    "\n",
    "This means that the risk of AAPL stock, given the data, and according to this particular (flawed) model, is higher relative to the risk of the S&P 500.\n"
   ]
  },
  {
   "cell_type": "code",
   "execution_count": 17,
   "metadata": {
    "tags": []
   },
   "outputs": [],
   "source": [
    "# ENTER CODE"
   ]
  },
  {
   "cell_type": "markdown",
   "metadata": {
    "tags": []
   },
   "source": [
    "# Q6 (3 PTS)\n",
    "\n",
    "**Measuring Beta Sensitivity to Dropping Observations (Jackknifing)**\n",
    "\n",
    "Let's understand how sensitive the beta is to each data point.   \n",
    "We want to drop each data point (one at a time), compute \\\\(\\hat\\beta_i\\\\) using our formula from above, and save each measurement.\n",
    "\n",
    "Write a function called `beta_sensitivity()` with these specs:\n",
    "\n",
    "- Take numpy arrays x and y as inputs.\n",
    "- For each observation i, compute the beta without the current observation. You can use a `lambda` function for this.\n",
    "- Return a list of tuples each containing the observation row dropped and the beta estimate, i.e. something like `(i, beta_est)`, depending how you've named your variables.\n",
    "\n",
    "Hint: `np.delete(x, i)` will delete observation i from array x. "
   ]
  },
  {
   "cell_type": "markdown",
   "metadata": {},
   "source": [
    "Call `beta_sensitivity()` and print the first five tuples of output."
   ]
  },
  {
   "cell_type": "code",
   "execution_count": 21,
   "metadata": {},
   "outputs": [],
   "source": [
    "# ENTER FUNCTION"
   ]
  },
  {
   "cell_type": "code",
   "execution_count": 22,
   "metadata": {},
   "outputs": [],
   "source": [
    "# CALL FUNCTION"
   ]
  },
  {
   "cell_type": "code",
   "execution_count": 7,
   "metadata": {},
   "outputs": [],
   "source": [
    "# READ DATA"
   ]
  },
  {
   "cell_type": "code",
   "execution_count": null,
   "metadata": {},
   "outputs": [],
   "source": []
  }
 ],
 "metadata": {
  "kernelspec": {
   "display_name": "Python 3 (ipykernel)",
   "language": "python",
   "name": "python3"
  },
  "language_info": {
   "codemirror_mode": {
    "name": "ipython",
    "version": 3
   },
   "file_extension": ".py",
   "mimetype": "text/x-python",
   "name": "python",
   "nbconvert_exporter": "python",
   "pygments_lexer": "ipython3",
   "version": "3.8.3"
  },
  "widgets": {
   "application/vnd.jupyter.widget-state+json": {
    "state": {},
    "version_major": 2,
    "version_minor": 0
   }
  }
 },
 "nbformat": 4,
 "nbformat_minor": 4
}

{
 "cells": [
  {
   "cell_type": "markdown",
   "id": "01e3eb3e",
   "metadata": {
    "slideshow": {
     "slide_type": "slide"
    }
   },
   "source": [
    "# M02 Exercises\n",
    "\n",
    "DS 5100 | Summer 2022"
   ]
  },
  {
   "cell_type": "markdown",
   "id": "de17e3e3-0988-4584-ab4d-3c68fe3add4b",
   "metadata": {
    "slideshow": {
     "slide_type": "slide"
    }
   },
   "source": [
    "# Exercise 2.1\n",
    "\n",
    "Define a string and print:\n",
    "- the first three characters of the string\n",
    "- the last three characters of the string"
   ]
  },
  {
   "cell_type": "code",
   "execution_count": 18,
   "id": "584f7ee0-4ce6-4d3e-8ce0-415e4a01ff19",
   "metadata": {
    "slideshow": {
     "slide_type": "subslide"
    },
    "tags": []
   },
   "outputs": [
    {
     "name": "stdout",
     "output_type": "stream",
     "text": [
      "pyt\n",
      "hon\n"
     ]
    }
   ],
   "source": [
    "mystr = 'python'\n",
    "print(mystr[:3])\n",
    "print(mystr[-3:])"
   ]
  },
  {
   "cell_type": "markdown",
   "id": "18cb62fc-7bc6-4811-a4c0-635f2b3278af",
   "metadata": {
    "slideshow": {
     "slide_type": "slide"
    }
   },
   "source": [
    "# Exercise 2.2\n",
    "\n",
    "Assign some values to a list. \n",
    "\n",
    "Then print the second element from the list."
   ]
  },
  {
   "cell_type": "code",
   "execution_count": 19,
   "id": "befcfd37-8500-488f-b229-a4e48da11ba2",
   "metadata": {
    "slideshow": {
     "slide_type": "subslide"
    },
    "tags": []
   },
   "outputs": [
    {
     "name": "stdout",
     "output_type": "stream",
     "text": [
      "second\n"
     ]
    }
   ],
   "source": [
    "mylist = ['first','second','third']\n",
    "print(mylist[1])"
   ]
  },
  {
   "cell_type": "markdown",
   "id": "d020cc77-554d-43a4-a55a-4daba7774a8b",
   "metadata": {
    "slideshow": {
     "slide_type": "slide"
    }
   },
   "source": [
    "# Exercise 2.3\n",
    "\n",
    "Assign values to a tuple.\n",
    "\n",
    "Enumerate the tuple, printing each index and value."
   ]
  },
  {
   "cell_type": "code",
   "execution_count": 20,
   "id": "c695f79e-8e13-410f-ac65-984df478027d",
   "metadata": {
    "slideshow": {
     "slide_type": "subslide"
    },
    "tags": []
   },
   "outputs": [
    {
     "name": "stdout",
     "output_type": "stream",
     "text": [
      "0 1\n",
      "1 0\n",
      "2 1\n",
      "3 1\n"
     ]
    }
   ],
   "source": [
    "flags = (1, 0, 1, 1)\n",
    "\n",
    "for i, flag in enumerate(flags):\n",
    "    print(i, flag)"
   ]
  },
  {
   "cell_type": "markdown",
   "id": "1c09feb7-8bba-42fb-b429-2e7cad4a336d",
   "metadata": {
    "slideshow": {
     "slide_type": "slide"
    }
   },
   "source": [
    "# Exercise 2.4\n",
    "\n",
    "Assign a value to a string.\n",
    "\n",
    "Assign values to a set.\n",
    "\n",
    "Check if the string is in the set."
   ]
  },
  {
   "cell_type": "code",
   "execution_count": 21,
   "id": "812bd975-8936-495a-a825-0ddce80a924f",
   "metadata": {
    "slideshow": {
     "slide_type": "subslide"
    },
    "tags": []
   },
   "outputs": [
    {
     "data": {
      "text/plain": [
       "True"
      ]
     },
     "execution_count": 21,
     "metadata": {},
     "output_type": "execute_result"
    }
   ],
   "source": [
    "val = 'ERROR'\n",
    "levels = {'WARN','ERROR','CRITICAL'}\n",
    "\n",
    "val in levels"
   ]
  },
  {
   "cell_type": "markdown",
   "id": "135d5af5-f350-4658-80ed-2c5bb079faca",
   "metadata": {
    "slideshow": {
     "slide_type": "slide"
    }
   },
   "source": [
    "# Exercise 2.5\n",
    "\n",
    "Create a dictionary containing at least three key-value pairs.\n",
    "\n",
    "Use `get()` to index into the dictionary with one of the keys to extract the corresponding value.\n",
    "\n",
    "Show how to store the keys in a list. That is, cast the keys you extracted to a list."
   ]
  },
  {
   "cell_type": "code",
   "execution_count": 1,
   "id": "1ec3fdd1",
   "metadata": {
    "slideshow": {
     "slide_type": "subslide"
    },
    "tags": []
   },
   "outputs": [
    {
     "name": "stdout",
     "output_type": "stream",
     "text": [
      "name_age[joaquin]= 19\n"
     ]
    }
   ],
   "source": [
    "name_age = {'greg':15, 'annabel':22, 'joaquin':19}\n",
    "print('name_age[joaquin]=', name_age.get('joaquin'))"
   ]
  },
  {
   "cell_type": "code",
   "execution_count": 21,
   "id": "13ed1846-67c3-4e32-ba4e-104e2782ad02",
   "metadata": {
    "scrolled": true,
    "slideshow": {
     "slide_type": "fragment"
    },
    "tags": []
   },
   "outputs": [
    {
     "name": "stdout",
     "output_type": "stream",
     "text": [
      "names: ['greg', 'annabel', 'joaquin']\n"
     ]
    }
   ],
   "source": [
    "names = list(name_age.keys())\n",
    "print('names:', names)"
   ]
  },
  {
   "cell_type": "code",
   "execution_count": 20,
   "id": "c1524496",
   "metadata": {
    "slideshow": {
     "slide_type": "fragment"
    }
   },
   "outputs": [
    {
     "data": {
      "text/plain": [
       "(dict_keys, list)"
      ]
     },
     "execution_count": 20,
     "metadata": {},
     "output_type": "execute_result"
    }
   ],
   "source": [
    "type(name_age.keys()), type(names)"
   ]
  },
  {
   "cell_type": "markdown",
   "id": "aab54601-6110-47d0-b214-eba82d7167fb",
   "metadata": {
    "slideshow": {
     "slide_type": "slide"
    }
   },
   "source": [
    "# Exercise 2.6\n",
    "\n",
    "More often, ranges may be used without assignment.  \n",
    "\n",
    "What will this print?\n",
    "\n",
    "```python\n",
    "for rn in range(-5, 5, 2):\n",
    "    print(rn)\n",
    "```"
   ]
  },
  {
   "cell_type": "code",
   "execution_count": 5,
   "id": "650b69c4-4560-48fc-811f-1a44c0b26244",
   "metadata": {
    "slideshow": {
     "slide_type": "subslide"
    }
   },
   "outputs": [
    {
     "name": "stdout",
     "output_type": "stream",
     "text": [
      "-5\n",
      "-3\n",
      "-1\n",
      "1\n",
      "3\n"
     ]
    }
   ],
   "source": [
    "for rn in range(-5, 5, 2):\n",
    "    print(rn)"
   ]
  },
  {
   "cell_type": "markdown",
   "id": "1d287a79-1bfd-4343-bc9e-13b937157b17",
   "metadata": {
    "slideshow": {
     "slide_type": "slide"
    }
   },
   "source": [
    "# Exercise 2.7\n",
    "\n",
    "Define three variables of any type.\n",
    "\n",
    "Use `format()` to print a string containing each variable name followed by its value, using comma separators between the variables.\n",
    "\n",
    "For example:\n",
    "\n",
    "`epoch 1, mode TRAIN, ...`"
   ]
  },
  {
   "cell_type": "code",
   "execution_count": 15,
   "id": "df6ad169-62bc-4b7e-86fb-7cf4420c5570",
   "metadata": {
    "slideshow": {
     "slide_type": "subslide"
    }
   },
   "outputs": [
    {
     "name": "stdout",
     "output_type": "stream",
     "text": [
      "epoch 1, mode TRAIN, loss 0.46\n"
     ]
    }
   ],
   "source": [
    "epoch = 1\n",
    "mode = \"TRAIN\"\n",
    "loss = 0.46\n",
    "\n",
    "print(\"epoch {}, mode {}, loss {}\".format(epoch, mode, loss))"
   ]
  },
  {
   "cell_type": "markdown",
   "id": "04346af9-64fa-4ac7-a282-c7fba4a666fa",
   "metadata": {
    "slideshow": {
     "slide_type": "slide"
    }
   },
   "source": [
    "# Exercise 2.8 \n",
    "\n",
    "Define a list containing one each of: integer, float, bool, string\n",
    "\n",
    "Print the length of the list using `len()`"
   ]
  },
  {
   "cell_type": "code",
   "execution_count": 23,
   "id": "01cf7d27-57fb-45b8-a32b-0ff1f2be79da",
   "metadata": {
    "slideshow": {
     "slide_type": "subslide"
    },
    "tags": []
   },
   "outputs": [
    {
     "name": "stdout",
     "output_type": "stream",
     "text": [
      "4\n"
     ]
    }
   ],
   "source": [
    "mylist = [4, 2.2, False, 'fancy']\n",
    "\n",
    "print(len(mylist))"
   ]
  },
  {
   "cell_type": "markdown",
   "id": "04b2acca-a07f-436d-afde-30d58d66a2de",
   "metadata": {
    "slideshow": {
     "slide_type": "slide"
    }
   },
   "source": [
    "# Exercise 2.9\n",
    "\n",
    "Write a `for` loop to iterate over the list, printing the val and `type()` of each element."
   ]
  },
  {
   "cell_type": "code",
   "execution_count": 24,
   "id": "0772e9c0-9802-4c6e-bbf8-71826956f414",
   "metadata": {
    "slideshow": {
     "slide_type": "subslide"
    },
    "tags": []
   },
   "outputs": [
    {
     "name": "stdout",
     "output_type": "stream",
     "text": [
      "4 <class 'int'>\n",
      "2.2 <class 'float'>\n",
      "False <class 'bool'>\n",
      "fancy <class 'str'>\n"
     ]
    }
   ],
   "source": [
    "for val in mylist:\n",
    "    print(val, type(val))"
   ]
  },
  {
   "cell_type": "markdown",
   "id": "3a8002ba-a9ca-4ed3-9b32-1cd05e378441",
   "metadata": {
    "slideshow": {
     "slide_type": "slide"
    },
    "tags": []
   },
   "source": [
    "# Exercise 2.10\n",
    "\n",
    "Define two variables, assigning them integer values. \n",
    "\n",
    "Write an arithmetic operation using the variables to produce an integer.  \n",
    "\n",
    "Next, use a logical operation that uses the integer to produce a `False` result. \n",
    "\n",
    "Print the result with `print()`."
   ]
  },
  {
   "cell_type": "code",
   "execution_count": 8,
   "id": "d44bface-026b-439f-9e15-e150cb6b8cb3",
   "metadata": {
    "slideshow": {
     "slide_type": "subslide"
    },
    "tags": []
   },
   "outputs": [
    {
     "name": "stdout",
     "output_type": "stream",
     "text": [
      "False\n"
     ]
    }
   ],
   "source": [
    "test1 = 3\n",
    "test2 = 5\n",
    "val = test1 - test2\n",
    "\n",
    "print(val > 0)"
   ]
  },
  {
   "cell_type": "markdown",
   "id": "386017a7-e255-4bd3-b8a0-bac236858f5f",
   "metadata": {
    "slideshow": {
     "slide_type": "slide"
    }
   },
   "source": [
    "# Exercise 2.11\n",
    "\n",
    "Define two variables, assigning them floating point values. \n",
    "\n",
    "Write an arithmetic operation using the variables to produce an integer.  \n",
    "\n",
    "Next, use a logical operation that uses the integer to produce a False result. Print the result with `print()`"
   ]
  },
  {
   "cell_type": "code",
   "execution_count": 14,
   "id": "bc6da51b",
   "metadata": {
    "slideshow": {
     "slide_type": "subslide"
    }
   },
   "outputs": [
    {
     "name": "stdout",
     "output_type": "stream",
     "text": [
      "False\n"
     ]
    }
   ],
   "source": [
    "var1 = 1.5\n",
    "var2 = 20\n",
    "var3 = 1.5 // 20\n",
    "test = var3 < 0\n",
    "\n",
    "print(test)"
   ]
  }
 ],
 "metadata": {
  "celltoolbar": "Slideshow",
  "kernelspec": {
   "display_name": "Python 3 (ipykernel)",
   "language": "python",
   "name": "python3"
  },
  "language_info": {
   "codemirror_mode": {
    "name": "ipython",
    "version": 3
   },
   "file_extension": ".py",
   "mimetype": "text/x-python",
   "name": "python",
   "nbconvert_exporter": "python",
   "pygments_lexer": "ipython3",
   "version": "3.8.3"
  },
  "latex_envs": {
   "LaTeX_envs_menu_present": true,
   "autoclose": false,
   "autocomplete": true,
   "bibliofile": "biblio.bib",
   "cite_by": "apalike",
   "current_citInitial": 1,
   "eqLabelWithNumbers": true,
   "eqNumInitial": 1,
   "hotkeys": {
    "equation": "Ctrl-E",
    "itemize": "Ctrl-I"
   },
   "labels_anchors": false,
   "latex_user_defs": false,
   "report_style_numbering": false,
   "user_envs_cfg": false
  },
  "toc": {
   "base_numbering": 1,
   "nav_menu": {},
   "number_sections": false,
   "sideBar": true,
   "skip_h1_title": false,
   "title_cell": "Table of Contents",
   "title_sidebar": "Contents",
   "toc_cell": false,
   "toc_position": {},
   "toc_section_display": true,
   "toc_window_display": false
  },
  "varInspector": {
   "cols": {
    "lenName": 16,
    "lenType": 16,
    "lenVar": 40
   },
   "kernels_config": {
    "python": {
     "delete_cmd_postfix": "",
     "delete_cmd_prefix": "del ",
     "library": "var_list.py",
     "varRefreshCmd": "print(var_dic_list())"
    },
    "r": {
     "delete_cmd_postfix": ") ",
     "delete_cmd_prefix": "rm(",
     "library": "var_list.r",
     "varRefreshCmd": "cat(var_dic_list()) "
    }
   },
   "types_to_exclude": [
    "module",
    "function",
    "builtin_function_or_method",
    "instance",
    "_Feature"
   ],
   "window_display": false
  },
  "widgets": {
   "application/vnd.jupyter.widget-state+json": {
    "state": {},
    "version_major": 2,
    "version_minor": 0
   }
  }
 },
 "nbformat": 4,
 "nbformat_minor": 5
}
